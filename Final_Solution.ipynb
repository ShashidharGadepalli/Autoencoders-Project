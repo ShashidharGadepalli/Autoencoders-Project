{
  "cells": [
    {
      "cell_type": "code",
      "execution_count": null,
      "metadata": {
        "id": "DrFF3-4UVpaF"
      },
      "outputs": [],
      "source": [
        "import pandas as pd\n",
        "import numpy as np\n",
        "import seaborn as sns\n",
        "import matplotlib.pyplot as plt"
      ]
    },
    {
      "cell_type": "markdown",
      "source": [
        "### Use the below cell if you want to import data from drive , make sure that it is saved in my drive "
      ],
      "metadata": {
        "id": "CYTmnbKO3Vz3"
      }
    },
    {
      "cell_type": "code",
      "execution_count": null,
      "metadata": {
        "colab": {
          "base_uri": "https://localhost:8080/",
          "height": 37
        },
        "id": "YJttLSeKD4ZZ",
        "outputId": "bbaa89cc-8190-49d7-fac9-e4a453d7030a"
      },
      "outputs": [
        {
          "output_type": "execute_result",
          "data": {
            "application/vnd.google.colaboratory.intrinsic+json": {
              "type": "string"
            },
            "text/plain": [
              "\"\\nfrom google.colab import drive\\ndrive.mount('/content/drive')\\n\""
            ]
          },
          "metadata": {},
          "execution_count": 2
        }
      ],
      "source": [
        "\"\"\"\n",
        "from google.colab import drive\n",
        "drive.mount('/content/drive')\n",
        "\"\"\""
      ]
    },
    {
      "cell_type": "code",
      "execution_count": null,
      "metadata": {
        "id": "Z52fIDuTVs1O"
      },
      "outputs": [],
      "source": [
        "# use the below commented line if you have run the previous cell otherwise go with data loading method.\n",
        "#c3 = pd.read_excel('drive/MyDrive/1.8 transposed.xlsx',engine='openpyxl') \n",
        "c3 = pd.read_excel('Test Dataset.xlsx',engine='openpyxl')"
      ]
    },
    {
      "cell_type": "markdown",
      "source": [
        "### DATA PROCESSING AND CLEANING"
      ],
      "metadata": {
        "id": "fR1pmLva31f0"
      }
    },
    {
      "cell_type": "code",
      "source": [
        "c3 = c3.iloc[1: , :]"
      ],
      "metadata": {
        "id": "DaA1I6B99Q64"
      },
      "execution_count": null,
      "outputs": []
    },
    {
      "cell_type": "code",
      "source": [
        "c3 = c3.reset_index()"
      ],
      "metadata": {
        "id": "K0if5HZ58kcX"
      },
      "execution_count": null,
      "outputs": []
    },
    {
      "cell_type": "code",
      "source": [
        "c3.head()"
      ],
      "metadata": {
        "colab": {
          "base_uri": "https://localhost:8080/",
          "height": 365
        },
        "id": "p_M3awlQ8ovl",
        "outputId": "6b6cbc8d-53c8-4e40-d074-156a4599c26d"
      },
      "execution_count": null,
      "outputs": [
        {
          "output_type": "execute_result",
          "data": {
            "text/html": [
              "\n",
              "  <div id=\"df-14a9900a-3f94-450c-a81a-32f5c1ab36cf\">\n",
              "    <div class=\"colab-df-container\">\n",
              "      <div>\n",
              "<style scoped>\n",
              "    .dataframe tbody tr th:only-of-type {\n",
              "        vertical-align: middle;\n",
              "    }\n",
              "\n",
              "    .dataframe tbody tr th {\n",
              "        vertical-align: top;\n",
              "    }\n",
              "\n",
              "    .dataframe thead th {\n",
              "        text-align: right;\n",
              "    }\n",
              "</style>\n",
              "<table border=\"1\" class=\"dataframe\">\n",
              "  <thead>\n",
              "    <tr style=\"text-align: right;\">\n",
              "      <th></th>\n",
              "      <th>index</th>\n",
              "      <th>AccelerationDecelerationOsc</th>\n",
              "      <th>ADXR (14, EXPONENTIAL)</th>\n",
              "      <th>ADXR (14, EXPONENTIAL).1</th>\n",
              "      <th>ADXR (14, HULL)</th>\n",
              "      <th>ADXR (14, HULL).1</th>\n",
              "      <th>ADXR (14, SIMPLE)</th>\n",
              "      <th>ADXR (14, SIMPLE).1</th>\n",
              "      <th>ADXR (14, WEIGHTED)</th>\n",
              "      <th>ADXR (14, WEIGHTED).1</th>\n",
              "      <th>ADXR (14, WILDERS)</th>\n",
              "      <th>ADXR (14, WILDERS).1</th>\n",
              "      <th>ADXR (6, EXPONENTIAL)</th>\n",
              "      <th>ADXR (6, EXPONENTIAL).1</th>\n",
              "      <th>ADXR (6, HULL)</th>\n",
              "      <th>ADXR (6, HULL).1</th>\n",
              "      <th>ADXR (6, SIMPLE)</th>\n",
              "      <th>ADXR (6, SIMPLE).1</th>\n",
              "      <th>ADXR (6, WEIGHTED)</th>\n",
              "      <th>ADXR (6, WEIGHTED).1</th>\n",
              "      <th>ADXR (6, WILDERS)</th>\n",
              "      <th>ADXR (6, WILDERS).1</th>\n",
              "      <th>AM_Detector (4, 8, EXPONENTIAL)</th>\n",
              "      <th>AM_Detector (4, 8, HULL)</th>\n",
              "      <th>AM_Detector (4, 8, SIMPLE)</th>\n",
              "      <th>AM_Detector (4, 8, WEIGHTED)</th>\n",
              "      <th>AM_Detector (4, 8, WILDERS)</th>\n",
              "      <th>APTR (14, EXPONENTIAL)</th>\n",
              "      <th>APTR (14, HULL)</th>\n",
              "      <th>APTR (14, SIMPLE)</th>\n",
              "      <th>APTR (14, WEIGHTED)</th>\n",
              "      <th>APTR (14, WILDERS)</th>\n",
              "      <th>APTR (5, EXPONENTIAL)</th>\n",
              "      <th>APTR (5, HULL)</th>\n",
              "      <th>APTR (5, SIMPLE)</th>\n",
              "      <th>APTR (5, WEIGHTED)</th>\n",
              "      <th>APTR (5, WILDERS)</th>\n",
              "      <th>AroonIndicator (25)</th>\n",
              "      <th>AroonIndicator (25).1</th>\n",
              "      <th>AroonIndicator (8)</th>\n",
              "      <th>...</th>\n",
              "      <th>SVEZLRBPercB (OHLC4, 18, 3, 2.0, 30, 3)</th>\n",
              "      <th>SVEZLRBPercB (OHLC4, 9, 3, 2.0, 30, 3)</th>\n",
              "      <th>SVEZLRBPercB (OHLC4, 9, 3, 2.0, 30, 3).1</th>\n",
              "      <th>TRIX (6, 10, CLOSE, 3)</th>\n",
              "      <th>TRIX (6, 10, CLOSE, 3).1</th>\n",
              "      <th>TRIX (6, 10, OHLC4, 3)</th>\n",
              "      <th>TRIX (6, 10, OHLC4, 3).1</th>\n",
              "      <th>TRIX (9, 14, CLOSE, 3)</th>\n",
              "      <th>TRIX (9, 14, CLOSE, 3).1</th>\n",
              "      <th>TRIX (9, 14, OHLC4, 3)</th>\n",
              "      <th>TRIX (9, 14, OHLC4, 3).1</th>\n",
              "      <th>UlcerIndex (CLOSE, 14, 5)</th>\n",
              "      <th>UlcerIndex (OHLC4, 14, 5)</th>\n",
              "      <th>UlcerIndex (OHLC4, 5, 5)</th>\n",
              "      <th>UlcerIndex (OHLC4, 9, 5)</th>\n",
              "      <th>VolatilitySwitch (OHLC4, 21)</th>\n",
              "      <th>DemandIndexDiffAbsnPct (3, 4, 252, 65, 53)</th>\n",
              "      <th>DemandIndexDiffAbsnPct (3, 4, 252, 65, 53).1</th>\n",
              "      <th>DemandIndexDiffAbsnPct (4, 4, 252, 2, 1)</th>\n",
              "      <th>DemandIndexDiffAbsnPct (4, 4, 252, 2, 1).1</th>\n",
              "      <th>DemandIndexDiffAbsnPct (6, 6, 252, 10, 9)</th>\n",
              "      <th>DemandIndexDiffAbsnPct (6, 6, 252, 10, 9).1</th>\n",
              "      <th>DemandIndexDiffAbsnPct (3, 5, 252, 15, 14)</th>\n",
              "      <th>DemandIndexDiffAbsnPct (3, 5, 252, 15, 14).1</th>\n",
              "      <th>DemandIndexDiffAbsnPct (3, 6, 252, 32, 30)</th>\n",
              "      <th>DemandIndexDiffAbsnPct (3, 6, 252, 32, 30).1</th>\n",
              "      <th>DemandIndexDiffAbsnPct (4, 6, 252, 28, 21)</th>\n",
              "      <th>DemandIndexDiffAbsnPct (4, 6, 252, 28, 21).1</th>\n",
              "      <th>DemandIndexDiffAbsnPct (2, 5, 252, 44, 42)</th>\n",
              "      <th>DemandIndexDiffAbsnPct (2, 5, 252, 44, 42).1</th>\n",
              "      <th>DemandIndexDiffAbsnPct (2, 6, 252, 45, 32)</th>\n",
              "      <th>DemandIndexDiffAbsnPct (2, 6, 252, 45, 32).1</th>\n",
              "      <th>DemandIndexDiffAbsnPct (2, 4, 252, 76, 20)</th>\n",
              "      <th>DemandIndexDiffAbsnPct (2, 4, 252, 76, 20).1</th>\n",
              "      <th>DemandIndexDiffAbsnPct (4, 5, 252, 72, 31)</th>\n",
              "      <th>DemandIndexDiffAbsnPct (4, 5, 252, 72, 31).1</th>\n",
              "      <th>UniversalOscillatorAdapted (5)</th>\n",
              "      <th>TrendQuality (3, 6, 2, squared, 250, 2)</th>\n",
              "      <th>TrendNoiseBalance (3, 6, 2, squared, 25</th>\n",
              "      <th>Output</th>\n",
              "    </tr>\n",
              "  </thead>\n",
              "  <tbody>\n",
              "    <tr>\n",
              "      <th>0</th>\n",
              "      <td>1</td>\n",
              "      <td>0.137647</td>\n",
              "      <td>25.5711</td>\n",
              "      <td>26.7367</td>\n",
              "      <td>72.3316</td>\n",
              "      <td>120.773</td>\n",
              "      <td>22.8921</td>\n",
              "      <td>17.5971</td>\n",
              "      <td>24.2852</td>\n",
              "      <td>24.6344</td>\n",
              "      <td>15.5861</td>\n",
              "      <td>16.1706</td>\n",
              "      <td>45.5787</td>\n",
              "      <td>42.5323</td>\n",
              "      <td>130.108</td>\n",
              "      <td>111.536</td>\n",
              "      <td>51.3803</td>\n",
              "      <td>42.7372</td>\n",
              "      <td>59.7857</td>\n",
              "      <td>54.9576</td>\n",
              "      <td>30.3633</td>\n",
              "      <td>27.3191</td>\n",
              "      <td>0.526577</td>\n",
              "      <td>0.587106</td>\n",
              "      <td>0.48125</td>\n",
              "      <td>0.514861</td>\n",
              "      <td>0.519352</td>\n",
              "      <td>1.79639</td>\n",
              "      <td>1.66683</td>\n",
              "      <td>1.77741</td>\n",
              "      <td>1.75972</td>\n",
              "      <td>1.9313</td>\n",
              "      <td>1.71961</td>\n",
              "      <td>1.60123</td>\n",
              "      <td>1.60553</td>\n",
              "      <td>1.6707</td>\n",
              "      <td>1.74647</td>\n",
              "      <td>87.5</td>\n",
              "      <td>8.33333</td>\n",
              "      <td>57.1429</td>\n",
              "      <td>...</td>\n",
              "      <td>83.8649</td>\n",
              "      <td>77.2982</td>\n",
              "      <td>74.2708</td>\n",
              "      <td>25.5696</td>\n",
              "      <td>25.0415</td>\n",
              "      <td>23.5406</td>\n",
              "      <td>21.8643</td>\n",
              "      <td>18.684</td>\n",
              "      <td>17.3073</td>\n",
              "      <td>16.9594</td>\n",
              "      <td>15.5392</td>\n",
              "      <td>1.88549</td>\n",
              "      <td>1.55518</td>\n",
              "      <td>0.451686</td>\n",
              "      <td>0.357414</td>\n",
              "      <td>0.142857</td>\n",
              "      <td>-0.43</td>\n",
              "      <td>12.3</td>\n",
              "      <td>-0.36</td>\n",
              "      <td>19.84</td>\n",
              "      <td>-0.16</td>\n",
              "      <td>28.17</td>\n",
              "      <td>-0.33</td>\n",
              "      <td>14.29</td>\n",
              "      <td>-0.26</td>\n",
              "      <td>15.08</td>\n",
              "      <td>-0.17</td>\n",
              "      <td>27.78</td>\n",
              "      <td>-0.25</td>\n",
              "      <td>14.68</td>\n",
              "      <td>-0.2</td>\n",
              "      <td>15.08</td>\n",
              "      <td>-0.32</td>\n",
              "      <td>14.29</td>\n",
              "      <td>-0.25</td>\n",
              "      <td>24.6</td>\n",
              "      <td>-6.80911</td>\n",
              "      <td>0.855793</td>\n",
              "      <td>46.1147</td>\n",
              "      <td>2</td>\n",
              "    </tr>\n",
              "    <tr>\n",
              "      <th>1</th>\n",
              "      <td>2</td>\n",
              "      <td>-0.033494</td>\n",
              "      <td>23.4247</td>\n",
              "      <td>26.5811</td>\n",
              "      <td>72.7467</td>\n",
              "      <td>127.846</td>\n",
              "      <td>23.0277</td>\n",
              "      <td>17.1001</td>\n",
              "      <td>21.849</td>\n",
              "      <td>25.7778</td>\n",
              "      <td>14.6454</td>\n",
              "      <td>15.9258</td>\n",
              "      <td>46.513</td>\n",
              "      <td>44.2845</td>\n",
              "      <td>151.519</td>\n",
              "      <td>125.447</td>\n",
              "      <td>49.9953</td>\n",
              "      <td>44.5441</td>\n",
              "      <td>59.316</td>\n",
              "      <td>56.0892</td>\n",
              "      <td>28.2763</td>\n",
              "      <td>27.0152</td>\n",
              "      <td>0.476227</td>\n",
              "      <td>0.518255</td>\n",
              "      <td>0.466875</td>\n",
              "      <td>0.474583</td>\n",
              "      <td>0.491933</td>\n",
              "      <td>1.77059</td>\n",
              "      <td>1.60862</td>\n",
              "      <td>1.76896</td>\n",
              "      <td>1.73645</td>\n",
              "      <td>1.90784</td>\n",
              "      <td>1.68071</td>\n",
              "      <td>1.62079</td>\n",
              "      <td>1.72877</td>\n",
              "      <td>1.66982</td>\n",
              "      <td>1.71775</td>\n",
              "      <td>83.3333</td>\n",
              "      <td>4.16667</td>\n",
              "      <td>42.8571</td>\n",
              "      <td>...</td>\n",
              "      <td>78.0689</td>\n",
              "      <td>64.3232</td>\n",
              "      <td>79.719</td>\n",
              "      <td>18.3414</td>\n",
              "      <td>21.6914</td>\n",
              "      <td>18.6672</td>\n",
              "      <td>20.2657</td>\n",
              "      <td>17.1986</td>\n",
              "      <td>17.253</td>\n",
              "      <td>16.2204</td>\n",
              "      <td>15.8798</td>\n",
              "      <td>2.01696</td>\n",
              "      <td>1.64622</td>\n",
              "      <td>1.01</td>\n",
              "      <td>0.762314</td>\n",
              "      <td>0.190476</td>\n",
              "      <td>-0.56</td>\n",
              "      <td>5.16</td>\n",
              "      <td>-0.68</td>\n",
              "      <td>4.37</td>\n",
              "      <td>-0.22</td>\n",
              "      <td>24.6</td>\n",
              "      <td>-0.47</td>\n",
              "      <td>5.16</td>\n",
              "      <td>-0.39</td>\n",
              "      <td>6.35</td>\n",
              "      <td>-0.45</td>\n",
              "      <td>4.76</td>\n",
              "      <td>-0.45</td>\n",
              "      <td>2.78</td>\n",
              "      <td>-0.37</td>\n",
              "      <td>4.76</td>\n",
              "      <td>-0.54</td>\n",
              "      <td>3.17</td>\n",
              "      <td>-0.55</td>\n",
              "      <td>4.37</td>\n",
              "      <td>-10.52</td>\n",
              "      <td>0</td>\n",
              "      <td>0</td>\n",
              "      <td>2</td>\n",
              "    </tr>\n",
              "    <tr>\n",
              "      <th>2</th>\n",
              "      <td>3</td>\n",
              "      <td>-0.162101</td>\n",
              "      <td>21.4099</td>\n",
              "      <td>24.0514</td>\n",
              "      <td>72.277</td>\n",
              "      <td>122.001</td>\n",
              "      <td>23.4036</td>\n",
              "      <td>16.7062</td>\n",
              "      <td>19.6478</td>\n",
              "      <td>24.46</td>\n",
              "      <td>13.8059</td>\n",
              "      <td>15.1846</td>\n",
              "      <td>46.0388</td>\n",
              "      <td>47.5608</td>\n",
              "      <td>149.947</td>\n",
              "      <td>118.901</td>\n",
              "      <td>48.1497</td>\n",
              "      <td>45.1516</td>\n",
              "      <td>62.2058</td>\n",
              "      <td>61.0969</td>\n",
              "      <td>26.2639</td>\n",
              "      <td>27.8222</td>\n",
              "      <td>0.437065</td>\n",
              "      <td>0.405912</td>\n",
              "      <td>0.4525</td>\n",
              "      <td>0.4375</td>\n",
              "      <td>0.467941</td>\n",
              "      <td>1.69131</td>\n",
              "      <td>1.51653</td>\n",
              "      <td>1.7762</td>\n",
              "      <td>1.65739</td>\n",
              "      <td>1.85556</td>\n",
              "      <td>1.51247</td>\n",
              "      <td>1.54392</td>\n",
              "      <td>1.52428</td>\n",
              "      <td>1.48556</td>\n",
              "      <td>1.6094</td>\n",
              "      <td>79.1667</td>\n",
              "      <td>0</td>\n",
              "      <td>28.5714</td>\n",
              "      <td>...</td>\n",
              "      <td>65.3364</td>\n",
              "      <td>50.1228</td>\n",
              "      <td>84.5884</td>\n",
              "      <td>10.9921</td>\n",
              "      <td>16.3418</td>\n",
              "      <td>12.7403</td>\n",
              "      <td>16.503</td>\n",
              "      <td>14.9035</td>\n",
              "      <td>16.0782</td>\n",
              "      <td>14.5715</td>\n",
              "      <td>15.2256</td>\n",
              "      <td>1.15588</td>\n",
              "      <td>1.09839</td>\n",
              "      <td>1.35506</td>\n",
              "      <td>1.0171</td>\n",
              "      <td>0.047619</td>\n",
              "      <td>-0.4</td>\n",
              "      <td>15.87</td>\n",
              "      <td>-0.42</td>\n",
              "      <td>17.06</td>\n",
              "      <td>-0.28</td>\n",
              "      <td>21.03</td>\n",
              "      <td>-0.34</td>\n",
              "      <td>13.1</td>\n",
              "      <td>-0.3</td>\n",
              "      <td>13.49</td>\n",
              "      <td>-0.31</td>\n",
              "      <td>15.87</td>\n",
              "      <td>-0.12</td>\n",
              "      <td>30.56</td>\n",
              "      <td>-0.11</td>\n",
              "      <td>26.59</td>\n",
              "      <td>-0.1</td>\n",
              "      <td>36.51</td>\n",
              "      <td>-0.37</td>\n",
              "      <td>15.87</td>\n",
              "      <td>-10.52</td>\n",
              "      <td>0.157742</td>\n",
              "      <td>13.625</td>\n",
              "      <td>2</td>\n",
              "    </tr>\n",
              "    <tr>\n",
              "      <th>3</th>\n",
              "      <td>4</td>\n",
              "      <td>-0.17717</td>\n",
              "      <td>21.0432</td>\n",
              "      <td>22.1715</td>\n",
              "      <td>67.1457</td>\n",
              "      <td>105.226</td>\n",
              "      <td>24.3401</td>\n",
              "      <td>18.3853</td>\n",
              "      <td>20.132</td>\n",
              "      <td>24.1238</td>\n",
              "      <td>13.8897</td>\n",
              "      <td>14.7869</td>\n",
              "      <td>40.9675</td>\n",
              "      <td>47.5347</td>\n",
              "      <td>95.3943</td>\n",
              "      <td>89.6295</td>\n",
              "      <td>37.7028</td>\n",
              "      <td>41.4585</td>\n",
              "      <td>45.5275</td>\n",
              "      <td>56.1488</td>\n",
              "      <td>25.2246</td>\n",
              "      <td>28.8134</td>\n",
              "      <td>0.43994</td>\n",
              "      <td>0.346597</td>\n",
              "      <td>0.46</td>\n",
              "      <td>0.436944</td>\n",
              "      <td>0.465699</td>\n",
              "      <td>1.79237</td>\n",
              "      <td>1.60776</td>\n",
              "      <td>1.74544</td>\n",
              "      <td>1.74713</td>\n",
              "      <td>1.89797</td>\n",
              "      <td>1.82472</td>\n",
              "      <td>1.74002</td>\n",
              "      <td>1.67001</td>\n",
              "      <td>1.79388</td>\n",
              "      <td>1.77737</td>\n",
              "      <td>75</td>\n",
              "      <td>0</td>\n",
              "      <td>14.2857</td>\n",
              "      <td>...</td>\n",
              "      <td>57.3675</td>\n",
              "      <td>40.9998</td>\n",
              "      <td>90.8528</td>\n",
              "      <td>9.61573</td>\n",
              "      <td>12.9788</td>\n",
              "      <td>10.4036</td>\n",
              "      <td>13.4533</td>\n",
              "      <td>13.9652</td>\n",
              "      <td>15.0217</td>\n",
              "      <td>13.5736</td>\n",
              "      <td>14.3996</td>\n",
              "      <td>1.14563</td>\n",
              "      <td>0.848827</td>\n",
              "      <td>1.39176</td>\n",
              "      <td>1.03736</td>\n",
              "      <td>0.047619</td>\n",
              "      <td>0.24</td>\n",
              "      <td>72.22</td>\n",
              "      <td>-0.06</td>\n",
              "      <td>44.05</td>\n",
              "      <td>-0.14</td>\n",
              "      <td>30.16</td>\n",
              "      <td>0.16</td>\n",
              "      <td>65.87</td>\n",
              "      <td>0.12</td>\n",
              "      <td>63.89</td>\n",
              "      <td>-0.07</td>\n",
              "      <td>41.27</td>\n",
              "      <td>0.38</td>\n",
              "      <td>93.65</td>\n",
              "      <td>0.31</td>\n",
              "      <td>94.05</td>\n",
              "      <td>0.49</td>\n",
              "      <td>94.05</td>\n",
              "      <td>-0.07</td>\n",
              "      <td>41.67</td>\n",
              "      <td>-1.02761</td>\n",
              "      <td>0</td>\n",
              "      <td>0</td>\n",
              "      <td>2</td>\n",
              "    </tr>\n",
              "    <tr>\n",
              "      <th>4</th>\n",
              "      <td>5</td>\n",
              "      <td>-0.086403</td>\n",
              "      <td>21.9986</td>\n",
              "      <td>22.1178</td>\n",
              "      <td>55.2846</td>\n",
              "      <td>84.0961</td>\n",
              "      <td>23.9898</td>\n",
              "      <td>18.7492</td>\n",
              "      <td>21.9421</td>\n",
              "      <td>23.4831</td>\n",
              "      <td>14.3223</td>\n",
              "      <td>14.549</td>\n",
              "      <td>42.3966</td>\n",
              "      <td>50.0418</td>\n",
              "      <td>66.3888</td>\n",
              "      <td>83.0938</td>\n",
              "      <td>24.2181</td>\n",
              "      <td>37.837</td>\n",
              "      <td>40.2757</td>\n",
              "      <td>56.8215</td>\n",
              "      <td>26.326</td>\n",
              "      <td>30.6232</td>\n",
              "      <td>0.442175</td>\n",
              "      <td>0.352407</td>\n",
              "      <td>0.4675</td>\n",
              "      <td>0.434722</td>\n",
              "      <td>0.463736</td>\n",
              "      <td>1.73426</td>\n",
              "      <td>1.61847</td>\n",
              "      <td>1.74</td>\n",
              "      <td>1.69527</td>\n",
              "      <td>1.8593</td>\n",
              "      <td>1.66866</td>\n",
              "      <td>1.743</td>\n",
              "      <td>1.72242</td>\n",
              "      <td>1.68938</td>\n",
              "      <td>1.6932</td>\n",
              "      <td>100</td>\n",
              "      <td>0</td>\n",
              "      <td>100</td>\n",
              "      <td>...</td>\n",
              "      <td>61.9759</td>\n",
              "      <td>46.2133</td>\n",
              "      <td>96.295</td>\n",
              "      <td>13.007</td>\n",
              "      <td>12.9929</td>\n",
              "      <td>12.0334</td>\n",
              "      <td>12.7434</td>\n",
              "      <td>14.5795</td>\n",
              "      <td>14.8006</td>\n",
              "      <td>13.7404</td>\n",
              "      <td>14.07</td>\n",
              "      <td>1.10515</td>\n",
              "      <td>0.837897</td>\n",
              "      <td>0.645105</td>\n",
              "      <td>1.03736</td>\n",
              "      <td>0.095238</td>\n",
              "      <td>0.61</td>\n",
              "      <td>96.43</td>\n",
              "      <td>0.37</td>\n",
              "      <td>78.57</td>\n",
              "      <td>0.02</td>\n",
              "      <td>51.59</td>\n",
              "      <td>0.49</td>\n",
              "      <td>96.43</td>\n",
              "      <td>0.41</td>\n",
              "      <td>96.43</td>\n",
              "      <td>0.22</td>\n",
              "      <td>73.41</td>\n",
              "      <td>0.38</td>\n",
              "      <td>94.05</td>\n",
              "      <td>0.33</td>\n",
              "      <td>95.63</td>\n",
              "      <td>0.47</td>\n",
              "      <td>93.25</td>\n",
              "      <td>0.27</td>\n",
              "      <td>75</td>\n",
              "      <td>10.52</td>\n",
              "      <td>0.974461</td>\n",
              "      <td>49.3533</td>\n",
              "      <td>2</td>\n",
              "    </tr>\n",
              "  </tbody>\n",
              "</table>\n",
              "<p>5 rows × 1034 columns</p>\n",
              "</div>\n",
              "      <button class=\"colab-df-convert\" onclick=\"convertToInteractive('df-14a9900a-3f94-450c-a81a-32f5c1ab36cf')\"\n",
              "              title=\"Convert this dataframe to an interactive table.\"\n",
              "              style=\"display:none;\">\n",
              "        \n",
              "  <svg xmlns=\"http://www.w3.org/2000/svg\" height=\"24px\"viewBox=\"0 0 24 24\"\n",
              "       width=\"24px\">\n",
              "    <path d=\"M0 0h24v24H0V0z\" fill=\"none\"/>\n",
              "    <path d=\"M18.56 5.44l.94 2.06.94-2.06 2.06-.94-2.06-.94-.94-2.06-.94 2.06-2.06.94zm-11 1L8.5 8.5l.94-2.06 2.06-.94-2.06-.94L8.5 2.5l-.94 2.06-2.06.94zm10 10l.94 2.06.94-2.06 2.06-.94-2.06-.94-.94-2.06-.94 2.06-2.06.94z\"/><path d=\"M17.41 7.96l-1.37-1.37c-.4-.4-.92-.59-1.43-.59-.52 0-1.04.2-1.43.59L10.3 9.45l-7.72 7.72c-.78.78-.78 2.05 0 2.83L4 21.41c.39.39.9.59 1.41.59.51 0 1.02-.2 1.41-.59l7.78-7.78 2.81-2.81c.8-.78.8-2.07 0-2.86zM5.41 20L4 18.59l7.72-7.72 1.47 1.35L5.41 20z\"/>\n",
              "  </svg>\n",
              "      </button>\n",
              "      \n",
              "  <style>\n",
              "    .colab-df-container {\n",
              "      display:flex;\n",
              "      flex-wrap:wrap;\n",
              "      gap: 12px;\n",
              "    }\n",
              "\n",
              "    .colab-df-convert {\n",
              "      background-color: #E8F0FE;\n",
              "      border: none;\n",
              "      border-radius: 50%;\n",
              "      cursor: pointer;\n",
              "      display: none;\n",
              "      fill: #1967D2;\n",
              "      height: 32px;\n",
              "      padding: 0 0 0 0;\n",
              "      width: 32px;\n",
              "    }\n",
              "\n",
              "    .colab-df-convert:hover {\n",
              "      background-color: #E2EBFA;\n",
              "      box-shadow: 0px 1px 2px rgba(60, 64, 67, 0.3), 0px 1px 3px 1px rgba(60, 64, 67, 0.15);\n",
              "      fill: #174EA6;\n",
              "    }\n",
              "\n",
              "    [theme=dark] .colab-df-convert {\n",
              "      background-color: #3B4455;\n",
              "      fill: #D2E3FC;\n",
              "    }\n",
              "\n",
              "    [theme=dark] .colab-df-convert:hover {\n",
              "      background-color: #434B5C;\n",
              "      box-shadow: 0px 1px 3px 1px rgba(0, 0, 0, 0.15);\n",
              "      filter: drop-shadow(0px 1px 2px rgba(0, 0, 0, 0.3));\n",
              "      fill: #FFFFFF;\n",
              "    }\n",
              "  </style>\n",
              "\n",
              "      <script>\n",
              "        const buttonEl =\n",
              "          document.querySelector('#df-14a9900a-3f94-450c-a81a-32f5c1ab36cf button.colab-df-convert');\n",
              "        buttonEl.style.display =\n",
              "          google.colab.kernel.accessAllowed ? 'block' : 'none';\n",
              "\n",
              "        async function convertToInteractive(key) {\n",
              "          const element = document.querySelector('#df-14a9900a-3f94-450c-a81a-32f5c1ab36cf');\n",
              "          const dataTable =\n",
              "            await google.colab.kernel.invokeFunction('convertToInteractive',\n",
              "                                                     [key], {});\n",
              "          if (!dataTable) return;\n",
              "\n",
              "          const docLinkHtml = 'Like what you see? Visit the ' +\n",
              "            '<a target=\"_blank\" href=https://colab.research.google.com/notebooks/data_table.ipynb>data table notebook</a>'\n",
              "            + ' to learn more about interactive tables.';\n",
              "          element.innerHTML = '';\n",
              "          dataTable['output_type'] = 'display_data';\n",
              "          await google.colab.output.renderOutput(dataTable, element);\n",
              "          const docLink = document.createElement('div');\n",
              "          docLink.innerHTML = docLinkHtml;\n",
              "          element.appendChild(docLink);\n",
              "        }\n",
              "      </script>\n",
              "    </div>\n",
              "  </div>\n",
              "  "
            ],
            "text/plain": [
              "   index  ... Output\n",
              "0      1  ...      2\n",
              "1      2  ...      2\n",
              "2      3  ...      2\n",
              "3      4  ...      2\n",
              "4      5  ...      2\n",
              "\n",
              "[5 rows x 1034 columns]"
            ]
          },
          "metadata": {},
          "execution_count": 5
        }
      ]
    },
    {
      "cell_type": "code",
      "source": [
        "del c3['index']"
      ],
      "metadata": {
        "id": "ArWL-rWmD_f1"
      },
      "execution_count": null,
      "outputs": []
    },
    {
      "cell_type": "code",
      "source": [
        "c3['Date'] = pd.to_datetime(c3['Date'])"
      ],
      "metadata": {
        "id": "ujspaffHAEVu"
      },
      "execution_count": null,
      "outputs": []
    },
    {
      "cell_type": "code",
      "source": [
        "c3['Date']"
      ],
      "metadata": {
        "colab": {
          "base_uri": "https://localhost:8080/"
        },
        "id": "ilrIRfWZ9mFi",
        "outputId": "e9338e76-3347-4a48-9363-d234fa9e0697"
      },
      "execution_count": null,
      "outputs": [
        {
          "output_type": "execute_result",
          "data": {
            "text/plain": [
              "0      2013-10-07\n",
              "1      2013-10-08\n",
              "2      2013-10-09\n",
              "3      2013-10-10\n",
              "4      2013-10-11\n",
              "          ...    \n",
              "2022   2021-12-15\n",
              "2023   2021-12-27\n",
              "2024   2021-12-28\n",
              "2025   2021-12-29\n",
              "2026   2021-12-30\n",
              "Name: Date, Length: 2027, dtype: datetime64[ns]"
            ]
          },
          "metadata": {},
          "execution_count": 8
        }
      ]
    },
    {
      "cell_type": "code",
      "execution_count": null,
      "metadata": {
        "id": "Ai5vFvnxWplj"
      },
      "outputs": [],
      "source": [
        "c3['year'] = c3['Date'].dt.year\n",
        "c3['month'] = c3['Date'].dt.month"
      ]
    },
    {
      "cell_type": "code",
      "execution_count": null,
      "metadata": {
        "id": "SfsC3f9nWPtS"
      },
      "outputs": [],
      "source": [
        "del c3['Date']"
      ]
    },
    {
      "cell_type": "code",
      "source": [
        "c3.head()"
      ],
      "metadata": {
        "colab": {
          "base_uri": "https://localhost:8080/",
          "height": 365
        },
        "id": "kuRHoU00w14E",
        "outputId": "9fa1cc26-7d72-4306-e4fe-b78ab875fb55"
      },
      "execution_count": null,
      "outputs": [
        {
          "output_type": "execute_result",
          "data": {
            "text/html": [
              "\n",
              "  <div id=\"df-ea120270-d554-464c-8d5a-5c11cd616ee9\">\n",
              "    <div class=\"colab-df-container\">\n",
              "      <div>\n",
              "<style scoped>\n",
              "    .dataframe tbody tr th:only-of-type {\n",
              "        vertical-align: middle;\n",
              "    }\n",
              "\n",
              "    .dataframe tbody tr th {\n",
              "        vertical-align: top;\n",
              "    }\n",
              "\n",
              "    .dataframe thead th {\n",
              "        text-align: right;\n",
              "    }\n",
              "</style>\n",
              "<table border=\"1\" class=\"dataframe\">\n",
              "  <thead>\n",
              "    <tr style=\"text-align: right;\">\n",
              "      <th></th>\n",
              "      <th>AccelerationDecelerationOsc</th>\n",
              "      <th>ADXR (14, EXPONENTIAL)</th>\n",
              "      <th>ADXR (14, EXPONENTIAL).1</th>\n",
              "      <th>ADXR (14, HULL)</th>\n",
              "      <th>ADXR (14, HULL).1</th>\n",
              "      <th>ADXR (14, SIMPLE)</th>\n",
              "      <th>ADXR (14, SIMPLE).1</th>\n",
              "      <th>ADXR (14, WEIGHTED)</th>\n",
              "      <th>ADXR (14, WEIGHTED).1</th>\n",
              "      <th>ADXR (14, WILDERS)</th>\n",
              "      <th>ADXR (14, WILDERS).1</th>\n",
              "      <th>ADXR (6, EXPONENTIAL)</th>\n",
              "      <th>ADXR (6, EXPONENTIAL).1</th>\n",
              "      <th>ADXR (6, HULL)</th>\n",
              "      <th>ADXR (6, HULL).1</th>\n",
              "      <th>ADXR (6, SIMPLE)</th>\n",
              "      <th>ADXR (6, SIMPLE).1</th>\n",
              "      <th>ADXR (6, WEIGHTED)</th>\n",
              "      <th>ADXR (6, WEIGHTED).1</th>\n",
              "      <th>ADXR (6, WILDERS)</th>\n",
              "      <th>ADXR (6, WILDERS).1</th>\n",
              "      <th>AM_Detector (4, 8, EXPONENTIAL)</th>\n",
              "      <th>AM_Detector (4, 8, HULL)</th>\n",
              "      <th>AM_Detector (4, 8, SIMPLE)</th>\n",
              "      <th>AM_Detector (4, 8, WEIGHTED)</th>\n",
              "      <th>AM_Detector (4, 8, WILDERS)</th>\n",
              "      <th>APTR (14, EXPONENTIAL)</th>\n",
              "      <th>APTR (14, HULL)</th>\n",
              "      <th>APTR (14, SIMPLE)</th>\n",
              "      <th>APTR (14, WEIGHTED)</th>\n",
              "      <th>APTR (14, WILDERS)</th>\n",
              "      <th>APTR (5, EXPONENTIAL)</th>\n",
              "      <th>APTR (5, HULL)</th>\n",
              "      <th>APTR (5, SIMPLE)</th>\n",
              "      <th>APTR (5, WEIGHTED)</th>\n",
              "      <th>APTR (5, WILDERS)</th>\n",
              "      <th>AroonIndicator (25)</th>\n",
              "      <th>AroonIndicator (25).1</th>\n",
              "      <th>AroonIndicator (8)</th>\n",
              "      <th>AroonOscillator (25)</th>\n",
              "      <th>...</th>\n",
              "      <th>SVEZLRBPercB (OHLC4, 9, 3, 2.0, 30, 3).1</th>\n",
              "      <th>TRIX (6, 10, CLOSE, 3)</th>\n",
              "      <th>TRIX (6, 10, CLOSE, 3).1</th>\n",
              "      <th>TRIX (6, 10, OHLC4, 3)</th>\n",
              "      <th>TRIX (6, 10, OHLC4, 3).1</th>\n",
              "      <th>TRIX (9, 14, CLOSE, 3)</th>\n",
              "      <th>TRIX (9, 14, CLOSE, 3).1</th>\n",
              "      <th>TRIX (9, 14, OHLC4, 3)</th>\n",
              "      <th>TRIX (9, 14, OHLC4, 3).1</th>\n",
              "      <th>UlcerIndex (CLOSE, 14, 5)</th>\n",
              "      <th>UlcerIndex (OHLC4, 14, 5)</th>\n",
              "      <th>UlcerIndex (OHLC4, 5, 5)</th>\n",
              "      <th>UlcerIndex (OHLC4, 9, 5)</th>\n",
              "      <th>VolatilitySwitch (OHLC4, 21)</th>\n",
              "      <th>DemandIndexDiffAbsnPct (3, 4, 252, 65, 53)</th>\n",
              "      <th>DemandIndexDiffAbsnPct (3, 4, 252, 65, 53).1</th>\n",
              "      <th>DemandIndexDiffAbsnPct (4, 4, 252, 2, 1)</th>\n",
              "      <th>DemandIndexDiffAbsnPct (4, 4, 252, 2, 1).1</th>\n",
              "      <th>DemandIndexDiffAbsnPct (6, 6, 252, 10, 9)</th>\n",
              "      <th>DemandIndexDiffAbsnPct (6, 6, 252, 10, 9).1</th>\n",
              "      <th>DemandIndexDiffAbsnPct (3, 5, 252, 15, 14)</th>\n",
              "      <th>DemandIndexDiffAbsnPct (3, 5, 252, 15, 14).1</th>\n",
              "      <th>DemandIndexDiffAbsnPct (3, 6, 252, 32, 30)</th>\n",
              "      <th>DemandIndexDiffAbsnPct (3, 6, 252, 32, 30).1</th>\n",
              "      <th>DemandIndexDiffAbsnPct (4, 6, 252, 28, 21)</th>\n",
              "      <th>DemandIndexDiffAbsnPct (4, 6, 252, 28, 21).1</th>\n",
              "      <th>DemandIndexDiffAbsnPct (2, 5, 252, 44, 42)</th>\n",
              "      <th>DemandIndexDiffAbsnPct (2, 5, 252, 44, 42).1</th>\n",
              "      <th>DemandIndexDiffAbsnPct (2, 6, 252, 45, 32)</th>\n",
              "      <th>DemandIndexDiffAbsnPct (2, 6, 252, 45, 32).1</th>\n",
              "      <th>DemandIndexDiffAbsnPct (2, 4, 252, 76, 20)</th>\n",
              "      <th>DemandIndexDiffAbsnPct (2, 4, 252, 76, 20).1</th>\n",
              "      <th>DemandIndexDiffAbsnPct (4, 5, 252, 72, 31)</th>\n",
              "      <th>DemandIndexDiffAbsnPct (4, 5, 252, 72, 31).1</th>\n",
              "      <th>UniversalOscillatorAdapted (5)</th>\n",
              "      <th>TrendQuality (3, 6, 2, squared, 250, 2)</th>\n",
              "      <th>TrendNoiseBalance (3, 6, 2, squared, 25</th>\n",
              "      <th>Output</th>\n",
              "      <th>year</th>\n",
              "      <th>month</th>\n",
              "    </tr>\n",
              "  </thead>\n",
              "  <tbody>\n",
              "    <tr>\n",
              "      <th>0</th>\n",
              "      <td>0.137647</td>\n",
              "      <td>25.5711</td>\n",
              "      <td>26.7367</td>\n",
              "      <td>72.3316</td>\n",
              "      <td>120.773</td>\n",
              "      <td>22.8921</td>\n",
              "      <td>17.5971</td>\n",
              "      <td>24.2852</td>\n",
              "      <td>24.6344</td>\n",
              "      <td>15.5861</td>\n",
              "      <td>16.1706</td>\n",
              "      <td>45.5787</td>\n",
              "      <td>42.5323</td>\n",
              "      <td>130.108</td>\n",
              "      <td>111.536</td>\n",
              "      <td>51.3803</td>\n",
              "      <td>42.7372</td>\n",
              "      <td>59.7857</td>\n",
              "      <td>54.9576</td>\n",
              "      <td>30.3633</td>\n",
              "      <td>27.3191</td>\n",
              "      <td>0.526577</td>\n",
              "      <td>0.587106</td>\n",
              "      <td>0.48125</td>\n",
              "      <td>0.514861</td>\n",
              "      <td>0.519352</td>\n",
              "      <td>1.79639</td>\n",
              "      <td>1.66683</td>\n",
              "      <td>1.77741</td>\n",
              "      <td>1.75972</td>\n",
              "      <td>1.9313</td>\n",
              "      <td>1.71961</td>\n",
              "      <td>1.60123</td>\n",
              "      <td>1.60553</td>\n",
              "      <td>1.6707</td>\n",
              "      <td>1.74647</td>\n",
              "      <td>87.5</td>\n",
              "      <td>8.33333</td>\n",
              "      <td>57.1429</td>\n",
              "      <td>79.1667</td>\n",
              "      <td>...</td>\n",
              "      <td>74.2708</td>\n",
              "      <td>25.5696</td>\n",
              "      <td>25.0415</td>\n",
              "      <td>23.5406</td>\n",
              "      <td>21.8643</td>\n",
              "      <td>18.684</td>\n",
              "      <td>17.3073</td>\n",
              "      <td>16.9594</td>\n",
              "      <td>15.5392</td>\n",
              "      <td>1.88549</td>\n",
              "      <td>1.55518</td>\n",
              "      <td>0.451686</td>\n",
              "      <td>0.357414</td>\n",
              "      <td>0.142857</td>\n",
              "      <td>-0.43</td>\n",
              "      <td>12.3</td>\n",
              "      <td>-0.36</td>\n",
              "      <td>19.84</td>\n",
              "      <td>-0.16</td>\n",
              "      <td>28.17</td>\n",
              "      <td>-0.33</td>\n",
              "      <td>14.29</td>\n",
              "      <td>-0.26</td>\n",
              "      <td>15.08</td>\n",
              "      <td>-0.17</td>\n",
              "      <td>27.78</td>\n",
              "      <td>-0.25</td>\n",
              "      <td>14.68</td>\n",
              "      <td>-0.2</td>\n",
              "      <td>15.08</td>\n",
              "      <td>-0.32</td>\n",
              "      <td>14.29</td>\n",
              "      <td>-0.25</td>\n",
              "      <td>24.6</td>\n",
              "      <td>-6.80911</td>\n",
              "      <td>0.855793</td>\n",
              "      <td>46.1147</td>\n",
              "      <td>2</td>\n",
              "      <td>2013</td>\n",
              "      <td>10</td>\n",
              "    </tr>\n",
              "    <tr>\n",
              "      <th>1</th>\n",
              "      <td>-0.033494</td>\n",
              "      <td>23.4247</td>\n",
              "      <td>26.5811</td>\n",
              "      <td>72.7467</td>\n",
              "      <td>127.846</td>\n",
              "      <td>23.0277</td>\n",
              "      <td>17.1001</td>\n",
              "      <td>21.849</td>\n",
              "      <td>25.7778</td>\n",
              "      <td>14.6454</td>\n",
              "      <td>15.9258</td>\n",
              "      <td>46.513</td>\n",
              "      <td>44.2845</td>\n",
              "      <td>151.519</td>\n",
              "      <td>125.447</td>\n",
              "      <td>49.9953</td>\n",
              "      <td>44.5441</td>\n",
              "      <td>59.316</td>\n",
              "      <td>56.0892</td>\n",
              "      <td>28.2763</td>\n",
              "      <td>27.0152</td>\n",
              "      <td>0.476227</td>\n",
              "      <td>0.518255</td>\n",
              "      <td>0.466875</td>\n",
              "      <td>0.474583</td>\n",
              "      <td>0.491933</td>\n",
              "      <td>1.77059</td>\n",
              "      <td>1.60862</td>\n",
              "      <td>1.76896</td>\n",
              "      <td>1.73645</td>\n",
              "      <td>1.90784</td>\n",
              "      <td>1.68071</td>\n",
              "      <td>1.62079</td>\n",
              "      <td>1.72877</td>\n",
              "      <td>1.66982</td>\n",
              "      <td>1.71775</td>\n",
              "      <td>83.3333</td>\n",
              "      <td>4.16667</td>\n",
              "      <td>42.8571</td>\n",
              "      <td>79.1667</td>\n",
              "      <td>...</td>\n",
              "      <td>79.719</td>\n",
              "      <td>18.3414</td>\n",
              "      <td>21.6914</td>\n",
              "      <td>18.6672</td>\n",
              "      <td>20.2657</td>\n",
              "      <td>17.1986</td>\n",
              "      <td>17.253</td>\n",
              "      <td>16.2204</td>\n",
              "      <td>15.8798</td>\n",
              "      <td>2.01696</td>\n",
              "      <td>1.64622</td>\n",
              "      <td>1.01</td>\n",
              "      <td>0.762314</td>\n",
              "      <td>0.190476</td>\n",
              "      <td>-0.56</td>\n",
              "      <td>5.16</td>\n",
              "      <td>-0.68</td>\n",
              "      <td>4.37</td>\n",
              "      <td>-0.22</td>\n",
              "      <td>24.6</td>\n",
              "      <td>-0.47</td>\n",
              "      <td>5.16</td>\n",
              "      <td>-0.39</td>\n",
              "      <td>6.35</td>\n",
              "      <td>-0.45</td>\n",
              "      <td>4.76</td>\n",
              "      <td>-0.45</td>\n",
              "      <td>2.78</td>\n",
              "      <td>-0.37</td>\n",
              "      <td>4.76</td>\n",
              "      <td>-0.54</td>\n",
              "      <td>3.17</td>\n",
              "      <td>-0.55</td>\n",
              "      <td>4.37</td>\n",
              "      <td>-10.52</td>\n",
              "      <td>0</td>\n",
              "      <td>0</td>\n",
              "      <td>2</td>\n",
              "      <td>2013</td>\n",
              "      <td>10</td>\n",
              "    </tr>\n",
              "    <tr>\n",
              "      <th>2</th>\n",
              "      <td>-0.162101</td>\n",
              "      <td>21.4099</td>\n",
              "      <td>24.0514</td>\n",
              "      <td>72.277</td>\n",
              "      <td>122.001</td>\n",
              "      <td>23.4036</td>\n",
              "      <td>16.7062</td>\n",
              "      <td>19.6478</td>\n",
              "      <td>24.46</td>\n",
              "      <td>13.8059</td>\n",
              "      <td>15.1846</td>\n",
              "      <td>46.0388</td>\n",
              "      <td>47.5608</td>\n",
              "      <td>149.947</td>\n",
              "      <td>118.901</td>\n",
              "      <td>48.1497</td>\n",
              "      <td>45.1516</td>\n",
              "      <td>62.2058</td>\n",
              "      <td>61.0969</td>\n",
              "      <td>26.2639</td>\n",
              "      <td>27.8222</td>\n",
              "      <td>0.437065</td>\n",
              "      <td>0.405912</td>\n",
              "      <td>0.4525</td>\n",
              "      <td>0.4375</td>\n",
              "      <td>0.467941</td>\n",
              "      <td>1.69131</td>\n",
              "      <td>1.51653</td>\n",
              "      <td>1.7762</td>\n",
              "      <td>1.65739</td>\n",
              "      <td>1.85556</td>\n",
              "      <td>1.51247</td>\n",
              "      <td>1.54392</td>\n",
              "      <td>1.52428</td>\n",
              "      <td>1.48556</td>\n",
              "      <td>1.6094</td>\n",
              "      <td>79.1667</td>\n",
              "      <td>0</td>\n",
              "      <td>28.5714</td>\n",
              "      <td>79.1667</td>\n",
              "      <td>...</td>\n",
              "      <td>84.5884</td>\n",
              "      <td>10.9921</td>\n",
              "      <td>16.3418</td>\n",
              "      <td>12.7403</td>\n",
              "      <td>16.503</td>\n",
              "      <td>14.9035</td>\n",
              "      <td>16.0782</td>\n",
              "      <td>14.5715</td>\n",
              "      <td>15.2256</td>\n",
              "      <td>1.15588</td>\n",
              "      <td>1.09839</td>\n",
              "      <td>1.35506</td>\n",
              "      <td>1.0171</td>\n",
              "      <td>0.047619</td>\n",
              "      <td>-0.4</td>\n",
              "      <td>15.87</td>\n",
              "      <td>-0.42</td>\n",
              "      <td>17.06</td>\n",
              "      <td>-0.28</td>\n",
              "      <td>21.03</td>\n",
              "      <td>-0.34</td>\n",
              "      <td>13.1</td>\n",
              "      <td>-0.3</td>\n",
              "      <td>13.49</td>\n",
              "      <td>-0.31</td>\n",
              "      <td>15.87</td>\n",
              "      <td>-0.12</td>\n",
              "      <td>30.56</td>\n",
              "      <td>-0.11</td>\n",
              "      <td>26.59</td>\n",
              "      <td>-0.1</td>\n",
              "      <td>36.51</td>\n",
              "      <td>-0.37</td>\n",
              "      <td>15.87</td>\n",
              "      <td>-10.52</td>\n",
              "      <td>0.157742</td>\n",
              "      <td>13.625</td>\n",
              "      <td>2</td>\n",
              "      <td>2013</td>\n",
              "      <td>10</td>\n",
              "    </tr>\n",
              "    <tr>\n",
              "      <th>3</th>\n",
              "      <td>-0.17717</td>\n",
              "      <td>21.0432</td>\n",
              "      <td>22.1715</td>\n",
              "      <td>67.1457</td>\n",
              "      <td>105.226</td>\n",
              "      <td>24.3401</td>\n",
              "      <td>18.3853</td>\n",
              "      <td>20.132</td>\n",
              "      <td>24.1238</td>\n",
              "      <td>13.8897</td>\n",
              "      <td>14.7869</td>\n",
              "      <td>40.9675</td>\n",
              "      <td>47.5347</td>\n",
              "      <td>95.3943</td>\n",
              "      <td>89.6295</td>\n",
              "      <td>37.7028</td>\n",
              "      <td>41.4585</td>\n",
              "      <td>45.5275</td>\n",
              "      <td>56.1488</td>\n",
              "      <td>25.2246</td>\n",
              "      <td>28.8134</td>\n",
              "      <td>0.43994</td>\n",
              "      <td>0.346597</td>\n",
              "      <td>0.46</td>\n",
              "      <td>0.436944</td>\n",
              "      <td>0.465699</td>\n",
              "      <td>1.79237</td>\n",
              "      <td>1.60776</td>\n",
              "      <td>1.74544</td>\n",
              "      <td>1.74713</td>\n",
              "      <td>1.89797</td>\n",
              "      <td>1.82472</td>\n",
              "      <td>1.74002</td>\n",
              "      <td>1.67001</td>\n",
              "      <td>1.79388</td>\n",
              "      <td>1.77737</td>\n",
              "      <td>75</td>\n",
              "      <td>0</td>\n",
              "      <td>14.2857</td>\n",
              "      <td>75</td>\n",
              "      <td>...</td>\n",
              "      <td>90.8528</td>\n",
              "      <td>9.61573</td>\n",
              "      <td>12.9788</td>\n",
              "      <td>10.4036</td>\n",
              "      <td>13.4533</td>\n",
              "      <td>13.9652</td>\n",
              "      <td>15.0217</td>\n",
              "      <td>13.5736</td>\n",
              "      <td>14.3996</td>\n",
              "      <td>1.14563</td>\n",
              "      <td>0.848827</td>\n",
              "      <td>1.39176</td>\n",
              "      <td>1.03736</td>\n",
              "      <td>0.047619</td>\n",
              "      <td>0.24</td>\n",
              "      <td>72.22</td>\n",
              "      <td>-0.06</td>\n",
              "      <td>44.05</td>\n",
              "      <td>-0.14</td>\n",
              "      <td>30.16</td>\n",
              "      <td>0.16</td>\n",
              "      <td>65.87</td>\n",
              "      <td>0.12</td>\n",
              "      <td>63.89</td>\n",
              "      <td>-0.07</td>\n",
              "      <td>41.27</td>\n",
              "      <td>0.38</td>\n",
              "      <td>93.65</td>\n",
              "      <td>0.31</td>\n",
              "      <td>94.05</td>\n",
              "      <td>0.49</td>\n",
              "      <td>94.05</td>\n",
              "      <td>-0.07</td>\n",
              "      <td>41.67</td>\n",
              "      <td>-1.02761</td>\n",
              "      <td>0</td>\n",
              "      <td>0</td>\n",
              "      <td>2</td>\n",
              "      <td>2013</td>\n",
              "      <td>10</td>\n",
              "    </tr>\n",
              "    <tr>\n",
              "      <th>4</th>\n",
              "      <td>-0.086403</td>\n",
              "      <td>21.9986</td>\n",
              "      <td>22.1178</td>\n",
              "      <td>55.2846</td>\n",
              "      <td>84.0961</td>\n",
              "      <td>23.9898</td>\n",
              "      <td>18.7492</td>\n",
              "      <td>21.9421</td>\n",
              "      <td>23.4831</td>\n",
              "      <td>14.3223</td>\n",
              "      <td>14.549</td>\n",
              "      <td>42.3966</td>\n",
              "      <td>50.0418</td>\n",
              "      <td>66.3888</td>\n",
              "      <td>83.0938</td>\n",
              "      <td>24.2181</td>\n",
              "      <td>37.837</td>\n",
              "      <td>40.2757</td>\n",
              "      <td>56.8215</td>\n",
              "      <td>26.326</td>\n",
              "      <td>30.6232</td>\n",
              "      <td>0.442175</td>\n",
              "      <td>0.352407</td>\n",
              "      <td>0.4675</td>\n",
              "      <td>0.434722</td>\n",
              "      <td>0.463736</td>\n",
              "      <td>1.73426</td>\n",
              "      <td>1.61847</td>\n",
              "      <td>1.74</td>\n",
              "      <td>1.69527</td>\n",
              "      <td>1.8593</td>\n",
              "      <td>1.66866</td>\n",
              "      <td>1.743</td>\n",
              "      <td>1.72242</td>\n",
              "      <td>1.68938</td>\n",
              "      <td>1.6932</td>\n",
              "      <td>100</td>\n",
              "      <td>0</td>\n",
              "      <td>100</td>\n",
              "      <td>100</td>\n",
              "      <td>...</td>\n",
              "      <td>96.295</td>\n",
              "      <td>13.007</td>\n",
              "      <td>12.9929</td>\n",
              "      <td>12.0334</td>\n",
              "      <td>12.7434</td>\n",
              "      <td>14.5795</td>\n",
              "      <td>14.8006</td>\n",
              "      <td>13.7404</td>\n",
              "      <td>14.07</td>\n",
              "      <td>1.10515</td>\n",
              "      <td>0.837897</td>\n",
              "      <td>0.645105</td>\n",
              "      <td>1.03736</td>\n",
              "      <td>0.095238</td>\n",
              "      <td>0.61</td>\n",
              "      <td>96.43</td>\n",
              "      <td>0.37</td>\n",
              "      <td>78.57</td>\n",
              "      <td>0.02</td>\n",
              "      <td>51.59</td>\n",
              "      <td>0.49</td>\n",
              "      <td>96.43</td>\n",
              "      <td>0.41</td>\n",
              "      <td>96.43</td>\n",
              "      <td>0.22</td>\n",
              "      <td>73.41</td>\n",
              "      <td>0.38</td>\n",
              "      <td>94.05</td>\n",
              "      <td>0.33</td>\n",
              "      <td>95.63</td>\n",
              "      <td>0.47</td>\n",
              "      <td>93.25</td>\n",
              "      <td>0.27</td>\n",
              "      <td>75</td>\n",
              "      <td>10.52</td>\n",
              "      <td>0.974461</td>\n",
              "      <td>49.3533</td>\n",
              "      <td>2</td>\n",
              "      <td>2013</td>\n",
              "      <td>10</td>\n",
              "    </tr>\n",
              "  </tbody>\n",
              "</table>\n",
              "<p>5 rows × 1034 columns</p>\n",
              "</div>\n",
              "      <button class=\"colab-df-convert\" onclick=\"convertToInteractive('df-ea120270-d554-464c-8d5a-5c11cd616ee9')\"\n",
              "              title=\"Convert this dataframe to an interactive table.\"\n",
              "              style=\"display:none;\">\n",
              "        \n",
              "  <svg xmlns=\"http://www.w3.org/2000/svg\" height=\"24px\"viewBox=\"0 0 24 24\"\n",
              "       width=\"24px\">\n",
              "    <path d=\"M0 0h24v24H0V0z\" fill=\"none\"/>\n",
              "    <path d=\"M18.56 5.44l.94 2.06.94-2.06 2.06-.94-2.06-.94-.94-2.06-.94 2.06-2.06.94zm-11 1L8.5 8.5l.94-2.06 2.06-.94-2.06-.94L8.5 2.5l-.94 2.06-2.06.94zm10 10l.94 2.06.94-2.06 2.06-.94-2.06-.94-.94-2.06-.94 2.06-2.06.94z\"/><path d=\"M17.41 7.96l-1.37-1.37c-.4-.4-.92-.59-1.43-.59-.52 0-1.04.2-1.43.59L10.3 9.45l-7.72 7.72c-.78.78-.78 2.05 0 2.83L4 21.41c.39.39.9.59 1.41.59.51 0 1.02-.2 1.41-.59l7.78-7.78 2.81-2.81c.8-.78.8-2.07 0-2.86zM5.41 20L4 18.59l7.72-7.72 1.47 1.35L5.41 20z\"/>\n",
              "  </svg>\n",
              "      </button>\n",
              "      \n",
              "  <style>\n",
              "    .colab-df-container {\n",
              "      display:flex;\n",
              "      flex-wrap:wrap;\n",
              "      gap: 12px;\n",
              "    }\n",
              "\n",
              "    .colab-df-convert {\n",
              "      background-color: #E8F0FE;\n",
              "      border: none;\n",
              "      border-radius: 50%;\n",
              "      cursor: pointer;\n",
              "      display: none;\n",
              "      fill: #1967D2;\n",
              "      height: 32px;\n",
              "      padding: 0 0 0 0;\n",
              "      width: 32px;\n",
              "    }\n",
              "\n",
              "    .colab-df-convert:hover {\n",
              "      background-color: #E2EBFA;\n",
              "      box-shadow: 0px 1px 2px rgba(60, 64, 67, 0.3), 0px 1px 3px 1px rgba(60, 64, 67, 0.15);\n",
              "      fill: #174EA6;\n",
              "    }\n",
              "\n",
              "    [theme=dark] .colab-df-convert {\n",
              "      background-color: #3B4455;\n",
              "      fill: #D2E3FC;\n",
              "    }\n",
              "\n",
              "    [theme=dark] .colab-df-convert:hover {\n",
              "      background-color: #434B5C;\n",
              "      box-shadow: 0px 1px 3px 1px rgba(0, 0, 0, 0.15);\n",
              "      filter: drop-shadow(0px 1px 2px rgba(0, 0, 0, 0.3));\n",
              "      fill: #FFFFFF;\n",
              "    }\n",
              "  </style>\n",
              "\n",
              "      <script>\n",
              "        const buttonEl =\n",
              "          document.querySelector('#df-ea120270-d554-464c-8d5a-5c11cd616ee9 button.colab-df-convert');\n",
              "        buttonEl.style.display =\n",
              "          google.colab.kernel.accessAllowed ? 'block' : 'none';\n",
              "\n",
              "        async function convertToInteractive(key) {\n",
              "          const element = document.querySelector('#df-ea120270-d554-464c-8d5a-5c11cd616ee9');\n",
              "          const dataTable =\n",
              "            await google.colab.kernel.invokeFunction('convertToInteractive',\n",
              "                                                     [key], {});\n",
              "          if (!dataTable) return;\n",
              "\n",
              "          const docLinkHtml = 'Like what you see? Visit the ' +\n",
              "            '<a target=\"_blank\" href=https://colab.research.google.com/notebooks/data_table.ipynb>data table notebook</a>'\n",
              "            + ' to learn more about interactive tables.';\n",
              "          element.innerHTML = '';\n",
              "          dataTable['output_type'] = 'display_data';\n",
              "          await google.colab.output.renderOutput(dataTable, element);\n",
              "          const docLink = document.createElement('div');\n",
              "          docLink.innerHTML = docLinkHtml;\n",
              "          element.appendChild(docLink);\n",
              "        }\n",
              "      </script>\n",
              "    </div>\n",
              "  </div>\n",
              "  "
            ],
            "text/plain": [
              "  AccelerationDecelerationOsc ADXR (14, EXPONENTIAL)  ...  year month\n",
              "0                    0.137647                25.5711  ...  2013    10\n",
              "1                   -0.033494                23.4247  ...  2013    10\n",
              "2                   -0.162101                21.4099  ...  2013    10\n",
              "3                    -0.17717                21.0432  ...  2013    10\n",
              "4                   -0.086403                21.9986  ...  2013    10\n",
              "\n",
              "[5 rows x 1034 columns]"
            ]
          },
          "metadata": {},
          "execution_count": 11
        }
      ]
    },
    {
      "cell_type": "code",
      "source": [
        "c3 = c3.replace(\"55-0.2\",0.2)"
      ],
      "metadata": {
        "id": "V4GRVdA19-RW"
      },
      "execution_count": null,
      "outputs": []
    },
    {
      "cell_type": "code",
      "source": [
        "c3 = c3.apply(pd.to_numeric)\n"
      ],
      "metadata": {
        "id": "-p2TJgJDIGbI"
      },
      "execution_count": null,
      "outputs": []
    },
    {
      "cell_type": "code",
      "source": [
        "c3.info()"
      ],
      "metadata": {
        "colab": {
          "base_uri": "https://localhost:8080/"
        },
        "id": "ybX7DAWVHUxt",
        "outputId": "577159a9-cf1a-4a08-e3dc-fb7da9899706"
      },
      "execution_count": null,
      "outputs": [
        {
          "output_type": "stream",
          "name": "stdout",
          "text": [
            "<class 'pandas.core.frame.DataFrame'>\n",
            "RangeIndex: 2027 entries, 0 to 2026\n",
            "Columns: 1034 entries, AccelerationDecelerationOsc to month\n",
            "dtypes: float64(1027), int64(7)\n",
            "memory usage: 16.0 MB\n"
          ]
        }
      ]
    },
    {
      "cell_type": "code",
      "source": [
        "c3.isna().sum().sum()"
      ],
      "metadata": {
        "colab": {
          "base_uri": "https://localhost:8080/"
        },
        "id": "i7Wl4TjnB02V",
        "outputId": "75245545-3a0b-4e15-8c67-e49add643b27"
      },
      "execution_count": null,
      "outputs": [
        {
          "output_type": "execute_result",
          "data": {
            "text/plain": [
              "539"
            ]
          },
          "metadata": {},
          "execution_count": 15
        }
      ]
    },
    {
      "cell_type": "code",
      "source": [
        "for i in c3:\n",
        "  c3[i] =c3[i].fillna(c3[i].median())\n",
        "  "
      ],
      "metadata": {
        "id": "nhill4y4B4Qh"
      },
      "execution_count": null,
      "outputs": []
    },
    {
      "cell_type": "code",
      "source": [
        "c3.isna().sum().sum()"
      ],
      "metadata": {
        "colab": {
          "base_uri": "https://localhost:8080/"
        },
        "id": "2vJnU5WWCIUP",
        "outputId": "decb9416-ebac-4a66-c71a-c5e6d0447fba"
      },
      "execution_count": null,
      "outputs": [
        {
          "output_type": "execute_result",
          "data": {
            "text/plain": [
              "0"
            ]
          },
          "metadata": {},
          "execution_count": 17
        }
      ]
    },
    {
      "cell_type": "code",
      "source": [
        "c1 = c3.copy(deep=True)"
      ],
      "metadata": {
        "id": "d0-NUcn_FcFC"
      },
      "execution_count": null,
      "outputs": []
    },
    {
      "cell_type": "code",
      "source": [
        "# c3.to_excel(\"New Test.xlsx\",index=False)"
      ],
      "metadata": {
        "id": "PTD8cW6ZKKiw"
      },
      "execution_count": null,
      "outputs": []
    },
    {
      "cell_type": "code",
      "execution_count": null,
      "metadata": {
        "id": "DRQmib9F6sKA"
      },
      "outputs": [],
      "source": [
        "target = c3['Output']\n"
      ]
    },
    {
      "cell_type": "code",
      "source": [
        "X1 = c3.drop('Output',axis=1)\n",
        "y1 = c3['Output']"
      ],
      "metadata": {
        "id": "2cjaxtljQKJf"
      },
      "execution_count": null,
      "outputs": []
    },
    {
      "cell_type": "markdown",
      "source": [
        "### BACKWARD ELIMINATION"
      ],
      "metadata": {
        "id": "0BpuN-kP4BSa"
      }
    },
    {
      "cell_type": "markdown",
      "source": [
        "USING BACKWARD ELEIMINATION TO FILTER OUT IMPORTANT COLUMNS. THESE FILTERED COLUMNS WILL LATER BE FEEDED TO THE AUTOENCODER"
      ],
      "metadata": {
        "id": "quicRx0d4Em6"
      }
    },
    {
      "cell_type": "code",
      "source": [
        "import statsmodels.api as sm"
      ],
      "metadata": {
        "colab": {
          "base_uri": "https://localhost:8080/"
        },
        "id": "Rfk4ZSPzgJvp",
        "outputId": "850bee70-9420-4841-fadf-82c23a97beea"
      },
      "execution_count": null,
      "outputs": [
        {
          "output_type": "stream",
          "name": "stderr",
          "text": [
            "/usr/local/lib/python3.7/dist-packages/statsmodels/tools/_testing.py:19: FutureWarning: pandas.util.testing is deprecated. Use the functions in the public API at pandas.testing instead.\n",
            "  import pandas.util.testing as tm\n"
          ]
        }
      ]
    },
    {
      "cell_type": "code",
      "source": [
        "X_1 = sm.add_constant(X1)\n",
        "#Fitting sm.OLS model\n",
        "model = sm.OLS(y1,X_1).fit()\n",
        "model.pvalues"
      ],
      "metadata": {
        "colab": {
          "base_uri": "https://localhost:8080/"
        },
        "id": "1mBbkFczgJeu",
        "outputId": "57bce6ad-2b69-48ca-c59d-b0e599c17ac0"
      },
      "execution_count": null,
      "outputs": [
        {
          "output_type": "stream",
          "name": "stderr",
          "text": [
            "/usr/local/lib/python3.7/dist-packages/statsmodels/tsa/tsatools.py:117: FutureWarning: In a future version of pandas all arguments of concat except for the argument 'objs' will be keyword-only\n",
            "  x = pd.concat(x[::order], 1)\n"
          ]
        },
        {
          "output_type": "execute_result",
          "data": {
            "text/plain": [
              "const                                      0.559965\n",
              "AccelerationDecelerationOsc                0.083746\n",
              "ADXR (14, EXPONENTIAL)                     0.058807\n",
              "ADXR (14, EXPONENTIAL).1                   0.170373\n",
              "ADXR (14, HULL)                            0.005167\n",
              "                                             ...   \n",
              "UniversalOscillatorAdapted (5)             0.712645\n",
              "TrendQuality (3, 6, 2, squared, 250, 2)    0.076717\n",
              "TrendNoiseBalance (3, 6, 2, squared, 25    0.363391\n",
              "year                                       0.111148\n",
              "month                                      0.430892\n",
              "Length: 1034, dtype: float64"
            ]
          },
          "metadata": {},
          "execution_count": 22
        }
      ]
    },
    {
      "cell_type": "markdown",
      "source": [
        "### NOTE:\n",
        "THE BELOW CELL WILL APPROXIMATELY TAKE 10-15 MINS TO EXECUTE ."
      ],
      "metadata": {
        "id": "1TD9XB6j4UQD"
      }
    },
    {
      "cell_type": "code",
      "source": [
        "cols = list(X1.columns)\n",
        "pmax = 1\n",
        "while (len(cols)>0):\n",
        "    p= []\n",
        "    X_1 = X1[cols]\n",
        "    X_1 = sm.add_constant(X_1)\n",
        "    model = sm.OLS(y1,X_1).fit()\n",
        "    p = pd.Series(model.pvalues.values[1:],index = cols)      \n",
        "    pmax = max(p)\n",
        "    feature_with_p_max = p.idxmax()\n",
        "    if(pmax>0.05):\n",
        "        cols.remove(feature_with_p_max)\n",
        "    else:\n",
        "        break\n",
        "selected_features_BE = cols\n",
        "print(selected_features_BE)"
      ],
      "metadata": {
        "colab": {
          "base_uri": "https://localhost:8080/"
        },
        "id": "7dDOIJUlgI_L",
        "outputId": "39011c68-d501-467b-fd78-85b417a0430c"
      },
      "execution_count": null,
      "outputs": [
        {
          "output_type": "stream",
          "name": "stderr",
          "text": [
            "/usr/local/lib/python3.7/dist-packages/statsmodels/tsa/tsatools.py:117: FutureWarning: In a future version of pandas all arguments of concat except for the argument 'objs' will be keyword-only\n",
            "  x = pd.concat(x[::order], 1)\n"
          ]
        },
        {
          "output_type": "stream",
          "name": "stdout",
          "text": [
            "['AccelerationDecelerationOsc', 'ADXR (14, EXPONENTIAL)', 'ADXR (14, HULL)', 'ADXR (14, HULL).1', 'ADXR (14, SIMPLE).1', 'ADXR (14, WEIGHTED).1', 'ADXR (14, WILDERS)', 'ADXR (6, EXPONENTIAL)', 'ADXR (6, SIMPLE)', 'ADXR (6, SIMPLE).1', 'ADXR (6, WILDERS)', 'AM_Detector (4, 8, WILDERS)', 'APTR (14, EXPONENTIAL)', 'APTR (14, SIMPLE)', 'APTR (14, WEIGHTED)', 'AroonIndicator (25).1', 'AroonIndicator (8)', 'AroonOscillator (25)', 'AwesomeOscillator', 'BalanceOfMarketPower (EXPONENTIAL 6)', 'BalanceOfMarketPower (WILDERS, 14)', 'BalanceOfMarketPower (WILDERS, 6)', 'BandpassFilter (20, 0.1, 1)', 'BandpassFilter (8, 0.1, 1)', 'BollingerPercentB (WEIGHTED, VWAP, 0, 1', 'BollingerPercentB (WEIGHTED, VWAP, 0, 2', 'BollingerPercentBExp20', 'CorrelationTrendIndicator (20)', 'CPMO (35, 20, 10, SPX).1', 'CSI (1.0, 14, 25.0, 1000.0, EXPONENTIAL)', 'CSI (1.0, 14, 25.0, 1000.0, SIMPLE)', 'CSI (1.0, 14, 25.0, 1000.0, WEIGHTED)', 'CSI (1.0, 14, 25.0, 1000.0, WILDERS)', 'DemandIndex (11)', 'DemandIndex (8)', 'DMI (14, WILDERS).1', 'DMI (6, HULL).1', 'DMI (6, WILDERS)', 'DMI_Oscillator (10, no, SIMPLE)', 'DMI_Oscillator (10, no, WILDERS)', 'DMI_Oscillator (5, no, HULL)', 'DoubleSmoothedStochastic (9, 5, 10)', 'EaseOfMovement (6, 6)', 'ErgodicOsc (25, 13, 8, EXPONENTIAL)', 'ErgodicOsc (25, 13, 8, SIMPLE)', 'ErgodicOsc (25, 13, 8, WEIGHTED)', 'ErgodicOsc (25, 13, 8, WILDERS)', 'FW_MMG (6, 21, 80, 20, no).1', 'FW_SOAP (Outside Lines).1', 'GatorOscExponential.1', 'GatorOscHull', 'HHLLS (20, 60, 50, 10, EXPONENTIAL)', 'HHLLS (20, 60, 50, 10, EXPONENTIAL).1', 'HHLLS (20, 60, 50, 10, HULL)', 'HHLLS (20, 60, 50, 10, SIMPLE)', 'HHLLS (20, 60, 50, 10, SIMPLE).1', 'HHLLS (20, 60, 50, 10, WEIGHTED).1', 'HHLLS (20, 60, 50, 10, WILDERS).1', 'HHLLS (9, 60, 50, 10, HULL)', 'HHLLS (9, 60, 50, 10, HULL).1', 'HHLLS (9, 60, 50, 10, SIMPLE)', 'MACD (12, 26, 9, EXPONENTIAL, no)', 'StandardDeviation (VWAP, 14)', 'StochasticSlowSimple (80, 20, 10, 10, Hï¿½.1', 'WeeklyAndDailyPPO (15, 32, 3, 7).2', 'WeeklyAndDailyMACD (15, 32, 3, 7)', 'VossPredictiveFilter (3, 2, 0.1).1', 'VolumeWeightedMACD (3, 7, 2)', 'VolumeWeightedMACD (3, 7, 2).2', 'UltimateOscillator (3, 6, 12)', 'TrueStrengthIndex (7, 4, 3, SIMPLE', 'TrueStrengthIndex (7, 4, 3, HULL)', 'TrueStrengthIndex (7, 4, 3, EXPONENTIAL)', 'TRIX (3, 4, CLOSE, 2)', 'TrendQuality (3, 6, 2, linear, 250, 2)', 'TAC_DIPlus (3, 4, 6, WILDERS).1', 'TAC_DIPlus (3, 4, 6, WEIGHTED)', 'TAC_DIPlus (3, 4, 6, EXPONENTIAL).1', 'TAC_DIMinus (3, 4, 6, WILDERS)', 'TAC_DIMinus (3, 4, 6, EXPONENTIAL)', 'TAC_DIMinus (3, 4, 6, EXPONENTIAL).1', 'RocketRSI (4, 3)', 'Inertia (3, 2)', 'Inertia (5, 3)', 'fmDemodulator2Adapted (8, 1, 50).1', 'DynamicMomentumIndex (VWAP, 5, 10, 14,', 'HistoricalVolatility (5, Daily)', 'IFT_StochOsc (VWAP, 30, 5, 60, 30).1', 'IntradayMomentumIndex (6)', 'IV_Percentile (yes, 252, 30, 50, yes, 1...', 'LeavittConvolutionSlope (VWAP, 49)', 'MACD (12, 26, 9, HULL, no).2', 'MACD (12, 26, 9, SIMPLE, no).2', 'MACD (12, 26, 9, WEIGHTED, no).2', 'MACD (12, 26, 9, WILDERS, no).2', 'MarketForecast.1', 'MarketForecast.2', 'MarketSentiment', 'MassIndex', 'MESASineWave ((H+L)/2, 10)', 'MESASineWave ((H+L)/2, 25)', 'MESASineWave ((H+L)/2, 25).1', 'MyRSIwithNETAdapted (14, 14).1', 'MyRSIwithNETAdapted (5, 5)', 'PMC', 'PMO (CLOSE, 17, 10, 5).1', 'PMO (CLOSE, 35, 20, 10)', 'PMO (CLOSE, 35, 20, 10).1', 'PolarizedFractalEfficiency (10, 5)', 'PriceOsc (14, 9, VWAP, 18, SIMPLE)', 'PriceZoneOscillator (VWAP, 14)', 'RangeIndicator (10, 3)', 'RelativeVolatilityIndex (5, 7, EXPONENT', 'RelativeVolatilityIndex (5, 7, WEIGHTED)', 'RelativeVolatilityIndex (5, 7, WILDERS)', 'RelativeVolumeStDev (20, 2.0, yes)', 'RelativeVolumeStDev (60, 2.0, yes)', 'RocketRSI (10, 8)', 'RSI (14, 70, 30, VWAP, EXPONENTIAL, no)', 'RSI (14, 70, 30, VWAP, WILDERS, no)', 'RSI (5, 70, 30, VWAP, WEIGHT, no)', 'RSI (5, 70, 30, VWAP, WILDERS, no)', 'RSMK (SPY, 30, 3)', 'SchaffTrendHull', 'StandardError (VWAP, 14)', 'StochRSI (14, 80, 20, HULL', 'StochRSI (14, 80, 20, WILDERS', 'StochRSI (5, 80, 20, EXPONENTIAL.1', 'StochRSI (5, 80, 20, HULL', 'SVEZLRBPercB (VWAP, 18', 'StochasticSlowWilders (80, 20, 5, 5,.1', 'StochasticSlowExponential (80, 20, 5, 5', 'StochasticSlowWilders (80, 20, 3, 3, HI', 'StochasticSlowWeighted (80, 20, 3, 3, H', 'StochasticSlowWeighted (80, 20, 3, 3, H.1', 'StochasticSlowExponential (80, 20, 3, 3', 'StochasticSlowExponential (80, 20, 3, 3.1', 'StochasticMomentumIndex (40.0, -40.0, 2.1', 'StochasticMACD (11, 3, 6, 3, 0, 0, WILD.1', 'StochasticFullDiffWilders525 (HIGH, LOW', 'StandardError (VWAP, 3)', 'StandardError (VWAP, 7)', 'SentimentZoneOscillator (VWAP, 7, 15, 9', 'SentimentZoneOscillator (VWAP, 3, 7, 95.0)', 'RSquared (5, 1)', 'RSMK (SPY, 5, 4)', 'RSMK (SPY, 3, 3)', 'ADXR (3, WEIGHTED).1', 'ADXR (3, SIMPLE).1', 'ADXR (3, HULL).1', 'ADXR (3, EXPONENTIAL).1', 'BalanceOfMarketPower (WILDERS, 3)', 'BalanceOfMarketPower (WEIGHTED, 3)', 'BalanceOfMarketPower (EXPONENTIAL 3)', 'ChaikinVolatility (3, 3)', 'ErgodicOsc (6, 3, 2, EXPONENTIAL)', 'ErgodicOsc (6, 3, 2, WILDERS)', 'ErgodicOsc (6, 3, 2, WEIGHTED)', 'DeviationScaledOscillator (10, 2.0', 'StandardDeviation (CLOSE, 10)', 'StandardDeviation (CLOSE, 14)', 'StandardDeviation (OHLC4, 14)', 'StandardDeviation (OHLC4, 5)', 'StandardError (CLOSE, 14)', 'StochasticFullWilders (80, 20, 10', 'StochasticMACD23Simple (23, 6, 13.1', 'StochasticMACD23Weighted (23, 6, 13', 'StochasticMACD45Exponential (45, 12, 26.1', 'StochasticMACD45Hull (45, 12, 26.1', 'StochasticMACD45Weighted (45, 12, 26.1', 'StochasticMACD45Wilders (45, 12, 26.1', 'StochasticSlowWeighted (80, 20, 10', 'StressIndicator (SPY, 12, 90, 50, 10).1', 'StressIndicator (SPY, 6, 90, 50, 10).1', 'TAC_ADX (3, 4, 5, EXPONENTIAL)', 'TAC_ADX (3, 4, 5, WEIGHTED)', 'TAC_DIMinus (5, 8, 14, EXPONENTIAL).2', 'TAC_DIMinus (5, 8, 14, WILDERS)', 'TAC_DIMinus (5, 8, 14, WILDERS).1', 'TAC_DIPlus (5, 8, 14, EXPONENTIAL).1', 'TAC_DIPlus (5, 8, 14, EXPONENTIAL).2', 'TAC_DIPlus (5, 8, 14, HULL)', 'TAC_DIPlus (5, 8, 14, HULL).2', 'TAC_DIPlus (5, 8, 14, WILDERS)', 'TAC_DIPlus (5, 8, 14, WILDERS).2', 'TrendPersistenceRate3Wilders (3, 7, 3, ...', 'TRIX (6, 10, VWAP, 3).1', 'TrueStrengthIndex (25, 13, 8, EXPONENTIAL)', 'TTM_Wave', 'UlcerIndex (CLOSE, 5, 5)', 'VolatilityStdDev (14)', 'VolatilityStdDev (5)', 'VolumeFlowIndicator (130, 2.5)', 'VolumeRateOfChange (5, 5)', 'VolumeWeightedMACD (12, 26, 9)', 'VolumeWeightedMACD (12, 26, 9).2', 'VolumeWeightedMACD (6, 13, 5).1', 'VolumeZoneOscilator (10)', 'VossPredictiveFilter (20, 3, 0.25)', 'VossPredictiveFilter (5, 3, 0.25)', 'VPNIndicator (10, 3, 10, 0.1, 10, HULL)', 'VPNIndicator (10, 3, 10, 0.1, 10, SIMPLE)', 'VPNIndicator (10, 3, 10, 0.1, 10, WILDERS)', 'VPNIndicator (10, 3, 10, 0.1, 10, WILDERS).1', 'VPNIndicator (30, 3, 30, 0.1, 10, HULL)', 'VPNIndicator (30, 3, 30, 0.1, 10, WEIG', 'VPNIndicator (30, 3, 30, 0.1, 10, WILDERS)', 'WeeklyAndDailyMACD (30, 65, 6, 13)', 'WeeklyAndDailyMACD (30, 65, 6, 13).1', 'WeeklyAndDailyMACD (60, 130, 12, 26)', 'WeeklyAndDailyPPO (30, 60, 6, 13)', 'MACD (4, 8, 3, EXPONENTIAL, no).2', 'FastBeta (SPX, 1, 3, 0.1)', 'SpearmanAdapted (VWAP, 5, 3)', 'BolPctEXPONENTIALCLOSE10ten (EXPONENTIA', 'BolPctEXPONENTIALCLOSE20TWENTY (EXPONEN', 'BolPctHULLCLOSE20TWENTY (HULL, CLOSE', 'BolPctHULLOHLC10ten (HULL, OHLC4, 0, 10', 'BolPctHULLOHLC20TWENTY (HULL, OHLC4', 'BolPctSimpleCLOSE20TWENTY (SIMPLE, CLOS', 'BolPctWEIGHTCLOSE20TWENTY (WEIGHTED, CL', 'BolPctWEIGHTOHLC20TWENTY (WEIGHTED, OHL', 'EhlersHighpassFilter (CLOSE, 125)', 'EhlersHighpassFilter (OHLC4, 125)', 'EhlersRoofingFilter (CLOSE, 10, 48)', 'EhlersRoofingFilter (OHLC4, 10, 48)', 'FisherTransform (OHLC4, 10)', 'FisherTransform (VWAP, 10)', 'FisherTransform (VWAP, 10).1', 'GatorOscHullOHLC (OHLC4, 13, 8, 5, -8', 'GatorOscSimpleVWAP (VWAP, 13, 8, 5, -8,', 'GatorOscWildersCLOSE (CLOSE, 13, 8, 5.1', 'LBR_ThreeTenOscillator (CLOSE, Alternate).1', 'LBR_ThreeTenOscillator (CLOSE, Normal).1', 'LBR_ThreeTenOscillator (OHLC4, Alternate)', 'LBR_ThreeTenOscillator (OHLC4, Normal)', 'LBR_ThreeTenOscillator (OHLC4, Normal).1', 'LeavittConvolutionAcceleration (CLOSE, 5)', 'LeavittConvolutionAcceleration (OHLC4, 5)', 'LeavittConvolutionSlope (CLOSE, 5)', 'LeavittConvolutionSlope (OHLC4, 5)', 'LinearRegressionSlope (OHLC4, 6)', 'MESASineWave (CLOSE, 25)', 'MESASineWave (VWAP, 10)', 'OnsetTrendDetectorAdapted (CLOSE, 5, 10.1', 'PMO (CLOSE, 8, 5, 3)', 'PMO (OHLC4, 35, 20, 10)', 'PMO (VWAP, 35, 20, 10).1', 'PriceOsc (14, 9, CLOSE, 18, SIMPLE)', 'PriceOsc (8, 3, CLOSE, 6, EXPONENTIAL)', 'PriceOsc (8, 3, CLOSE, 6, HULL)', 'PriceOsc (8, 3, OHLC4, 6, EXPONENTIAL)', 'PriceOsc (8, 3, OHLC4, 6, HULL)', 'PriceOsc (8, 3, OHLC4, 6, WEIGHTED)', 'PriceZoneOscillator (OHLC4, 14)', 'PriceZoneOscillator (OHLC4, 5)', 'RSI (14, 70, 30, CLOSE, EXPONENTIAL, no)', 'RSI (14, 70, 30, CLOSE, WILDERS, no)', 'RSI (14, 70, 30, OHLC4, HULL, no)', 'RSI (14, 70, 30, OHLC4, SIMPLE, no)', 'RSI (14, 70, 30, OHLC4, WEIGHTED, no)', 'RSI (5, 70, 30, CLOSE, EXPONENTIAL, no)', 'RSI (5, 70, 30, CLOSE, SIMPLE, no)', 'RSI (5, 70, 30, CLOSE, WILDERS, no)', 'SentimentZoneOscillator (VWAP, 14, 30', 'Spearman (OHLC4, 10, 3, 80, -80)', 'TRIX (9, 14, CLOSE, 3)', 'TRIX (9, 14, CLOSE, 3).1', 'TRIX (9, 14, OHLC4, 3)', 'TRIX (9, 14, OHLC4, 3).1', 'UlcerIndex (CLOSE, 14, 5)', 'UlcerIndex (OHLC4, 9, 5)', 'VolatilitySwitch (OHLC4, 21)', 'DemandIndexDiffAbsnPct (4, 4, 252, 2, 1)', 'DemandIndexDiffAbsnPct (4, 4, 252, 2, 1).1', 'DemandIndexDiffAbsnPct (3, 5, 252, 15, 14)', 'year']\n"
          ]
        }
      ]
    },
    {
      "cell_type": "code",
      "source": [
        "lst =[]\n",
        "lst =selected_features_BE"
      ],
      "metadata": {
        "id": "0AIq7LS4lLQ7"
      },
      "execution_count": null,
      "outputs": []
    },
    {
      "cell_type": "code",
      "source": [
        "rt = pd.DataFrame(c3[lst])\n"
      ],
      "metadata": {
        "id": "CnDyXgsula-Z"
      },
      "execution_count": null,
      "outputs": []
    },
    {
      "cell_type": "code",
      "source": [
        "rt['Output'] = target"
      ],
      "metadata": {
        "id": "JLGPwRZzll2Z"
      },
      "execution_count": null,
      "outputs": []
    },
    {
      "cell_type": "code",
      "execution_count": null,
      "metadata": {
        "id": "6H4pXfcbPlQA"
      },
      "outputs": [],
      "source": [
        "X = rt.drop('Output',axis=1)\n",
        "y = rt['Output']"
      ]
    },
    {
      "cell_type": "markdown",
      "source": [
        "FROM 1033 COLUMNS WE HAVE SELECTED APPROXIMATELY 280 IMPORTANT COLUMNS"
      ],
      "metadata": {
        "id": "KempErYE4fCw"
      }
    },
    {
      "cell_type": "markdown",
      "source": [
        "#### AUTOENCODING"
      ],
      "metadata": {
        "id": "F2Wpp0fY1Dni"
      }
    },
    {
      "cell_type": "code",
      "execution_count": null,
      "metadata": {
        "id": "jnrzLLYePnlB"
      },
      "outputs": [],
      "source": [
        "from sklearn.model_selection import train_test_split\n",
        "X_train, X_test, y_train, y_test = train_test_split(X, y, test_size=0.33, random_state=42)"
      ]
    },
    {
      "cell_type": "code",
      "execution_count": null,
      "metadata": {
        "id": "vMGWIjxizbEp"
      },
      "outputs": [],
      "source": [
        "from sklearn.preprocessing import MinMaxScaler\n",
        "\n",
        "def scale_datasets(X_train, X_test):\n",
        "  \"\"\"\n",
        "  Standard Scale test and train data\n",
        "  \"\"\"\n",
        "  standard_scaler = MinMaxScaler()\n",
        "  x_train_scaled = pd.DataFrame(\n",
        "      standard_scaler.fit_transform(X_train),\n",
        "      columns=X_train.columns\n",
        "  )\n",
        "  x_test_scaled = pd.DataFrame(\n",
        "      standard_scaler.transform(X_test),\n",
        "      columns = X_test.columns\n",
        "  )\n",
        "  \n",
        "  return x_train_scaled, x_test_scaled\n",
        "  \n",
        "x_train_scaled, x_test_scaled = scale_datasets(X_train, X_test)"
      ]
    },
    {
      "cell_type": "code",
      "execution_count": null,
      "metadata": {
        "colab": {
          "base_uri": "https://localhost:8080/"
        },
        "id": "p5G_3AmbJ-B0",
        "outputId": "99ed4eec-370c-4710-e363-184b35f358a4"
      },
      "outputs": [
        {
          "output_type": "execute_result",
          "data": {
            "text/plain": [
              "0"
            ]
          },
          "metadata": {},
          "execution_count": 30
        }
      ],
      "source": [
        "x_train_scaled.isna().sum().sum()"
      ]
    },
    {
      "cell_type": "code",
      "execution_count": null,
      "metadata": {
        "colab": {
          "base_uri": "https://localhost:8080/"
        },
        "id": "AouumHMAKIZ6",
        "outputId": "e9e81cff-145b-46cc-8f1d-8e73247ffe4b"
      },
      "outputs": [
        {
          "output_type": "execute_result",
          "data": {
            "text/plain": [
              "0"
            ]
          },
          "metadata": {},
          "execution_count": 31
        }
      ],
      "source": [
        "x_test_scaled.isna().sum().sum()"
      ]
    },
    {
      "cell_type": "code",
      "execution_count": null,
      "metadata": {
        "id": "dWY6p1C8CBNE"
      },
      "outputs": [],
      "source": [
        "from tensorflow.keras import Model,Input\n",
        "from tensorflow.keras import Sequential\n",
        "from sklearn.preprocessing import StandardScaler\n",
        "from tensorflow.keras.layers import Dense, Dropout"
      ]
    },
    {
      "cell_type": "code",
      "execution_count": null,
      "metadata": {
        "id": "liKplgmEFbHP",
        "colab": {
          "base_uri": "https://localhost:8080/"
        },
        "outputId": "a7402633-241a-48d6-cb8d-ef94f70004f1"
      },
      "outputs": [
        {
          "output_type": "execute_result",
          "data": {
            "text/plain": [
              "277"
            ]
          },
          "metadata": {},
          "execution_count": 33
        }
      ],
      "source": [
        "\n",
        "ncol = x_train_scaled.shape[1]\n",
        "ncol"
      ]
    },
    {
      "cell_type": "code",
      "execution_count": null,
      "metadata": {
        "id": "DjmJ3NtuFqWM"
      },
      "outputs": [],
      "source": [
        "encoding_dim =20"
      ]
    },
    {
      "cell_type": "code",
      "execution_count": null,
      "metadata": {
        "id": "SCbVDTGzM4tg"
      },
      "outputs": [],
      "source": [
        "import keras\n",
        "import tensorflow as tf"
      ]
    },
    {
      "cell_type": "code",
      "execution_count": null,
      "metadata": {
        "id": "mxLDnbsa7pRR"
      },
      "outputs": [],
      "source": [
        "input_dim = Input(shape = (ncol, ))\n",
        "\n",
        "# Encoder Layers\n",
        "encoder = keras.models.Sequential([\n",
        "  keras.layers.Dense(200, activation = 'relu', input_shape=[277]),\n",
        "  Dense(100, activation = 'relu'),\n",
        "  Dense(50, activation = 'relu'),\n",
        " # Dense(60, activation = 'relu'),\n",
        "  #Dense(30, activation = 'relu'),\n",
        "  Dense(encoding_dim, activation = 'relu')\n",
        "])\n",
        "\n",
        "decoder = keras.models.Sequential([\n",
        "  keras.layers.Dense(50, activation = 'relu', input_shape=[encoding_dim]),\n",
        "  Dense(100, activation = 'relu'),\n",
        "  Dense(200, activation = 'relu'),\n",
        "  #Dense(400, activation = 'relu'),\n",
        "  #Dense(800, activation = 'relu'),\n",
        "  Dense(277, activation = 'sigmoid')\n",
        "])\n",
        "\n",
        "stacked_ae = keras.models.Sequential([encoder, decoder])\n"
      ]
    },
    {
      "cell_type": "code",
      "execution_count": null,
      "metadata": {
        "colab": {
          "base_uri": "https://localhost:8080/"
        },
        "id": "a9sSZk7L59E5",
        "outputId": "317db308-cabf-449e-b11d-6e6f459da4e9"
      },
      "outputs": [
        {
          "output_type": "stream",
          "name": "stdout",
          "text": [
            "Model: \"sequential_2\"\n",
            "_________________________________________________________________\n",
            " Layer (type)                Output Shape              Param #   \n",
            "=================================================================\n",
            " sequential (Sequential)     (None, 20)                81770     \n",
            "                                                                 \n",
            " sequential_1 (Sequential)   (None, 277)               82027     \n",
            "                                                                 \n",
            "=================================================================\n",
            "Total params: 163,797\n",
            "Trainable params: 163,797\n",
            "Non-trainable params: 0\n",
            "_________________________________________________________________\n",
            "Model: \"sequential\"\n",
            "_________________________________________________________________\n",
            " Layer (type)                Output Shape              Param #   \n",
            "=================================================================\n",
            " dense (Dense)               (None, 200)               55600     \n",
            "                                                                 \n",
            " dense_1 (Dense)             (None, 100)               20100     \n",
            "                                                                 \n",
            " dense_2 (Dense)             (None, 50)                5050      \n",
            "                                                                 \n",
            " dense_3 (Dense)             (None, 20)                1020      \n",
            "                                                                 \n",
            "=================================================================\n",
            "Total params: 81,770\n",
            "Trainable params: 81,770\n",
            "Non-trainable params: 0\n",
            "_________________________________________________________________\n",
            "Model: \"sequential_1\"\n",
            "_________________________________________________________________\n",
            " Layer (type)                Output Shape              Param #   \n",
            "=================================================================\n",
            " dense_4 (Dense)             (None, 50)                1050      \n",
            "                                                                 \n",
            " dense_5 (Dense)             (None, 100)               5100      \n",
            "                                                                 \n",
            " dense_6 (Dense)             (None, 200)               20200     \n",
            "                                                                 \n",
            " dense_7 (Dense)             (None, 277)               55677     \n",
            "                                                                 \n",
            "=================================================================\n",
            "Total params: 82,027\n",
            "Trainable params: 82,027\n",
            "Non-trainable params: 0\n",
            "_________________________________________________________________\n"
          ]
        }
      ],
      "source": [
        "stacked_ae.summary()\n",
        "encoder.summary()\n",
        "decoder.summary()"
      ]
    },
    {
      "cell_type": "code",
      "execution_count": null,
      "metadata": {
        "id": "12fjTryV28yn"
      },
      "outputs": [],
      "source": [
        "\n",
        "def rounded_accuracy(y_true, y_pred):\n",
        "    return keras.metrics.binary_accuracy(tf.round(y_true), tf.round(y_pred))"
      ]
    },
    {
      "cell_type": "code",
      "execution_count": null,
      "metadata": {
        "id": "8DquG3TLF7tD"
      },
      "outputs": [],
      "source": [
        "stacked_ae.compile(optimizer = 'adam', loss = 'binary_crossentropy', metrics=[rounded_accuracy])"
      ]
    },
    {
      "cell_type": "code",
      "execution_count": null,
      "metadata": {
        "colab": {
          "base_uri": "https://localhost:8080/"
        },
        "id": "73M6nWs-GSQQ",
        "outputId": "dbe5530f-f4b2-4899-fef4-65dcba3040ff"
      },
      "outputs": [
        {
          "output_type": "stream",
          "name": "stdout",
          "text": [
            "Epoch 1/21\n",
            "43/43 [==============================] - 1s 8ms/step - loss: 0.6497 - rounded_accuracy: 0.6743 - val_loss: 0.6300 - val_rounded_accuracy: 0.7342\n",
            "Epoch 2/21\n",
            "43/43 [==============================] - 0s 4ms/step - loss: 0.6155 - rounded_accuracy: 0.7884 - val_loss: 0.6015 - val_rounded_accuracy: 0.8331\n",
            "Epoch 3/21\n",
            "43/43 [==============================] - 0s 4ms/step - loss: 0.5975 - rounded_accuracy: 0.8422 - val_loss: 0.5943 - val_rounded_accuracy: 0.8473\n",
            "Epoch 4/21\n",
            "43/43 [==============================] - 0s 5ms/step - loss: 0.5932 - rounded_accuracy: 0.8485 - val_loss: 0.5916 - val_rounded_accuracy: 0.8511\n",
            "Epoch 5/21\n",
            "43/43 [==============================] - 0s 5ms/step - loss: 0.5902 - rounded_accuracy: 0.8568 - val_loss: 0.5874 - val_rounded_accuracy: 0.8649\n",
            "Epoch 6/21\n",
            "43/43 [==============================] - 0s 5ms/step - loss: 0.5854 - rounded_accuracy: 0.8701 - val_loss: 0.5834 - val_rounded_accuracy: 0.8734\n",
            "Epoch 7/21\n",
            "43/43 [==============================] - 0s 5ms/step - loss: 0.5833 - rounded_accuracy: 0.8748 - val_loss: 0.5824 - val_rounded_accuracy: 0.8755\n",
            "Epoch 8/21\n",
            "43/43 [==============================] - 0s 6ms/step - loss: 0.5827 - rounded_accuracy: 0.8760 - val_loss: 0.5817 - val_rounded_accuracy: 0.8772\n",
            "Epoch 9/21\n",
            "43/43 [==============================] - 0s 4ms/step - loss: 0.5819 - rounded_accuracy: 0.8783 - val_loss: 0.5813 - val_rounded_accuracy: 0.8778\n",
            "Epoch 10/21\n",
            "43/43 [==============================] - 0s 5ms/step - loss: 0.5812 - rounded_accuracy: 0.8800 - val_loss: 0.5807 - val_rounded_accuracy: 0.8787\n",
            "Epoch 11/21\n",
            "43/43 [==============================] - 0s 5ms/step - loss: 0.5803 - rounded_accuracy: 0.8821 - val_loss: 0.5798 - val_rounded_accuracy: 0.8811\n",
            "Epoch 12/21\n",
            "43/43 [==============================] - 0s 5ms/step - loss: 0.5791 - rounded_accuracy: 0.8856 - val_loss: 0.5790 - val_rounded_accuracy: 0.8834\n",
            "Epoch 13/21\n",
            "43/43 [==============================] - 0s 5ms/step - loss: 0.5782 - rounded_accuracy: 0.8883 - val_loss: 0.5784 - val_rounded_accuracy: 0.8849\n",
            "Epoch 14/21\n",
            "43/43 [==============================] - 0s 5ms/step - loss: 0.5774 - rounded_accuracy: 0.8900 - val_loss: 0.5774 - val_rounded_accuracy: 0.8884\n",
            "Epoch 15/21\n",
            "43/43 [==============================] - 0s 5ms/step - loss: 0.5766 - rounded_accuracy: 0.8917 - val_loss: 0.5765 - val_rounded_accuracy: 0.8905\n",
            "Epoch 16/21\n",
            "43/43 [==============================] - 0s 5ms/step - loss: 0.5759 - rounded_accuracy: 0.8932 - val_loss: 0.5760 - val_rounded_accuracy: 0.8915\n",
            "Epoch 17/21\n",
            "43/43 [==============================] - 0s 5ms/step - loss: 0.5753 - rounded_accuracy: 0.8952 - val_loss: 0.5752 - val_rounded_accuracy: 0.8936\n",
            "Epoch 18/21\n",
            "43/43 [==============================] - 0s 5ms/step - loss: 0.5748 - rounded_accuracy: 0.8966 - val_loss: 0.5749 - val_rounded_accuracy: 0.8947\n",
            "Epoch 19/21\n",
            "43/43 [==============================] - 0s 5ms/step - loss: 0.5744 - rounded_accuracy: 0.8980 - val_loss: 0.5747 - val_rounded_accuracy: 0.8953\n",
            "Epoch 20/21\n",
            "43/43 [==============================] - 0s 5ms/step - loss: 0.5741 - rounded_accuracy: 0.8985 - val_loss: 0.5744 - val_rounded_accuracy: 0.8957\n",
            "Epoch 21/21\n",
            "43/43 [==============================] - 0s 5ms/step - loss: 0.5740 - rounded_accuracy: 0.8990 - val_loss: 0.5744 - val_rounded_accuracy: 0.8959\n"
          ]
        },
        {
          "output_type": "execute_result",
          "data": {
            "text/plain": [
              "<keras.callbacks.History at 0x7f540f4ce690>"
            ]
          },
          "metadata": {},
          "execution_count": 40
        }
      ],
      "source": [
        "stacked_ae.fit(x_train_scaled.values, x_train_scaled.values,epochs = 21, batch_size = 32, shuffle = False,validation_data=(x_test_scaled.values, x_test_scaled.values))"
      ]
    },
    {
      "cell_type": "code",
      "execution_count": null,
      "metadata": {
        "id": "pmxT50YjRCSc"
      },
      "outputs": [],
      "source": [
        "encoder_layer = stacked_ae.get_layer('sequential')"
      ]
    },
    {
      "cell_type": "code",
      "execution_count": null,
      "metadata": {
        "id": "1KV-PBJILuCh"
      },
      "outputs": [],
      "source": [
        "fc = pd.DataFrame(encoder_layer.predict(x_train_scaled))\n",
        "fc = fc.add_prefix('feature_')"
      ]
    },
    {
      "cell_type": "code",
      "execution_count": null,
      "metadata": {
        "id": "plIJdgxhR4am"
      },
      "outputs": [],
      "source": [
        "fc['target'] = target"
      ]
    },
    {
      "cell_type": "code",
      "execution_count": null,
      "metadata": {
        "colab": {
          "base_uri": "https://localhost:8080/",
          "height": 268
        },
        "id": "XDaFAoD_R8ZT",
        "outputId": "df63cb74-1d55-489f-e774-315503c9a53a"
      },
      "outputs": [
        {
          "output_type": "execute_result",
          "data": {
            "text/html": [
              "\n",
              "  <div id=\"df-23cc1a07-4057-4784-b5e0-ccd0c5fe69c4\">\n",
              "    <div class=\"colab-df-container\">\n",
              "      <div>\n",
              "<style scoped>\n",
              "    .dataframe tbody tr th:only-of-type {\n",
              "        vertical-align: middle;\n",
              "    }\n",
              "\n",
              "    .dataframe tbody tr th {\n",
              "        vertical-align: top;\n",
              "    }\n",
              "\n",
              "    .dataframe thead th {\n",
              "        text-align: right;\n",
              "    }\n",
              "</style>\n",
              "<table border=\"1\" class=\"dataframe\">\n",
              "  <thead>\n",
              "    <tr style=\"text-align: right;\">\n",
              "      <th></th>\n",
              "      <th>feature_0</th>\n",
              "      <th>feature_1</th>\n",
              "      <th>feature_2</th>\n",
              "      <th>feature_3</th>\n",
              "      <th>feature_4</th>\n",
              "      <th>feature_5</th>\n",
              "      <th>feature_6</th>\n",
              "      <th>feature_7</th>\n",
              "      <th>feature_8</th>\n",
              "      <th>feature_9</th>\n",
              "      <th>feature_10</th>\n",
              "      <th>feature_11</th>\n",
              "      <th>feature_12</th>\n",
              "      <th>feature_13</th>\n",
              "      <th>feature_14</th>\n",
              "      <th>feature_15</th>\n",
              "      <th>feature_16</th>\n",
              "      <th>feature_17</th>\n",
              "      <th>feature_18</th>\n",
              "      <th>feature_19</th>\n",
              "      <th>target</th>\n",
              "    </tr>\n",
              "  </thead>\n",
              "  <tbody>\n",
              "    <tr>\n",
              "      <th>0</th>\n",
              "      <td>5.848542</td>\n",
              "      <td>4.597788</td>\n",
              "      <td>2.090986</td>\n",
              "      <td>4.184164</td>\n",
              "      <td>3.486763</td>\n",
              "      <td>0.0</td>\n",
              "      <td>0.0</td>\n",
              "      <td>0.588654</td>\n",
              "      <td>1.922897</td>\n",
              "      <td>0.699916</td>\n",
              "      <td>1.717253</td>\n",
              "      <td>0.000000</td>\n",
              "      <td>1.116614</td>\n",
              "      <td>0.0</td>\n",
              "      <td>3.285729</td>\n",
              "      <td>4.891742</td>\n",
              "      <td>4.234894</td>\n",
              "      <td>4.550456</td>\n",
              "      <td>0.0</td>\n",
              "      <td>0.0</td>\n",
              "      <td>2</td>\n",
              "    </tr>\n",
              "    <tr>\n",
              "      <th>1</th>\n",
              "      <td>3.690472</td>\n",
              "      <td>3.465256</td>\n",
              "      <td>2.540963</td>\n",
              "      <td>3.901845</td>\n",
              "      <td>3.670861</td>\n",
              "      <td>0.0</td>\n",
              "      <td>0.0</td>\n",
              "      <td>0.000000</td>\n",
              "      <td>2.431295</td>\n",
              "      <td>1.118271</td>\n",
              "      <td>2.922976</td>\n",
              "      <td>0.000000</td>\n",
              "      <td>0.225244</td>\n",
              "      <td>0.0</td>\n",
              "      <td>2.533271</td>\n",
              "      <td>4.594973</td>\n",
              "      <td>5.751458</td>\n",
              "      <td>5.852697</td>\n",
              "      <td>0.0</td>\n",
              "      <td>0.0</td>\n",
              "      <td>2</td>\n",
              "    </tr>\n",
              "    <tr>\n",
              "      <th>2</th>\n",
              "      <td>4.150273</td>\n",
              "      <td>5.690341</td>\n",
              "      <td>2.574175</td>\n",
              "      <td>2.355637</td>\n",
              "      <td>3.746902</td>\n",
              "      <td>0.0</td>\n",
              "      <td>0.0</td>\n",
              "      <td>0.773879</td>\n",
              "      <td>2.370659</td>\n",
              "      <td>1.426916</td>\n",
              "      <td>1.916409</td>\n",
              "      <td>0.134964</td>\n",
              "      <td>0.788628</td>\n",
              "      <td>0.0</td>\n",
              "      <td>4.137576</td>\n",
              "      <td>3.275564</td>\n",
              "      <td>3.763237</td>\n",
              "      <td>2.758321</td>\n",
              "      <td>0.0</td>\n",
              "      <td>0.0</td>\n",
              "      <td>2</td>\n",
              "    </tr>\n",
              "    <tr>\n",
              "      <th>3</th>\n",
              "      <td>5.162079</td>\n",
              "      <td>2.207321</td>\n",
              "      <td>1.344088</td>\n",
              "      <td>4.677194</td>\n",
              "      <td>2.186605</td>\n",
              "      <td>0.0</td>\n",
              "      <td>0.0</td>\n",
              "      <td>0.461523</td>\n",
              "      <td>2.051918</td>\n",
              "      <td>0.688185</td>\n",
              "      <td>1.399773</td>\n",
              "      <td>0.000000</td>\n",
              "      <td>0.470539</td>\n",
              "      <td>0.0</td>\n",
              "      <td>0.680097</td>\n",
              "      <td>4.340216</td>\n",
              "      <td>4.876615</td>\n",
              "      <td>5.410196</td>\n",
              "      <td>0.0</td>\n",
              "      <td>0.0</td>\n",
              "      <td>2</td>\n",
              "    </tr>\n",
              "    <tr>\n",
              "      <th>4</th>\n",
              "      <td>3.403424</td>\n",
              "      <td>2.611434</td>\n",
              "      <td>2.496387</td>\n",
              "      <td>0.787465</td>\n",
              "      <td>4.758105</td>\n",
              "      <td>0.0</td>\n",
              "      <td>0.0</td>\n",
              "      <td>0.000000</td>\n",
              "      <td>2.373751</td>\n",
              "      <td>0.000000</td>\n",
              "      <td>2.334891</td>\n",
              "      <td>0.000000</td>\n",
              "      <td>0.821549</td>\n",
              "      <td>0.0</td>\n",
              "      <td>2.464468</td>\n",
              "      <td>4.433143</td>\n",
              "      <td>2.559212</td>\n",
              "      <td>5.173135</td>\n",
              "      <td>0.0</td>\n",
              "      <td>0.0</td>\n",
              "      <td>2</td>\n",
              "    </tr>\n",
              "  </tbody>\n",
              "</table>\n",
              "</div>\n",
              "      <button class=\"colab-df-convert\" onclick=\"convertToInteractive('df-23cc1a07-4057-4784-b5e0-ccd0c5fe69c4')\"\n",
              "              title=\"Convert this dataframe to an interactive table.\"\n",
              "              style=\"display:none;\">\n",
              "        \n",
              "  <svg xmlns=\"http://www.w3.org/2000/svg\" height=\"24px\"viewBox=\"0 0 24 24\"\n",
              "       width=\"24px\">\n",
              "    <path d=\"M0 0h24v24H0V0z\" fill=\"none\"/>\n",
              "    <path d=\"M18.56 5.44l.94 2.06.94-2.06 2.06-.94-2.06-.94-.94-2.06-.94 2.06-2.06.94zm-11 1L8.5 8.5l.94-2.06 2.06-.94-2.06-.94L8.5 2.5l-.94 2.06-2.06.94zm10 10l.94 2.06.94-2.06 2.06-.94-2.06-.94-.94-2.06-.94 2.06-2.06.94z\"/><path d=\"M17.41 7.96l-1.37-1.37c-.4-.4-.92-.59-1.43-.59-.52 0-1.04.2-1.43.59L10.3 9.45l-7.72 7.72c-.78.78-.78 2.05 0 2.83L4 21.41c.39.39.9.59 1.41.59.51 0 1.02-.2 1.41-.59l7.78-7.78 2.81-2.81c.8-.78.8-2.07 0-2.86zM5.41 20L4 18.59l7.72-7.72 1.47 1.35L5.41 20z\"/>\n",
              "  </svg>\n",
              "      </button>\n",
              "      \n",
              "  <style>\n",
              "    .colab-df-container {\n",
              "      display:flex;\n",
              "      flex-wrap:wrap;\n",
              "      gap: 12px;\n",
              "    }\n",
              "\n",
              "    .colab-df-convert {\n",
              "      background-color: #E8F0FE;\n",
              "      border: none;\n",
              "      border-radius: 50%;\n",
              "      cursor: pointer;\n",
              "      display: none;\n",
              "      fill: #1967D2;\n",
              "      height: 32px;\n",
              "      padding: 0 0 0 0;\n",
              "      width: 32px;\n",
              "    }\n",
              "\n",
              "    .colab-df-convert:hover {\n",
              "      background-color: #E2EBFA;\n",
              "      box-shadow: 0px 1px 2px rgba(60, 64, 67, 0.3), 0px 1px 3px 1px rgba(60, 64, 67, 0.15);\n",
              "      fill: #174EA6;\n",
              "    }\n",
              "\n",
              "    [theme=dark] .colab-df-convert {\n",
              "      background-color: #3B4455;\n",
              "      fill: #D2E3FC;\n",
              "    }\n",
              "\n",
              "    [theme=dark] .colab-df-convert:hover {\n",
              "      background-color: #434B5C;\n",
              "      box-shadow: 0px 1px 3px 1px rgba(0, 0, 0, 0.15);\n",
              "      filter: drop-shadow(0px 1px 2px rgba(0, 0, 0, 0.3));\n",
              "      fill: #FFFFFF;\n",
              "    }\n",
              "  </style>\n",
              "\n",
              "      <script>\n",
              "        const buttonEl =\n",
              "          document.querySelector('#df-23cc1a07-4057-4784-b5e0-ccd0c5fe69c4 button.colab-df-convert');\n",
              "        buttonEl.style.display =\n",
              "          google.colab.kernel.accessAllowed ? 'block' : 'none';\n",
              "\n",
              "        async function convertToInteractive(key) {\n",
              "          const element = document.querySelector('#df-23cc1a07-4057-4784-b5e0-ccd0c5fe69c4');\n",
              "          const dataTable =\n",
              "            await google.colab.kernel.invokeFunction('convertToInteractive',\n",
              "                                                     [key], {});\n",
              "          if (!dataTable) return;\n",
              "\n",
              "          const docLinkHtml = 'Like what you see? Visit the ' +\n",
              "            '<a target=\"_blank\" href=https://colab.research.google.com/notebooks/data_table.ipynb>data table notebook</a>'\n",
              "            + ' to learn more about interactive tables.';\n",
              "          element.innerHTML = '';\n",
              "          dataTable['output_type'] = 'display_data';\n",
              "          await google.colab.output.renderOutput(dataTable, element);\n",
              "          const docLink = document.createElement('div');\n",
              "          docLink.innerHTML = docLinkHtml;\n",
              "          element.appendChild(docLink);\n",
              "        }\n",
              "      </script>\n",
              "    </div>\n",
              "  </div>\n",
              "  "
            ],
            "text/plain": [
              "   feature_0  feature_1  feature_2  ...  feature_18  feature_19  target\n",
              "0   5.848542   4.597788   2.090986  ...         0.0         0.0       2\n",
              "1   3.690472   3.465256   2.540963  ...         0.0         0.0       2\n",
              "2   4.150273   5.690341   2.574175  ...         0.0         0.0       2\n",
              "3   5.162079   2.207321   1.344088  ...         0.0         0.0       2\n",
              "4   3.403424   2.611434   2.496387  ...         0.0         0.0       2\n",
              "\n",
              "[5 rows x 21 columns]"
            ]
          },
          "metadata": {},
          "execution_count": 44
        }
      ],
      "source": [
        "fc.head()"
      ]
    },
    {
      "cell_type": "code",
      "execution_count": null,
      "metadata": {
        "id": "rhQZFWWqCPAs"
      },
      "outputs": [],
      "source": [
        "fc1 = fc.copy()"
      ]
    },
    {
      "cell_type": "code",
      "execution_count": null,
      "metadata": {
        "colab": {
          "base_uri": "https://localhost:8080/"
        },
        "id": "-lTUvnl5-lGK",
        "outputId": "319682af-0e34-4061-b4a4-aa61128d0e3e"
      },
      "outputs": [
        {
          "output_type": "execute_result",
          "data": {
            "text/plain": [
              "feature_0        0\n",
              "feature_1        5\n",
              "feature_2        7\n",
              "feature_3       16\n",
              "feature_4        3\n",
              "feature_5     1324\n",
              "feature_6     1358\n",
              "feature_7      775\n",
              "feature_8       29\n",
              "feature_9       14\n",
              "feature_10       9\n",
              "feature_11     658\n",
              "feature_12     114\n",
              "feature_13    1358\n",
              "feature_14      19\n",
              "feature_15       0\n",
              "feature_16       3\n",
              "feature_17       4\n",
              "feature_18    1358\n",
              "feature_19    1358\n",
              "target         344\n",
              "dtype: int64"
            ]
          },
          "metadata": {},
          "execution_count": 46
        }
      ],
      "source": [
        "(fc==0).sum()"
      ]
    },
    {
      "cell_type": "code",
      "execution_count": null,
      "metadata": {
        "colab": {
          "base_uri": "https://localhost:8080/",
          "height": 419
        },
        "id": "_KAsQ2Sk9xaQ",
        "outputId": "bafa9900-327f-4f22-cc1c-5864bebe94e1"
      },
      "outputs": [
        {
          "output_type": "execute_result",
          "data": {
            "text/html": [
              "\n",
              "  <div id=\"df-7b3f87af-b150-4fda-8c7a-ea4efab45ba1\">\n",
              "    <div class=\"colab-df-container\">\n",
              "      <div>\n",
              "<style scoped>\n",
              "    .dataframe tbody tr th:only-of-type {\n",
              "        vertical-align: middle;\n",
              "    }\n",
              "\n",
              "    .dataframe tbody tr th {\n",
              "        vertical-align: top;\n",
              "    }\n",
              "\n",
              "    .dataframe thead th {\n",
              "        text-align: right;\n",
              "    }\n",
              "</style>\n",
              "<table border=\"1\" class=\"dataframe\">\n",
              "  <thead>\n",
              "    <tr style=\"text-align: right;\">\n",
              "      <th></th>\n",
              "      <th>feature_6</th>\n",
              "      <th>feature_13</th>\n",
              "      <th>feature_18</th>\n",
              "      <th>feature_19</th>\n",
              "    </tr>\n",
              "  </thead>\n",
              "  <tbody>\n",
              "    <tr>\n",
              "      <th>0</th>\n",
              "      <td>0.0</td>\n",
              "      <td>0.0</td>\n",
              "      <td>0.0</td>\n",
              "      <td>0.0</td>\n",
              "    </tr>\n",
              "    <tr>\n",
              "      <th>1</th>\n",
              "      <td>0.0</td>\n",
              "      <td>0.0</td>\n",
              "      <td>0.0</td>\n",
              "      <td>0.0</td>\n",
              "    </tr>\n",
              "    <tr>\n",
              "      <th>2</th>\n",
              "      <td>0.0</td>\n",
              "      <td>0.0</td>\n",
              "      <td>0.0</td>\n",
              "      <td>0.0</td>\n",
              "    </tr>\n",
              "    <tr>\n",
              "      <th>3</th>\n",
              "      <td>0.0</td>\n",
              "      <td>0.0</td>\n",
              "      <td>0.0</td>\n",
              "      <td>0.0</td>\n",
              "    </tr>\n",
              "    <tr>\n",
              "      <th>4</th>\n",
              "      <td>0.0</td>\n",
              "      <td>0.0</td>\n",
              "      <td>0.0</td>\n",
              "      <td>0.0</td>\n",
              "    </tr>\n",
              "    <tr>\n",
              "      <th>...</th>\n",
              "      <td>...</td>\n",
              "      <td>...</td>\n",
              "      <td>...</td>\n",
              "      <td>...</td>\n",
              "    </tr>\n",
              "    <tr>\n",
              "      <th>1353</th>\n",
              "      <td>0.0</td>\n",
              "      <td>0.0</td>\n",
              "      <td>0.0</td>\n",
              "      <td>0.0</td>\n",
              "    </tr>\n",
              "    <tr>\n",
              "      <th>1354</th>\n",
              "      <td>0.0</td>\n",
              "      <td>0.0</td>\n",
              "      <td>0.0</td>\n",
              "      <td>0.0</td>\n",
              "    </tr>\n",
              "    <tr>\n",
              "      <th>1355</th>\n",
              "      <td>0.0</td>\n",
              "      <td>0.0</td>\n",
              "      <td>0.0</td>\n",
              "      <td>0.0</td>\n",
              "    </tr>\n",
              "    <tr>\n",
              "      <th>1356</th>\n",
              "      <td>0.0</td>\n",
              "      <td>0.0</td>\n",
              "      <td>0.0</td>\n",
              "      <td>0.0</td>\n",
              "    </tr>\n",
              "    <tr>\n",
              "      <th>1357</th>\n",
              "      <td>0.0</td>\n",
              "      <td>0.0</td>\n",
              "      <td>0.0</td>\n",
              "      <td>0.0</td>\n",
              "    </tr>\n",
              "  </tbody>\n",
              "</table>\n",
              "<p>1358 rows × 4 columns</p>\n",
              "</div>\n",
              "      <button class=\"colab-df-convert\" onclick=\"convertToInteractive('df-7b3f87af-b150-4fda-8c7a-ea4efab45ba1')\"\n",
              "              title=\"Convert this dataframe to an interactive table.\"\n",
              "              style=\"display:none;\">\n",
              "        \n",
              "  <svg xmlns=\"http://www.w3.org/2000/svg\" height=\"24px\"viewBox=\"0 0 24 24\"\n",
              "       width=\"24px\">\n",
              "    <path d=\"M0 0h24v24H0V0z\" fill=\"none\"/>\n",
              "    <path d=\"M18.56 5.44l.94 2.06.94-2.06 2.06-.94-2.06-.94-.94-2.06-.94 2.06-2.06.94zm-11 1L8.5 8.5l.94-2.06 2.06-.94-2.06-.94L8.5 2.5l-.94 2.06-2.06.94zm10 10l.94 2.06.94-2.06 2.06-.94-2.06-.94-.94-2.06-.94 2.06-2.06.94z\"/><path d=\"M17.41 7.96l-1.37-1.37c-.4-.4-.92-.59-1.43-.59-.52 0-1.04.2-1.43.59L10.3 9.45l-7.72 7.72c-.78.78-.78 2.05 0 2.83L4 21.41c.39.39.9.59 1.41.59.51 0 1.02-.2 1.41-.59l7.78-7.78 2.81-2.81c.8-.78.8-2.07 0-2.86zM5.41 20L4 18.59l7.72-7.72 1.47 1.35L5.41 20z\"/>\n",
              "  </svg>\n",
              "      </button>\n",
              "      \n",
              "  <style>\n",
              "    .colab-df-container {\n",
              "      display:flex;\n",
              "      flex-wrap:wrap;\n",
              "      gap: 12px;\n",
              "    }\n",
              "\n",
              "    .colab-df-convert {\n",
              "      background-color: #E8F0FE;\n",
              "      border: none;\n",
              "      border-radius: 50%;\n",
              "      cursor: pointer;\n",
              "      display: none;\n",
              "      fill: #1967D2;\n",
              "      height: 32px;\n",
              "      padding: 0 0 0 0;\n",
              "      width: 32px;\n",
              "    }\n",
              "\n",
              "    .colab-df-convert:hover {\n",
              "      background-color: #E2EBFA;\n",
              "      box-shadow: 0px 1px 2px rgba(60, 64, 67, 0.3), 0px 1px 3px 1px rgba(60, 64, 67, 0.15);\n",
              "      fill: #174EA6;\n",
              "    }\n",
              "\n",
              "    [theme=dark] .colab-df-convert {\n",
              "      background-color: #3B4455;\n",
              "      fill: #D2E3FC;\n",
              "    }\n",
              "\n",
              "    [theme=dark] .colab-df-convert:hover {\n",
              "      background-color: #434B5C;\n",
              "      box-shadow: 0px 1px 3px 1px rgba(0, 0, 0, 0.15);\n",
              "      filter: drop-shadow(0px 1px 2px rgba(0, 0, 0, 0.3));\n",
              "      fill: #FFFFFF;\n",
              "    }\n",
              "  </style>\n",
              "\n",
              "      <script>\n",
              "        const buttonEl =\n",
              "          document.querySelector('#df-7b3f87af-b150-4fda-8c7a-ea4efab45ba1 button.colab-df-convert');\n",
              "        buttonEl.style.display =\n",
              "          google.colab.kernel.accessAllowed ? 'block' : 'none';\n",
              "\n",
              "        async function convertToInteractive(key) {\n",
              "          const element = document.querySelector('#df-7b3f87af-b150-4fda-8c7a-ea4efab45ba1');\n",
              "          const dataTable =\n",
              "            await google.colab.kernel.invokeFunction('convertToInteractive',\n",
              "                                                     [key], {});\n",
              "          if (!dataTable) return;\n",
              "\n",
              "          const docLinkHtml = 'Like what you see? Visit the ' +\n",
              "            '<a target=\"_blank\" href=https://colab.research.google.com/notebooks/data_table.ipynb>data table notebook</a>'\n",
              "            + ' to learn more about interactive tables.';\n",
              "          element.innerHTML = '';\n",
              "          dataTable['output_type'] = 'display_data';\n",
              "          await google.colab.output.renderOutput(dataTable, element);\n",
              "          const docLink = document.createElement('div');\n",
              "          docLink.innerHTML = docLinkHtml;\n",
              "          element.appendChild(docLink);\n",
              "        }\n",
              "      </script>\n",
              "    </div>\n",
              "  </div>\n",
              "  "
            ],
            "text/plain": [
              "      feature_6  feature_13  feature_18  feature_19\n",
              "0           0.0         0.0         0.0         0.0\n",
              "1           0.0         0.0         0.0         0.0\n",
              "2           0.0         0.0         0.0         0.0\n",
              "3           0.0         0.0         0.0         0.0\n",
              "4           0.0         0.0         0.0         0.0\n",
              "...         ...         ...         ...         ...\n",
              "1353        0.0         0.0         0.0         0.0\n",
              "1354        0.0         0.0         0.0         0.0\n",
              "1355        0.0         0.0         0.0         0.0\n",
              "1356        0.0         0.0         0.0         0.0\n",
              "1357        0.0         0.0         0.0         0.0\n",
              "\n",
              "[1358 rows x 4 columns]"
            ]
          },
          "metadata": {},
          "execution_count": 47
        }
      ],
      "source": [
        "drp = fc.loc[:, (fc == 0).all()]\n",
        "drp"
      ]
    },
    {
      "cell_type": "code",
      "execution_count": null,
      "metadata": {
        "id": "XlOS595szBMf"
      },
      "outputs": [],
      "source": [
        "fc = fc.drop(drp,axis=1)"
      ]
    },
    {
      "cell_type": "code",
      "execution_count": null,
      "metadata": {
        "colab": {
          "base_uri": "https://localhost:8080/",
          "height": 268
        },
        "id": "VkbZbd3vlgl9",
        "outputId": "f3445bb3-6d65-47f1-a70a-121bdcbf0820"
      },
      "outputs": [
        {
          "output_type": "execute_result",
          "data": {
            "text/html": [
              "\n",
              "  <div id=\"df-dd9c7ab1-1843-4696-beae-37b08103a4c1\">\n",
              "    <div class=\"colab-df-container\">\n",
              "      <div>\n",
              "<style scoped>\n",
              "    .dataframe tbody tr th:only-of-type {\n",
              "        vertical-align: middle;\n",
              "    }\n",
              "\n",
              "    .dataframe tbody tr th {\n",
              "        vertical-align: top;\n",
              "    }\n",
              "\n",
              "    .dataframe thead th {\n",
              "        text-align: right;\n",
              "    }\n",
              "</style>\n",
              "<table border=\"1\" class=\"dataframe\">\n",
              "  <thead>\n",
              "    <tr style=\"text-align: right;\">\n",
              "      <th></th>\n",
              "      <th>feature_0</th>\n",
              "      <th>feature_1</th>\n",
              "      <th>feature_2</th>\n",
              "      <th>feature_3</th>\n",
              "      <th>feature_4</th>\n",
              "      <th>feature_5</th>\n",
              "      <th>feature_7</th>\n",
              "      <th>feature_8</th>\n",
              "      <th>feature_9</th>\n",
              "      <th>feature_10</th>\n",
              "      <th>feature_11</th>\n",
              "      <th>feature_12</th>\n",
              "      <th>feature_14</th>\n",
              "      <th>feature_15</th>\n",
              "      <th>feature_16</th>\n",
              "      <th>feature_17</th>\n",
              "      <th>target</th>\n",
              "    </tr>\n",
              "  </thead>\n",
              "  <tbody>\n",
              "    <tr>\n",
              "      <th>0</th>\n",
              "      <td>5.848542</td>\n",
              "      <td>4.597788</td>\n",
              "      <td>2.090986</td>\n",
              "      <td>4.184164</td>\n",
              "      <td>3.486763</td>\n",
              "      <td>0.0</td>\n",
              "      <td>0.588654</td>\n",
              "      <td>1.922897</td>\n",
              "      <td>0.699916</td>\n",
              "      <td>1.717253</td>\n",
              "      <td>0.000000</td>\n",
              "      <td>1.116614</td>\n",
              "      <td>3.285729</td>\n",
              "      <td>4.891742</td>\n",
              "      <td>4.234894</td>\n",
              "      <td>4.550456</td>\n",
              "      <td>2</td>\n",
              "    </tr>\n",
              "    <tr>\n",
              "      <th>1</th>\n",
              "      <td>3.690472</td>\n",
              "      <td>3.465256</td>\n",
              "      <td>2.540963</td>\n",
              "      <td>3.901845</td>\n",
              "      <td>3.670861</td>\n",
              "      <td>0.0</td>\n",
              "      <td>0.000000</td>\n",
              "      <td>2.431295</td>\n",
              "      <td>1.118271</td>\n",
              "      <td>2.922976</td>\n",
              "      <td>0.000000</td>\n",
              "      <td>0.225244</td>\n",
              "      <td>2.533271</td>\n",
              "      <td>4.594973</td>\n",
              "      <td>5.751458</td>\n",
              "      <td>5.852697</td>\n",
              "      <td>2</td>\n",
              "    </tr>\n",
              "    <tr>\n",
              "      <th>2</th>\n",
              "      <td>4.150273</td>\n",
              "      <td>5.690341</td>\n",
              "      <td>2.574175</td>\n",
              "      <td>2.355637</td>\n",
              "      <td>3.746902</td>\n",
              "      <td>0.0</td>\n",
              "      <td>0.773879</td>\n",
              "      <td>2.370659</td>\n",
              "      <td>1.426916</td>\n",
              "      <td>1.916409</td>\n",
              "      <td>0.134964</td>\n",
              "      <td>0.788628</td>\n",
              "      <td>4.137576</td>\n",
              "      <td>3.275564</td>\n",
              "      <td>3.763237</td>\n",
              "      <td>2.758321</td>\n",
              "      <td>2</td>\n",
              "    </tr>\n",
              "    <tr>\n",
              "      <th>3</th>\n",
              "      <td>5.162079</td>\n",
              "      <td>2.207321</td>\n",
              "      <td>1.344088</td>\n",
              "      <td>4.677194</td>\n",
              "      <td>2.186605</td>\n",
              "      <td>0.0</td>\n",
              "      <td>0.461523</td>\n",
              "      <td>2.051918</td>\n",
              "      <td>0.688185</td>\n",
              "      <td>1.399773</td>\n",
              "      <td>0.000000</td>\n",
              "      <td>0.470539</td>\n",
              "      <td>0.680097</td>\n",
              "      <td>4.340216</td>\n",
              "      <td>4.876615</td>\n",
              "      <td>5.410196</td>\n",
              "      <td>2</td>\n",
              "    </tr>\n",
              "    <tr>\n",
              "      <th>4</th>\n",
              "      <td>3.403424</td>\n",
              "      <td>2.611434</td>\n",
              "      <td>2.496387</td>\n",
              "      <td>0.787465</td>\n",
              "      <td>4.758105</td>\n",
              "      <td>0.0</td>\n",
              "      <td>0.000000</td>\n",
              "      <td>2.373751</td>\n",
              "      <td>0.000000</td>\n",
              "      <td>2.334891</td>\n",
              "      <td>0.000000</td>\n",
              "      <td>0.821549</td>\n",
              "      <td>2.464468</td>\n",
              "      <td>4.433143</td>\n",
              "      <td>2.559212</td>\n",
              "      <td>5.173135</td>\n",
              "      <td>2</td>\n",
              "    </tr>\n",
              "  </tbody>\n",
              "</table>\n",
              "</div>\n",
              "      <button class=\"colab-df-convert\" onclick=\"convertToInteractive('df-dd9c7ab1-1843-4696-beae-37b08103a4c1')\"\n",
              "              title=\"Convert this dataframe to an interactive table.\"\n",
              "              style=\"display:none;\">\n",
              "        \n",
              "  <svg xmlns=\"http://www.w3.org/2000/svg\" height=\"24px\"viewBox=\"0 0 24 24\"\n",
              "       width=\"24px\">\n",
              "    <path d=\"M0 0h24v24H0V0z\" fill=\"none\"/>\n",
              "    <path d=\"M18.56 5.44l.94 2.06.94-2.06 2.06-.94-2.06-.94-.94-2.06-.94 2.06-2.06.94zm-11 1L8.5 8.5l.94-2.06 2.06-.94-2.06-.94L8.5 2.5l-.94 2.06-2.06.94zm10 10l.94 2.06.94-2.06 2.06-.94-2.06-.94-.94-2.06-.94 2.06-2.06.94z\"/><path d=\"M17.41 7.96l-1.37-1.37c-.4-.4-.92-.59-1.43-.59-.52 0-1.04.2-1.43.59L10.3 9.45l-7.72 7.72c-.78.78-.78 2.05 0 2.83L4 21.41c.39.39.9.59 1.41.59.51 0 1.02-.2 1.41-.59l7.78-7.78 2.81-2.81c.8-.78.8-2.07 0-2.86zM5.41 20L4 18.59l7.72-7.72 1.47 1.35L5.41 20z\"/>\n",
              "  </svg>\n",
              "      </button>\n",
              "      \n",
              "  <style>\n",
              "    .colab-df-container {\n",
              "      display:flex;\n",
              "      flex-wrap:wrap;\n",
              "      gap: 12px;\n",
              "    }\n",
              "\n",
              "    .colab-df-convert {\n",
              "      background-color: #E8F0FE;\n",
              "      border: none;\n",
              "      border-radius: 50%;\n",
              "      cursor: pointer;\n",
              "      display: none;\n",
              "      fill: #1967D2;\n",
              "      height: 32px;\n",
              "      padding: 0 0 0 0;\n",
              "      width: 32px;\n",
              "    }\n",
              "\n",
              "    .colab-df-convert:hover {\n",
              "      background-color: #E2EBFA;\n",
              "      box-shadow: 0px 1px 2px rgba(60, 64, 67, 0.3), 0px 1px 3px 1px rgba(60, 64, 67, 0.15);\n",
              "      fill: #174EA6;\n",
              "    }\n",
              "\n",
              "    [theme=dark] .colab-df-convert {\n",
              "      background-color: #3B4455;\n",
              "      fill: #D2E3FC;\n",
              "    }\n",
              "\n",
              "    [theme=dark] .colab-df-convert:hover {\n",
              "      background-color: #434B5C;\n",
              "      box-shadow: 0px 1px 3px 1px rgba(0, 0, 0, 0.15);\n",
              "      filter: drop-shadow(0px 1px 2px rgba(0, 0, 0, 0.3));\n",
              "      fill: #FFFFFF;\n",
              "    }\n",
              "  </style>\n",
              "\n",
              "      <script>\n",
              "        const buttonEl =\n",
              "          document.querySelector('#df-dd9c7ab1-1843-4696-beae-37b08103a4c1 button.colab-df-convert');\n",
              "        buttonEl.style.display =\n",
              "          google.colab.kernel.accessAllowed ? 'block' : 'none';\n",
              "\n",
              "        async function convertToInteractive(key) {\n",
              "          const element = document.querySelector('#df-dd9c7ab1-1843-4696-beae-37b08103a4c1');\n",
              "          const dataTable =\n",
              "            await google.colab.kernel.invokeFunction('convertToInteractive',\n",
              "                                                     [key], {});\n",
              "          if (!dataTable) return;\n",
              "\n",
              "          const docLinkHtml = 'Like what you see? Visit the ' +\n",
              "            '<a target=\"_blank\" href=https://colab.research.google.com/notebooks/data_table.ipynb>data table notebook</a>'\n",
              "            + ' to learn more about interactive tables.';\n",
              "          element.innerHTML = '';\n",
              "          dataTable['output_type'] = 'display_data';\n",
              "          await google.colab.output.renderOutput(dataTable, element);\n",
              "          const docLink = document.createElement('div');\n",
              "          docLink.innerHTML = docLinkHtml;\n",
              "          element.appendChild(docLink);\n",
              "        }\n",
              "      </script>\n",
              "    </div>\n",
              "  </div>\n",
              "  "
            ],
            "text/plain": [
              "   feature_0  feature_1  feature_2  ...  feature_16  feature_17  target\n",
              "0   5.848542   4.597788   2.090986  ...    4.234894    4.550456       2\n",
              "1   3.690472   3.465256   2.540963  ...    5.751458    5.852697       2\n",
              "2   4.150273   5.690341   2.574175  ...    3.763237    2.758321       2\n",
              "3   5.162079   2.207321   1.344088  ...    4.876615    5.410196       2\n",
              "4   3.403424   2.611434   2.496387  ...    2.559212    5.173135       2\n",
              "\n",
              "[5 rows x 17 columns]"
            ]
          },
          "metadata": {},
          "execution_count": 49
        }
      ],
      "source": [
        "fc.head()"
      ]
    },
    {
      "cell_type": "code",
      "execution_count": null,
      "metadata": {
        "id": "39_9et90-WcW"
      },
      "outputs": [],
      "source": [
        "for i in fc:\n",
        "  count = (fc[i] == 0).sum()\n",
        "  if (count>700) and (i!='target'):\n",
        "    fc = fc.drop(i,axis=1)\n",
        "\n"
      ]
    },
    {
      "cell_type": "markdown",
      "source": [
        "### FINAL DATA"
      ],
      "metadata": {
        "id": "ZMV5ORRe1NXB"
      }
    },
    {
      "cell_type": "code",
      "execution_count": null,
      "metadata": {
        "colab": {
          "base_uri": "https://localhost:8080/",
          "height": 268
        },
        "id": "_R8WsKhL_sSm",
        "outputId": "c99d3b99-1aba-4133-b8a5-133e3503223d"
      },
      "outputs": [
        {
          "output_type": "execute_result",
          "data": {
            "text/html": [
              "\n",
              "  <div id=\"df-c3e00a52-b6c3-478f-9ca9-37c41ed8297f\">\n",
              "    <div class=\"colab-df-container\">\n",
              "      <div>\n",
              "<style scoped>\n",
              "    .dataframe tbody tr th:only-of-type {\n",
              "        vertical-align: middle;\n",
              "    }\n",
              "\n",
              "    .dataframe tbody tr th {\n",
              "        vertical-align: top;\n",
              "    }\n",
              "\n",
              "    .dataframe thead th {\n",
              "        text-align: right;\n",
              "    }\n",
              "</style>\n",
              "<table border=\"1\" class=\"dataframe\">\n",
              "  <thead>\n",
              "    <tr style=\"text-align: right;\">\n",
              "      <th></th>\n",
              "      <th>feature_0</th>\n",
              "      <th>feature_1</th>\n",
              "      <th>feature_2</th>\n",
              "      <th>feature_3</th>\n",
              "      <th>feature_4</th>\n",
              "      <th>feature_8</th>\n",
              "      <th>feature_9</th>\n",
              "      <th>feature_10</th>\n",
              "      <th>feature_11</th>\n",
              "      <th>feature_12</th>\n",
              "      <th>feature_14</th>\n",
              "      <th>feature_15</th>\n",
              "      <th>feature_16</th>\n",
              "      <th>feature_17</th>\n",
              "      <th>target</th>\n",
              "    </tr>\n",
              "  </thead>\n",
              "  <tbody>\n",
              "    <tr>\n",
              "      <th>0</th>\n",
              "      <td>5.848542</td>\n",
              "      <td>4.597788</td>\n",
              "      <td>2.090986</td>\n",
              "      <td>4.184164</td>\n",
              "      <td>3.486763</td>\n",
              "      <td>1.922897</td>\n",
              "      <td>0.699916</td>\n",
              "      <td>1.717253</td>\n",
              "      <td>0.000000</td>\n",
              "      <td>1.116614</td>\n",
              "      <td>3.285729</td>\n",
              "      <td>4.891742</td>\n",
              "      <td>4.234894</td>\n",
              "      <td>4.550456</td>\n",
              "      <td>2</td>\n",
              "    </tr>\n",
              "    <tr>\n",
              "      <th>1</th>\n",
              "      <td>3.690472</td>\n",
              "      <td>3.465256</td>\n",
              "      <td>2.540963</td>\n",
              "      <td>3.901845</td>\n",
              "      <td>3.670861</td>\n",
              "      <td>2.431295</td>\n",
              "      <td>1.118271</td>\n",
              "      <td>2.922976</td>\n",
              "      <td>0.000000</td>\n",
              "      <td>0.225244</td>\n",
              "      <td>2.533271</td>\n",
              "      <td>4.594973</td>\n",
              "      <td>5.751458</td>\n",
              "      <td>5.852697</td>\n",
              "      <td>2</td>\n",
              "    </tr>\n",
              "    <tr>\n",
              "      <th>2</th>\n",
              "      <td>4.150273</td>\n",
              "      <td>5.690341</td>\n",
              "      <td>2.574175</td>\n",
              "      <td>2.355637</td>\n",
              "      <td>3.746902</td>\n",
              "      <td>2.370659</td>\n",
              "      <td>1.426916</td>\n",
              "      <td>1.916409</td>\n",
              "      <td>0.134964</td>\n",
              "      <td>0.788628</td>\n",
              "      <td>4.137576</td>\n",
              "      <td>3.275564</td>\n",
              "      <td>3.763237</td>\n",
              "      <td>2.758321</td>\n",
              "      <td>2</td>\n",
              "    </tr>\n",
              "    <tr>\n",
              "      <th>3</th>\n",
              "      <td>5.162079</td>\n",
              "      <td>2.207321</td>\n",
              "      <td>1.344088</td>\n",
              "      <td>4.677194</td>\n",
              "      <td>2.186605</td>\n",
              "      <td>2.051918</td>\n",
              "      <td>0.688185</td>\n",
              "      <td>1.399773</td>\n",
              "      <td>0.000000</td>\n",
              "      <td>0.470539</td>\n",
              "      <td>0.680097</td>\n",
              "      <td>4.340216</td>\n",
              "      <td>4.876615</td>\n",
              "      <td>5.410196</td>\n",
              "      <td>2</td>\n",
              "    </tr>\n",
              "    <tr>\n",
              "      <th>4</th>\n",
              "      <td>3.403424</td>\n",
              "      <td>2.611434</td>\n",
              "      <td>2.496387</td>\n",
              "      <td>0.787465</td>\n",
              "      <td>4.758105</td>\n",
              "      <td>2.373751</td>\n",
              "      <td>0.000000</td>\n",
              "      <td>2.334891</td>\n",
              "      <td>0.000000</td>\n",
              "      <td>0.821549</td>\n",
              "      <td>2.464468</td>\n",
              "      <td>4.433143</td>\n",
              "      <td>2.559212</td>\n",
              "      <td>5.173135</td>\n",
              "      <td>2</td>\n",
              "    </tr>\n",
              "  </tbody>\n",
              "</table>\n",
              "</div>\n",
              "      <button class=\"colab-df-convert\" onclick=\"convertToInteractive('df-c3e00a52-b6c3-478f-9ca9-37c41ed8297f')\"\n",
              "              title=\"Convert this dataframe to an interactive table.\"\n",
              "              style=\"display:none;\">\n",
              "        \n",
              "  <svg xmlns=\"http://www.w3.org/2000/svg\" height=\"24px\"viewBox=\"0 0 24 24\"\n",
              "       width=\"24px\">\n",
              "    <path d=\"M0 0h24v24H0V0z\" fill=\"none\"/>\n",
              "    <path d=\"M18.56 5.44l.94 2.06.94-2.06 2.06-.94-2.06-.94-.94-2.06-.94 2.06-2.06.94zm-11 1L8.5 8.5l.94-2.06 2.06-.94-2.06-.94L8.5 2.5l-.94 2.06-2.06.94zm10 10l.94 2.06.94-2.06 2.06-.94-2.06-.94-.94-2.06-.94 2.06-2.06.94z\"/><path d=\"M17.41 7.96l-1.37-1.37c-.4-.4-.92-.59-1.43-.59-.52 0-1.04.2-1.43.59L10.3 9.45l-7.72 7.72c-.78.78-.78 2.05 0 2.83L4 21.41c.39.39.9.59 1.41.59.51 0 1.02-.2 1.41-.59l7.78-7.78 2.81-2.81c.8-.78.8-2.07 0-2.86zM5.41 20L4 18.59l7.72-7.72 1.47 1.35L5.41 20z\"/>\n",
              "  </svg>\n",
              "      </button>\n",
              "      \n",
              "  <style>\n",
              "    .colab-df-container {\n",
              "      display:flex;\n",
              "      flex-wrap:wrap;\n",
              "      gap: 12px;\n",
              "    }\n",
              "\n",
              "    .colab-df-convert {\n",
              "      background-color: #E8F0FE;\n",
              "      border: none;\n",
              "      border-radius: 50%;\n",
              "      cursor: pointer;\n",
              "      display: none;\n",
              "      fill: #1967D2;\n",
              "      height: 32px;\n",
              "      padding: 0 0 0 0;\n",
              "      width: 32px;\n",
              "    }\n",
              "\n",
              "    .colab-df-convert:hover {\n",
              "      background-color: #E2EBFA;\n",
              "      box-shadow: 0px 1px 2px rgba(60, 64, 67, 0.3), 0px 1px 3px 1px rgba(60, 64, 67, 0.15);\n",
              "      fill: #174EA6;\n",
              "    }\n",
              "\n",
              "    [theme=dark] .colab-df-convert {\n",
              "      background-color: #3B4455;\n",
              "      fill: #D2E3FC;\n",
              "    }\n",
              "\n",
              "    [theme=dark] .colab-df-convert:hover {\n",
              "      background-color: #434B5C;\n",
              "      box-shadow: 0px 1px 3px 1px rgba(0, 0, 0, 0.15);\n",
              "      filter: drop-shadow(0px 1px 2px rgba(0, 0, 0, 0.3));\n",
              "      fill: #FFFFFF;\n",
              "    }\n",
              "  </style>\n",
              "\n",
              "      <script>\n",
              "        const buttonEl =\n",
              "          document.querySelector('#df-c3e00a52-b6c3-478f-9ca9-37c41ed8297f button.colab-df-convert');\n",
              "        buttonEl.style.display =\n",
              "          google.colab.kernel.accessAllowed ? 'block' : 'none';\n",
              "\n",
              "        async function convertToInteractive(key) {\n",
              "          const element = document.querySelector('#df-c3e00a52-b6c3-478f-9ca9-37c41ed8297f');\n",
              "          const dataTable =\n",
              "            await google.colab.kernel.invokeFunction('convertToInteractive',\n",
              "                                                     [key], {});\n",
              "          if (!dataTable) return;\n",
              "\n",
              "          const docLinkHtml = 'Like what you see? Visit the ' +\n",
              "            '<a target=\"_blank\" href=https://colab.research.google.com/notebooks/data_table.ipynb>data table notebook</a>'\n",
              "            + ' to learn more about interactive tables.';\n",
              "          element.innerHTML = '';\n",
              "          dataTable['output_type'] = 'display_data';\n",
              "          await google.colab.output.renderOutput(dataTable, element);\n",
              "          const docLink = document.createElement('div');\n",
              "          docLink.innerHTML = docLinkHtml;\n",
              "          element.appendChild(docLink);\n",
              "        }\n",
              "      </script>\n",
              "    </div>\n",
              "  </div>\n",
              "  "
            ],
            "text/plain": [
              "   feature_0  feature_1  feature_2  ...  feature_16  feature_17  target\n",
              "0   5.848542   4.597788   2.090986  ...    4.234894    4.550456       2\n",
              "1   3.690472   3.465256   2.540963  ...    5.751458    5.852697       2\n",
              "2   4.150273   5.690341   2.574175  ...    3.763237    2.758321       2\n",
              "3   5.162079   2.207321   1.344088  ...    4.876615    5.410196       2\n",
              "4   3.403424   2.611434   2.496387  ...    2.559212    5.173135       2\n",
              "\n",
              "[5 rows x 15 columns]"
            ]
          },
          "metadata": {},
          "execution_count": 51
        }
      ],
      "source": [
        "fc.head()"
      ]
    },
    {
      "cell_type": "markdown",
      "source": [
        "###EDA"
      ],
      "metadata": {
        "id": "g9Mtk-q101C0"
      }
    },
    {
      "cell_type": "code",
      "execution_count": null,
      "metadata": {
        "colab": {
          "base_uri": "https://localhost:8080/",
          "height": 497
        },
        "id": "FeEFJpDszblM",
        "outputId": "530506e3-97b4-46fa-d242-ec4b1efc3b41"
      },
      "outputs": [
        {
          "output_type": "execute_result",
          "data": {
            "text/plain": [
              "<matplotlib.axes._subplots.AxesSubplot at 0x7f540f36f910>"
            ]
          },
          "metadata": {},
          "execution_count": 52
        },
        {
          "output_type": "display_data",
          "data": {
            "image/png": "[encoded data removed]",
            "text/plain": [
              "<Figure size 1080x576 with 1 Axes>"
            ]
          },
          "metadata": {
            "needs_background": "light"
          }
        }
      ],
      "source": [
        "plt.figure(figsize=(15,8))\n",
        "fc.boxplot(showfliers=False)"
      ]
    },
    {
      "cell_type": "code",
      "execution_count": null,
      "metadata": {
        "colab": {
          "base_uri": "https://localhost:8080/",
          "height": 326
        },
        "id": "ZALcpWYEDbon",
        "outputId": "5b535e2e-78b5-4667-8055-ebdaa9fdc257"
      },
      "outputs": [
        {
          "output_type": "execute_result",
          "data": {
            "text/plain": [
              "<matplotlib.axes._subplots.AxesSubplot at 0x7f540ecf6c90>"
            ]
          },
          "metadata": {},
          "execution_count": 53
        },
        {
          "output_type": "display_data",
          "data": {
            "image/png": "[encoded data removed]",
            "text/plain": [
              "<Figure size 432x288 with 1 Axes>"
            ]
          },
          "metadata": {
            "needs_background": "light"
          }
        }
      ],
      "source": [
        "fc.corr()['target'][:-1].sort_values(ascending=False).plot(kind='bar')"
      ]
    },
    {
      "cell_type": "code",
      "source": [
        "sns.countplot(x='target',data=fc)"
      ],
      "metadata": {
        "colab": {
          "base_uri": "https://localhost:8080/",
          "height": 296
        },
        "id": "Q79ApJg6z2uI",
        "outputId": "a3c3091c-e2f3-49bb-e8cb-730e769bf89e"
      },
      "execution_count": null,
      "outputs": [
        {
          "output_type": "execute_result",
          "data": {
            "text/plain": [
              "<matplotlib.axes._subplots.AxesSubplot at 0x7f540ecaed90>"
            ]
          },
          "metadata": {},
          "execution_count": 54
        },
        {
          "output_type": "display_data",
          "data": {
            "image/png": "[encoded data removed]",
            "text/plain": [
              "<Figure size 432x288 with 1 Axes>"
            ]
          },
          "metadata": {
            "needs_background": "light"
          }
        }
      ]
    },
    {
      "cell_type": "code",
      "source": [
        "sns.distplot(fc)"
      ],
      "metadata": {
        "colab": {
          "base_uri": "https://localhost:8080/",
          "height": 336
        },
        "id": "vyicYfXk0k4y",
        "outputId": "d40b17de-97f1-474c-aaa9-630f5a99ff28"
      },
      "execution_count": null,
      "outputs": [
        {
          "output_type": "stream",
          "name": "stderr",
          "text": [
            "/usr/local/lib/python3.7/dist-packages/seaborn/distributions.py:2619: FutureWarning: `distplot` is a deprecated function and will be removed in a future version. Please adapt your code to use either `displot` (a figure-level function with similar flexibility) or `histplot` (an axes-level function for histograms).\n",
            "  warnings.warn(msg, FutureWarning)\n"
          ]
        },
        {
          "output_type": "execute_result",
          "data": {
            "text/plain": [
              "<matplotlib.axes._subplots.AxesSubplot at 0x7f540c958790>"
            ]
          },
          "metadata": {},
          "execution_count": 55
        },
        {
          "output_type": "display_data",
          "data": {
            "image/png": "[encoded data removed]",
            "text/plain": [
              "<Figure size 432x288 with 1 Axes>"
            ]
          },
          "metadata": {
            "needs_background": "light"
          }
        }
      ]
    },
    {
      "cell_type": "markdown",
      "source": [
        "#### RANDOM SAMPLING AND TRAIN TEST SPLITTING"
      ],
      "metadata": {
        "id": "znkKR7EO1Szo"
      }
    },
    {
      "cell_type": "code",
      "source": [
        "A1 = fc.drop('target',axis=1)\n",
        "b1 = fc['target']"
      ],
      "metadata": {
        "id": "VeDiUUqZoGq3"
      },
      "execution_count": null,
      "outputs": []
    },
    {
      "cell_type": "code",
      "source": [
        "import collections"
      ],
      "metadata": {
        "id": "wxiXsRqGoChp"
      },
      "execution_count": null,
      "outputs": []
    },
    {
      "cell_type": "code",
      "source": [
        "print(collections.Counter(b1))"
      ],
      "metadata": {
        "colab": {
          "base_uri": "https://localhost:8080/"
        },
        "id": "JW4rW4WIoCZr",
        "outputId": "0b478ef1-6977-4ba5-a824-ed6991ba6291"
      },
      "execution_count": null,
      "outputs": [
        {
          "output_type": "stream",
          "name": "stdout",
          "text": [
            "Counter({2: 1014, 0: 344})\n"
          ]
        }
      ]
    },
    {
      "cell_type": "code",
      "source": [
        "from imblearn.over_sampling import RandomOverSampler\n",
        "from imblearn.under_sampling import RandomUnderSampler"
      ],
      "metadata": {
        "id": "cORsnGjfoCSK"
      },
      "execution_count": null,
      "outputs": []
    },
    {
      "cell_type": "code",
      "source": [
        "# instantiating over and under sampler\n",
        "over = RandomOverSampler(sampling_strategy=0.5)\n",
        "under = RandomUnderSampler(sampling_strategy=0.8)\n",
        "# first performing oversampling to minority class\n",
        "X_over, y_over = over.fit_resample(A1, b1)\n",
        "print(f\"Oversampled:k{collections.Counter(y_over)}\")\n"
      ],
      "metadata": {
        "colab": {
          "base_uri": "https://localhost:8080/"
        },
        "id": "qAQIgaGDocbN",
        "outputId": "b7bf954f-7c47-4d40-8516-ef8076ec8c9a"
      },
      "execution_count": null,
      "outputs": [
        {
          "output_type": "stream",
          "name": "stdout",
          "text": [
            "Oversampled:kCounter({2: 1014, 0: 507})\n"
          ]
        }
      ]
    },
    {
      "cell_type": "code",
      "source": [
        "\n",
        "# now to comine under sampling \n",
        "X_combined_sampling, y_combined_sampling = under.fit_resample(X_over, y_over)\n",
        "print(f\"Combined Random Sampling:{collections.Counter(y_combined_sampling)}\")\n"
      ],
      "metadata": {
        "colab": {
          "base_uri": "https://localhost:8080/"
        },
        "id": "_yW6_jD_oCK_",
        "outputId": "a8e83845-c3fa-4b5e-981d-bc31427c2c2f"
      },
      "execution_count": null,
      "outputs": [
        {
          "output_type": "stream",
          "name": "stdout",
          "text": [
            "Combined Random Sampling:Counter({2: 633, 0: 507})\n"
          ]
        }
      ]
    },
    {
      "cell_type": "code",
      "source": [
        "A = X_combined_sampling\n",
        "b = y_combined_sampling"
      ],
      "metadata": {
        "id": "nBFpF7w5z1W-"
      },
      "execution_count": null,
      "outputs": []
    },
    {
      "cell_type": "code",
      "execution_count": null,
      "metadata": {
        "id": "IJXhjoL-HqfP"
      },
      "outputs": [],
      "source": [
        "A_train, A_test, b_train, b_test = train_test_split(A, b, test_size=0.30, random_state=101)"
      ]
    },
    {
      "cell_type": "code",
      "source": [
        "from sklearn.metrics import classification_report"
      ],
      "metadata": {
        "id": "d7KmrRptY5xy"
      },
      "execution_count": null,
      "outputs": []
    },
    {
      "cell_type": "code",
      "source": [
        "from sklearn.model_selection import GridSearchCV,RandomizedSearchCV"
      ],
      "metadata": {
        "id": "kbm5WA-R0mwz"
      },
      "execution_count": null,
      "outputs": []
    },
    {
      "cell_type": "markdown",
      "source": [
        "### RANDOM FOREST"
      ],
      "metadata": {
        "id": "ObCjPmff1XPc"
      }
    },
    {
      "cell_type": "code",
      "execution_count": null,
      "metadata": {
        "id": "ySCuHnGuJKPz"
      },
      "outputs": [],
      "source": [
        "from sklearn.ensemble import RandomForestClassifier"
      ]
    },
    {
      "cell_type": "code",
      "execution_count": null,
      "metadata": {
        "id": "rdoiXQwBUFBh"
      },
      "outputs": [],
      "source": [
        "rfc = RandomForestClassifier(n_estimators=1000)"
      ]
    },
    {
      "cell_type": "code",
      "execution_count": null,
      "metadata": {
        "colab": {
          "base_uri": "https://localhost:8080/"
        },
        "id": "EanHgnoyPIhi",
        "outputId": "8a7f6a13-c0e2-478c-9ee7-45b33a2787f1"
      },
      "outputs": [
        {
          "output_type": "execute_result",
          "data": {
            "text/plain": [
              "RandomForestClassifier(n_estimators=1000)"
            ]
          },
          "metadata": {},
          "execution_count": 68
        }
      ],
      "source": [
        "rfc.fit(A_train,b_train)"
      ]
    },
    {
      "cell_type": "code",
      "execution_count": null,
      "metadata": {
        "id": "F6qj6wc6PWkS"
      },
      "outputs": [],
      "source": [
        "predictions = rfc.predict(A_test)"
      ]
    },
    {
      "cell_type": "code",
      "execution_count": null,
      "metadata": {
        "colab": {
          "base_uri": "https://localhost:8080/"
        },
        "id": "9xva3JMaCvTm",
        "outputId": "a1d73d8d-03b8-4755-da88-f319c27ae5c9"
      },
      "outputs": [
        {
          "output_type": "stream",
          "name": "stdout",
          "text": [
            "              precision    recall  f1-score   support\n",
            "\n",
            "           0       0.72      0.58      0.64       160\n",
            "           2       0.69      0.80      0.74       182\n",
            "\n",
            "    accuracy                           0.70       342\n",
            "   macro avg       0.70      0.69      0.69       342\n",
            "weighted avg       0.70      0.70      0.69       342\n",
            "\n"
          ]
        }
      ],
      "source": [
        "print(classification_report(b_test,predictions))"
      ]
    },
    {
      "cell_type": "markdown",
      "source": [
        "XGboost "
      ],
      "metadata": {
        "id": "80VMEDLOCpBI"
      }
    },
    {
      "cell_type": "code",
      "source": [
        "import xgboost as xgb"
      ],
      "metadata": {
        "id": "El8r9uMl5MvM"
      },
      "execution_count": null,
      "outputs": []
    },
    {
      "cell_type": "code",
      "execution_count": null,
      "metadata": {
        "id": "_1Oiwp_1L5Fr"
      },
      "outputs": [],
      "source": [
        "from xgboost import XGBClassifier"
      ]
    },
    {
      "cell_type": "code",
      "source": [
        "\n",
        "xg = XGBClassifier()\n",
        "xg.fit(A_train, b_train)"
      ],
      "metadata": {
        "colab": {
          "base_uri": "https://localhost:8080/"
        },
        "id": "6kxVfUzXCuiN",
        "outputId": "c50f4b45-c2bf-4244-fde5-5c357e37f3c0"
      },
      "execution_count": null,
      "outputs": [
        {
          "output_type": "execute_result",
          "data": {
            "text/plain": [
              "XGBClassifier()"
            ]
          },
          "metadata": {},
          "execution_count": 73
        }
      ]
    },
    {
      "cell_type": "code",
      "source": [
        "\n",
        "y_pred = xg.predict(A_test)"
      ],
      "metadata": {
        "id": "ptqa32gZC2kT"
      },
      "execution_count": null,
      "outputs": []
    },
    {
      "cell_type": "code",
      "source": [
        "print(classification_report(b_test,y_pred))"
      ],
      "metadata": {
        "colab": {
          "base_uri": "https://localhost:8080/"
        },
        "id": "IRukxclmC95b",
        "outputId": "1300f605-3690-48c4-f13e-69086af83ab1"
      },
      "execution_count": null,
      "outputs": [
        {
          "output_type": "stream",
          "name": "stdout",
          "text": [
            "              precision    recall  f1-score   support\n",
            "\n",
            "           0       0.64      0.54      0.59       160\n",
            "           2       0.64      0.74      0.69       182\n",
            "\n",
            "    accuracy                           0.64       342\n",
            "   macro avg       0.64      0.64      0.64       342\n",
            "weighted avg       0.64      0.64      0.64       342\n",
            "\n"
          ]
        }
      ]
    },
    {
      "cell_type": "markdown",
      "source": [
        "### PARAMETER TUNED XGBoost"
      ],
      "metadata": {
        "id": "XzIrWvuZ5WVO"
      }
    },
    {
      "cell_type": "code",
      "source": [
        "from sklearn.model_selection import StratifiedKFold"
      ],
      "metadata": {
        "id": "bd5INCtFqLJO"
      },
      "execution_count": null,
      "outputs": []
    },
    {
      "cell_type": "code",
      "source": [
        "params = {\n",
        "        'min_child_weight': [1, 5, 10],\n",
        "        'gamma': [0.5, 1, 1.5, 2, 5],\n",
        "        'subsample': [0.6, 0.8, 1.0],\n",
        "        'colsample_bytree': [0.6, 0.8, 1.0],\n",
        "        'max_depth': [3, 4, 5]\n",
        "        }"
      ],
      "metadata": {
        "id": "9DM8ER9WowhG"
      },
      "execution_count": null,
      "outputs": []
    },
    {
      "cell_type": "code",
      "source": [
        "xgb = XGBClassifier(learning_rate=0.02, n_estimators=600, objective='binary:logistic',\n",
        "                    silent=True, nthread=1)"
      ],
      "metadata": {
        "id": "kKtoMj7Ip4Cg"
      },
      "execution_count": null,
      "outputs": []
    },
    {
      "cell_type": "code",
      "source": [
        "folds = 3\n",
        "param_comb = 5\n",
        "\n",
        "skf = StratifiedKFold(n_splits=folds, shuffle = True, random_state = 1001)\n",
        "\n",
        "random_search = RandomizedSearchCV(xgb, param_distributions=params, n_iter=param_comb, scoring='roc_auc', n_jobs=4, cv=skf.split(A,b), verbose=3, random_state=1001 )\n"
      ],
      "metadata": {
        "id": "UTkE8Ywhp7mg"
      },
      "execution_count": null,
      "outputs": []
    },
    {
      "cell_type": "code",
      "source": [
        "random_search.fit(A,b)\n"
      ],
      "metadata": {
        "colab": {
          "base_uri": "https://localhost:8080/"
        },
        "id": "FxaWokpbqF0X",
        "outputId": "0fdaa21a-508b-441c-8dc5-9eacad8a0066"
      },
      "execution_count": null,
      "outputs": [
        {
          "output_type": "stream",
          "name": "stdout",
          "text": [
            "Fitting 3 folds for each of 5 candidates, totalling 15 fits\n"
          ]
        },
        {
          "output_type": "execute_result",
          "data": {
            "text/plain": [
              "RandomizedSearchCV(cv=<generator object _BaseKFold.split at 0x7f5407796dd0>,\n",
              "                   estimator=XGBClassifier(learning_rate=0.02, n_estimators=600,\n",
              "                                           nthread=1, silent=True),\n",
              "                   n_iter=5, n_jobs=4,\n",
              "                   param_distributions={'colsample_bytree': [0.6, 0.8, 1.0],\n",
              "                                        'gamma': [0.5, 1, 1.5, 2, 5],\n",
              "                                        'max_depth': [3, 4, 5],\n",
              "                                        'min_child_weight': [1, 5, 10],\n",
              "                                        'subsample': [0.6, 0.8, 1.0]},\n",
              "                   random_state=1001, scoring='roc_auc', verbose=3)"
            ]
          },
          "metadata": {},
          "execution_count": 80
        }
      ]
    },
    {
      "cell_type": "code",
      "source": [
        "print(random_search.best_estimator_)"
      ],
      "metadata": {
        "colab": {
          "base_uri": "https://localhost:8080/"
        },
        "id": "CZmLLUZNq5Ur",
        "outputId": "2f247d5e-ef8e-42e1-d338-ce4b8148aedc"
      },
      "execution_count": null,
      "outputs": [
        {
          "output_type": "stream",
          "name": "stdout",
          "text": [
            "XGBClassifier(colsample_bytree=0.8, gamma=1.5, learning_rate=0.02, max_depth=5,\n",
            "              n_estimators=600, nthread=1, silent=True, subsample=0.6)\n"
          ]
        }
      ]
    },
    {
      "cell_type": "code",
      "source": [
        "print(random_search.best_params_)\n"
      ],
      "metadata": {
        "colab": {
          "base_uri": "https://localhost:8080/"
        },
        "id": "STdcC7QGrO3z",
        "outputId": "5e924a3f-8e43-42c8-feff-3167a167f64b"
      },
      "execution_count": null,
      "outputs": [
        {
          "output_type": "stream",
          "name": "stdout",
          "text": [
            "{'subsample': 0.6, 'min_child_weight': 1, 'max_depth': 5, 'gamma': 1.5, 'colsample_bytree': 0.8}\n"
          ]
        }
      ]
    },
    {
      "cell_type": "code",
      "source": [
        "best_random = random_search.best_estimator_"
      ],
      "metadata": {
        "id": "S5aQ4B_DrTHB"
      },
      "execution_count": null,
      "outputs": []
    },
    {
      "cell_type": "code",
      "source": [
        "pred = best_random.predict(A_test)"
      ],
      "metadata": {
        "id": "p1b7uUP_sSwd"
      },
      "execution_count": null,
      "outputs": []
    },
    {
      "cell_type": "code",
      "source": [
        "print(classification_report(b_test,pred))"
      ],
      "metadata": {
        "colab": {
          "base_uri": "https://localhost:8080/"
        },
        "id": "O8hzbbfbsW8k",
        "outputId": "a0d698e7-29ef-4d5f-a826-a9e0ecf91b51"
      },
      "execution_count": null,
      "outputs": [
        {
          "output_type": "stream",
          "name": "stdout",
          "text": [
            "              precision    recall  f1-score   support\n",
            "\n",
            "           0       1.00      0.96      0.98       160\n",
            "           2       0.97      1.00      0.98       182\n",
            "\n",
            "    accuracy                           0.98       342\n",
            "   macro avg       0.98      0.98      0.98       342\n",
            "weighted avg       0.98      0.98      0.98       342\n",
            "\n"
          ]
        }
      ]
    },
    {
      "cell_type": "code",
      "source": [
        "result = pd.DataFrame(pred,columns=['Output'])"
      ],
      "metadata": {
        "id": "RW1J8yqBscQM"
      },
      "execution_count": null,
      "outputs": []
    },
    {
      "cell_type": "code",
      "source": [
        "result.to_csv('submission_file.csv', index=False)"
      ],
      "metadata": {
        "id": "pPA6G1DNqKW1"
      },
      "execution_count": null,
      "outputs": []
    },
    {
      "cell_type": "code",
      "source": [
        ""
      ],
      "metadata": {
        "id": "2eKDhV0KqL6S"
      },
      "execution_count": null,
      "outputs": []
    }
  ],
  "metadata": {
    "colab": {
      "collapsed_sections": [],
      "name": "Final Solution",
      "provenance": []
    },
    "kernelspec": {
      "display_name": "Python 3",
      "name": "python3"
    },
    "language_info": {
      "name": "python"
    }
  },
  "nbformat": 4,
  "nbformat_minor": 0
}
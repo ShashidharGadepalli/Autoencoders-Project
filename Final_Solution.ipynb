{
  "cells": [
    {
      "cell_type": "code",
      "execution_count": 1,
      "metadata": {
        "id": "DrFF3-4UVpaF"
      },
      "outputs": [],
      "source": [
        "import pandas as pd\n",
        "import numpy as np\n",
        "import seaborn as sns\n",
        "import matplotlib.pyplot as plt"
      ]
    },
    {
      "cell_type": "markdown",
      "source": [
        "### Use the below cell for drive"
      ],
      "metadata": {
        "id": "CYTmnbKO3Vz3"
      }
    },
    {
      "cell_type": "code",
      "execution_count": 2,
      "metadata": {
        "colab": {
          "base_uri": "https://localhost:8080/",
          "height": 37
        },
        "id": "YJttLSeKD4ZZ",
        "outputId": "aab0cf6b-c9ba-4e2e-9f0e-5a0662a4529c"
      },
      "outputs": [
        {
          "output_type": "execute_result",
          "data": {
            "text/plain": [
              "\"\\nfrom google.colab import drive\\ndrive.mount('/content/drive')\\n\""
            ],
            "application/vnd.google.colaboratory.intrinsic+json": {
              "type": "string"
            }
          },
          "metadata": {},
          "execution_count": 2
        }
      ],
      "source": [
        "\"\"\"\n",
        "from google.colab import drive\n",
        "drive.mount('/content/drive')\n",
        "\"\"\""
      ]
    },
    {
      "cell_type": "code",
      "execution_count": 3,
      "metadata": {
        "id": "Z52fIDuTVs1O"
      },
      "outputs": [],
      "source": [
        "\n",
        "#c3 = pd.read_excel('drive/MyDrive/1.8 transposed.xlsx',engine='openpyxl') \n",
        "c3 = pd.read_excel('Test Dataset.xlsx',engine='openpyxl')"
      ]
    },
    {
      "cell_type": "markdown",
      "source": [
        "### DATA PROCESSING AND CLEANING"
      ],
      "metadata": {
        "id": "fR1pmLva31f0"
      }
    },
    {
      "cell_type": "code",
      "source": [
        "c3 = c3.iloc[1: , :]"
      ],
      "metadata": {
        "id": "DaA1I6B99Q64"
      },
      "execution_count": 4,
      "outputs": []
    },
    {
      "cell_type": "code",
      "source": [
        "c3 = c3.reset_index()"
      ],
      "metadata": {
        "id": "K0if5HZ58kcX"
      },
      "execution_count": 5,
      "outputs": []
    },
    {
      "cell_type": "code",
      "source": [
        "c3.head()"
      ],
      "metadata": {
        "colab": {
          "base_uri": "https://localhost:8080/",
          "height": 348
        },
        "id": "p_M3awlQ8ovl",
        "outputId": "d740d657-75da-42a1-9565-6f2400c088f3"
      },
      "execution_count": 6,
      "outputs": [
        {
          "output_type": "execute_result",
          "data": {
            "text/plain": [
              "   index AccelerationDecelerationOsc ADXR (14, EXPONENTIAL)  \\\n",
              "0      1                    0.137647                25.5711   \n",
              "1      2                   -0.033494                23.4247   \n",
              "2      3                   -0.162101                21.4099   \n",
              "3      4                    -0.17717                21.0432   \n",
              "4      5                   -0.086403                21.9986   \n",
              "\n",
              "  ADXR (14, EXPONENTIAL).1 ADXR (14, HULL) ADXR (14, HULL).1  \\\n",
              "0                  26.7367         72.3316           120.773   \n",
              "1                  26.5811         72.7467           127.846   \n",
              "2                  24.0514          72.277           122.001   \n",
              "3                  22.1715         67.1457           105.226   \n",
              "4                  22.1178         55.2846           84.0961   \n",
              "\n",
              "  ADXR (14, SIMPLE) ADXR (14, SIMPLE).1 ADXR (14, WEIGHTED)  \\\n",
              "0           22.8921             17.5971             24.2852   \n",
              "1           23.0277             17.1001              21.849   \n",
              "2           23.4036             16.7062             19.6478   \n",
              "3           24.3401             18.3853              20.132   \n",
              "4           23.9898             18.7492             21.9421   \n",
              "\n",
              "  ADXR (14, WEIGHTED).1  ... DemandIndexDiffAbsnPct (2, 6, 252, 45, 32)  \\\n",
              "0               24.6344  ...                                       -0.2   \n",
              "1               25.7778  ...                                      -0.37   \n",
              "2                 24.46  ...                                      -0.11   \n",
              "3               24.1238  ...                                       0.31   \n",
              "4               23.4831  ...                                       0.33   \n",
              "\n",
              "  DemandIndexDiffAbsnPct (2, 6, 252, 45, 32).1  \\\n",
              "0                                        15.08   \n",
              "1                                         4.76   \n",
              "2                                        26.59   \n",
              "3                                        94.05   \n",
              "4                                        95.63   \n",
              "\n",
              "  DemandIndexDiffAbsnPct (2, 4, 252, 76, 20)  \\\n",
              "0                                      -0.32   \n",
              "1                                      -0.54   \n",
              "2                                       -0.1   \n",
              "3                                       0.49   \n",
              "4                                       0.47   \n",
              "\n",
              "  DemandIndexDiffAbsnPct (2, 4, 252, 76, 20).1  \\\n",
              "0                                        14.29   \n",
              "1                                         3.17   \n",
              "2                                        36.51   \n",
              "3                                        94.05   \n",
              "4                                        93.25   \n",
              "\n",
              "  DemandIndexDiffAbsnPct (4, 5, 252, 72, 31)  \\\n",
              "0                                      -0.25   \n",
              "1                                      -0.55   \n",
              "2                                      -0.37   \n",
              "3                                      -0.07   \n",
              "4                                       0.27   \n",
              "\n",
              "  DemandIndexDiffAbsnPct (4, 5, 252, 72, 31).1 UniversalOscillatorAdapted (5)  \\\n",
              "0                                         24.6                       -6.80911   \n",
              "1                                         4.37                         -10.52   \n",
              "2                                        15.87                         -10.52   \n",
              "3                                        41.67                       -1.02761   \n",
              "4                                           75                          10.52   \n",
              "\n",
              "  TrendQuality (3, 6, 2, squared, 250, 2)  \\\n",
              "0                                0.855793   \n",
              "1                                       0   \n",
              "2                                0.157742   \n",
              "3                                       0   \n",
              "4                                0.974461   \n",
              "\n",
              "  TrendNoiseBalance (3, 6, 2, squared, 25 Output  \n",
              "0                                 46.1147      2  \n",
              "1                                       0      2  \n",
              "2                                  13.625      2  \n",
              "3                                       0      2  \n",
              "4                                 49.3533      2  \n",
              "\n",
              "[5 rows x 1034 columns]"
            ],
            "text/html": [
              "\n",
              "  <div id=\"df-d7bf2eda-fb34-439a-aedf-7166f147bf97\">\n",
              "    <div class=\"colab-df-container\">\n",
              "      <div>\n",
              "<style scoped>\n",
              "    .dataframe tbody tr th:only-of-type {\n",
              "        vertical-align: middle;\n",
              "    }\n",
              "\n",
              "    .dataframe tbody tr th {\n",
              "        vertical-align: top;\n",
              "    }\n",
              "\n",
              "    .dataframe thead th {\n",
              "        text-align: right;\n",
              "    }\n",
              "</style>\n",
              "<table border=\"1\" class=\"dataframe\">\n",
              "  <thead>\n",
              "    <tr style=\"text-align: right;\">\n",
              "      <th></th>\n",
              "      <th>index</th>\n",
              "      <th>AccelerationDecelerationOsc</th>\n",
              "      <th>ADXR (14, EXPONENTIAL)</th>\n",
              "      <th>ADXR (14, EXPONENTIAL).1</th>\n",
              "      <th>ADXR (14, HULL)</th>\n",
              "      <th>ADXR (14, HULL).1</th>\n",
              "      <th>ADXR (14, SIMPLE)</th>\n",
              "      <th>ADXR (14, SIMPLE).1</th>\n",
              "      <th>ADXR (14, WEIGHTED)</th>\n",
              "      <th>ADXR (14, WEIGHTED).1</th>\n",
              "      <th>...</th>\n",
              "      <th>DemandIndexDiffAbsnPct (2, 6, 252, 45, 32)</th>\n",
              "      <th>DemandIndexDiffAbsnPct (2, 6, 252, 45, 32).1</th>\n",
              "      <th>DemandIndexDiffAbsnPct (2, 4, 252, 76, 20)</th>\n",
              "      <th>DemandIndexDiffAbsnPct (2, 4, 252, 76, 20).1</th>\n",
              "      <th>DemandIndexDiffAbsnPct (4, 5, 252, 72, 31)</th>\n",
              "      <th>DemandIndexDiffAbsnPct (4, 5, 252, 72, 31).1</th>\n",
              "      <th>UniversalOscillatorAdapted (5)</th>\n",
              "      <th>TrendQuality (3, 6, 2, squared, 250, 2)</th>\n",
              "      <th>TrendNoiseBalance (3, 6, 2, squared, 25</th>\n",
              "      <th>Output</th>\n",
              "    </tr>\n",
              "  </thead>\n",
              "  <tbody>\n",
              "    <tr>\n",
              "      <th>0</th>\n",
              "      <td>1</td>\n",
              "      <td>0.137647</td>\n",
              "      <td>25.5711</td>\n",
              "      <td>26.7367</td>\n",
              "      <td>72.3316</td>\n",
              "      <td>120.773</td>\n",
              "      <td>22.8921</td>\n",
              "      <td>17.5971</td>\n",
              "      <td>24.2852</td>\n",
              "      <td>24.6344</td>\n",
              "      <td>...</td>\n",
              "      <td>-0.2</td>\n",
              "      <td>15.08</td>\n",
              "      <td>-0.32</td>\n",
              "      <td>14.29</td>\n",
              "      <td>-0.25</td>\n",
              "      <td>24.6</td>\n",
              "      <td>-6.80911</td>\n",
              "      <td>0.855793</td>\n",
              "      <td>46.1147</td>\n",
              "      <td>2</td>\n",
              "    </tr>\n",
              "    <tr>\n",
              "      <th>1</th>\n",
              "      <td>2</td>\n",
              "      <td>-0.033494</td>\n",
              "      <td>23.4247</td>\n",
              "      <td>26.5811</td>\n",
              "      <td>72.7467</td>\n",
              "      <td>127.846</td>\n",
              "      <td>23.0277</td>\n",
              "      <td>17.1001</td>\n",
              "      <td>21.849</td>\n",
              "      <td>25.7778</td>\n",
              "      <td>...</td>\n",
              "      <td>-0.37</td>\n",
              "      <td>4.76</td>\n",
              "      <td>-0.54</td>\n",
              "      <td>3.17</td>\n",
              "      <td>-0.55</td>\n",
              "      <td>4.37</td>\n",
              "      <td>-10.52</td>\n",
              "      <td>0</td>\n",
              "      <td>0</td>\n",
              "      <td>2</td>\n",
              "    </tr>\n",
              "    <tr>\n",
              "      <th>2</th>\n",
              "      <td>3</td>\n",
              "      <td>-0.162101</td>\n",
              "      <td>21.4099</td>\n",
              "      <td>24.0514</td>\n",
              "      <td>72.277</td>\n",
              "      <td>122.001</td>\n",
              "      <td>23.4036</td>\n",
              "      <td>16.7062</td>\n",
              "      <td>19.6478</td>\n",
              "      <td>24.46</td>\n",
              "      <td>...</td>\n",
              "      <td>-0.11</td>\n",
              "      <td>26.59</td>\n",
              "      <td>-0.1</td>\n",
              "      <td>36.51</td>\n",
              "      <td>-0.37</td>\n",
              "      <td>15.87</td>\n",
              "      <td>-10.52</td>\n",
              "      <td>0.157742</td>\n",
              "      <td>13.625</td>\n",
              "      <td>2</td>\n",
              "    </tr>\n",
              "    <tr>\n",
              "      <th>3</th>\n",
              "      <td>4</td>\n",
              "      <td>-0.17717</td>\n",
              "      <td>21.0432</td>\n",
              "      <td>22.1715</td>\n",
              "      <td>67.1457</td>\n",
              "      <td>105.226</td>\n",
              "      <td>24.3401</td>\n",
              "      <td>18.3853</td>\n",
              "      <td>20.132</td>\n",
              "      <td>24.1238</td>\n",
              "      <td>...</td>\n",
              "      <td>0.31</td>\n",
              "      <td>94.05</td>\n",
              "      <td>0.49</td>\n",
              "      <td>94.05</td>\n",
              "      <td>-0.07</td>\n",
              "      <td>41.67</td>\n",
              "      <td>-1.02761</td>\n",
              "      <td>0</td>\n",
              "      <td>0</td>\n",
              "      <td>2</td>\n",
              "    </tr>\n",
              "    <tr>\n",
              "      <th>4</th>\n",
              "      <td>5</td>\n",
              "      <td>-0.086403</td>\n",
              "      <td>21.9986</td>\n",
              "      <td>22.1178</td>\n",
              "      <td>55.2846</td>\n",
              "      <td>84.0961</td>\n",
              "      <td>23.9898</td>\n",
              "      <td>18.7492</td>\n",
              "      <td>21.9421</td>\n",
              "      <td>23.4831</td>\n",
              "      <td>...</td>\n",
              "      <td>0.33</td>\n",
              "      <td>95.63</td>\n",
              "      <td>0.47</td>\n",
              "      <td>93.25</td>\n",
              "      <td>0.27</td>\n",
              "      <td>75</td>\n",
              "      <td>10.52</td>\n",
              "      <td>0.974461</td>\n",
              "      <td>49.3533</td>\n",
              "      <td>2</td>\n",
              "    </tr>\n",
              "  </tbody>\n",
              "</table>\n",
              "<p>5 rows × 1034 columns</p>\n",
              "</div>\n",
              "      <button class=\"colab-df-convert\" onclick=\"convertToInteractive('df-d7bf2eda-fb34-439a-aedf-7166f147bf97')\"\n",
              "              title=\"Convert this dataframe to an interactive table.\"\n",
              "              style=\"display:none;\">\n",
              "        \n",
              "  <svg xmlns=\"http://www.w3.org/2000/svg\" height=\"24px\"viewBox=\"0 0 24 24\"\n",
              "       width=\"24px\">\n",
              "    <path d=\"M0 0h24v24H0V0z\" fill=\"none\"/>\n",
              "    <path d=\"M18.56 5.44l.94 2.06.94-2.06 2.06-.94-2.06-.94-.94-2.06-.94 2.06-2.06.94zm-11 1L8.5 8.5l.94-2.06 2.06-.94-2.06-.94L8.5 2.5l-.94 2.06-2.06.94zm10 10l.94 2.06.94-2.06 2.06-.94-2.06-.94-.94-2.06-.94 2.06-2.06.94z\"/><path d=\"M17.41 7.96l-1.37-1.37c-.4-.4-.92-.59-1.43-.59-.52 0-1.04.2-1.43.59L10.3 9.45l-7.72 7.72c-.78.78-.78 2.05 0 2.83L4 21.41c.39.39.9.59 1.41.59.51 0 1.02-.2 1.41-.59l7.78-7.78 2.81-2.81c.8-.78.8-2.07 0-2.86zM5.41 20L4 18.59l7.72-7.72 1.47 1.35L5.41 20z\"/>\n",
              "  </svg>\n",
              "      </button>\n",
              "      \n",
              "  <style>\n",
              "    .colab-df-container {\n",
              "      display:flex;\n",
              "      flex-wrap:wrap;\n",
              "      gap: 12px;\n",
              "    }\n",
              "\n",
              "    .colab-df-convert {\n",
              "      background-color: #E8F0FE;\n",
              "      border: none;\n",
              "      border-radius: 50%;\n",
              "      cursor: pointer;\n",
              "      display: none;\n",
              "      fill: #1967D2;\n",
              "      height: 32px;\n",
              "      padding: 0 0 0 0;\n",
              "      width: 32px;\n",
              "    }\n",
              "\n",
              "    .colab-df-convert:hover {\n",
              "      background-color: #E2EBFA;\n",
              "      box-shadow: 0px 1px 2px rgba(60, 64, 67, 0.3), 0px 1px 3px 1px rgba(60, 64, 67, 0.15);\n",
              "      fill: #174EA6;\n",
              "    }\n",
              "\n",
              "    [theme=dark] .colab-df-convert {\n",
              "      background-color: #3B4455;\n",
              "      fill: #D2E3FC;\n",
              "    }\n",
              "\n",
              "    [theme=dark] .colab-df-convert:hover {\n",
              "      background-color: #434B5C;\n",
              "      box-shadow: 0px 1px 3px 1px rgba(0, 0, 0, 0.15);\n",
              "      filter: drop-shadow(0px 1px 2px rgba(0, 0, 0, 0.3));\n",
              "      fill: #FFFFFF;\n",
              "    }\n",
              "  </style>\n",
              "\n",
              "      <script>\n",
              "        const buttonEl =\n",
              "          document.querySelector('#df-d7bf2eda-fb34-439a-aedf-7166f147bf97 button.colab-df-convert');\n",
              "        buttonEl.style.display =\n",
              "          google.colab.kernel.accessAllowed ? 'block' : 'none';\n",
              "\n",
              "        async function convertToInteractive(key) {\n",
              "          const element = document.querySelector('#df-d7bf2eda-fb34-439a-aedf-7166f147bf97');\n",
              "          const dataTable =\n",
              "            await google.colab.kernel.invokeFunction('convertToInteractive',\n",
              "                                                     [key], {});\n",
              "          if (!dataTable) return;\n",
              "\n",
              "          const docLinkHtml = 'Like what you see? Visit the ' +\n",
              "            '<a target=\"_blank\" href=https://colab.research.google.com/notebooks/data_table.ipynb>data table notebook</a>'\n",
              "            + ' to learn more about interactive tables.';\n",
              "          element.innerHTML = '';\n",
              "          dataTable['output_type'] = 'display_data';\n",
              "          await google.colab.output.renderOutput(dataTable, element);\n",
              "          const docLink = document.createElement('div');\n",
              "          docLink.innerHTML = docLinkHtml;\n",
              "          element.appendChild(docLink);\n",
              "        }\n",
              "      </script>\n",
              "    </div>\n",
              "  </div>\n",
              "  "
            ]
          },
          "metadata": {},
          "execution_count": 6
        }
      ]
    },
    {
      "cell_type": "code",
      "source": [
        "del c3['index']"
      ],
      "metadata": {
        "id": "ArWL-rWmD_f1"
      },
      "execution_count": 7,
      "outputs": []
    },
    {
      "cell_type": "code",
      "source": [
        "c3['Date'] = pd.to_datetime(c3['Date'])"
      ],
      "metadata": {
        "id": "ujspaffHAEVu"
      },
      "execution_count": 8,
      "outputs": []
    },
    {
      "cell_type": "code",
      "source": [
        "c3['Date']"
      ],
      "metadata": {
        "colab": {
          "base_uri": "https://localhost:8080/"
        },
        "id": "ilrIRfWZ9mFi",
        "outputId": "24e6252f-5e0a-4636-ac74-55e3ea1b0293"
      },
      "execution_count": 9,
      "outputs": [
        {
          "output_type": "execute_result",
          "data": {
            "text/plain": [
              "0      2013-10-07\n",
              "1      2013-10-08\n",
              "2      2013-10-09\n",
              "3      2013-10-10\n",
              "4      2013-10-11\n",
              "          ...    \n",
              "2022   2021-12-15\n",
              "2023   2021-12-27\n",
              "2024   2021-12-28\n",
              "2025   2021-12-29\n",
              "2026   2021-12-30\n",
              "Name: Date, Length: 2027, dtype: datetime64[ns]"
            ]
          },
          "metadata": {},
          "execution_count": 9
        }
      ]
    },
    {
      "cell_type": "code",
      "execution_count": 10,
      "metadata": {
        "id": "Ai5vFvnxWplj"
      },
      "outputs": [],
      "source": [
        "c3['year'] = c3['Date'].dt.year\n",
        "c3['month'] = c3['Date'].dt.month"
      ]
    },
    {
      "cell_type": "code",
      "execution_count": 11,
      "metadata": {
        "id": "SfsC3f9nWPtS"
      },
      "outputs": [],
      "source": [
        "del c3['Date']"
      ]
    },
    {
      "cell_type": "code",
      "source": [
        "c3.head()"
      ],
      "metadata": {
        "colab": {
          "base_uri": "https://localhost:8080/",
          "height": 348
        },
        "id": "kuRHoU00w14E",
        "outputId": "0ca5f7e4-80da-4de3-b366-883b80c6574a"
      },
      "execution_count": 12,
      "outputs": [
        {
          "output_type": "execute_result",
          "data": {
            "text/plain": [
              "  AccelerationDecelerationOsc ADXR (14, EXPONENTIAL) ADXR (14, EXPONENTIAL).1  \\\n",
              "0                    0.137647                25.5711                  26.7367   \n",
              "1                   -0.033494                23.4247                  26.5811   \n",
              "2                   -0.162101                21.4099                  24.0514   \n",
              "3                    -0.17717                21.0432                  22.1715   \n",
              "4                   -0.086403                21.9986                  22.1178   \n",
              "\n",
              "  ADXR (14, HULL) ADXR (14, HULL).1 ADXR (14, SIMPLE) ADXR (14, SIMPLE).1  \\\n",
              "0         72.3316           120.773           22.8921             17.5971   \n",
              "1         72.7467           127.846           23.0277             17.1001   \n",
              "2          72.277           122.001           23.4036             16.7062   \n",
              "3         67.1457           105.226           24.3401             18.3853   \n",
              "4         55.2846           84.0961           23.9898             18.7492   \n",
              "\n",
              "  ADXR (14, WEIGHTED) ADXR (14, WEIGHTED).1 ADXR (14, WILDERS)  ...  \\\n",
              "0             24.2852               24.6344            15.5861  ...   \n",
              "1              21.849               25.7778            14.6454  ...   \n",
              "2             19.6478                 24.46            13.8059  ...   \n",
              "3              20.132               24.1238            13.8897  ...   \n",
              "4             21.9421               23.4831            14.3223  ...   \n",
              "\n",
              "  DemandIndexDiffAbsnPct (2, 4, 252, 76, 20)  \\\n",
              "0                                      -0.32   \n",
              "1                                      -0.54   \n",
              "2                                       -0.1   \n",
              "3                                       0.49   \n",
              "4                                       0.47   \n",
              "\n",
              "  DemandIndexDiffAbsnPct (2, 4, 252, 76, 20).1  \\\n",
              "0                                        14.29   \n",
              "1                                         3.17   \n",
              "2                                        36.51   \n",
              "3                                        94.05   \n",
              "4                                        93.25   \n",
              "\n",
              "  DemandIndexDiffAbsnPct (4, 5, 252, 72, 31)  \\\n",
              "0                                      -0.25   \n",
              "1                                      -0.55   \n",
              "2                                      -0.37   \n",
              "3                                      -0.07   \n",
              "4                                       0.27   \n",
              "\n",
              "  DemandIndexDiffAbsnPct (4, 5, 252, 72, 31).1 UniversalOscillatorAdapted (5)  \\\n",
              "0                                         24.6                       -6.80911   \n",
              "1                                         4.37                         -10.52   \n",
              "2                                        15.87                         -10.52   \n",
              "3                                        41.67                       -1.02761   \n",
              "4                                           75                          10.52   \n",
              "\n",
              "  TrendQuality (3, 6, 2, squared, 250, 2)  \\\n",
              "0                                0.855793   \n",
              "1                                       0   \n",
              "2                                0.157742   \n",
              "3                                       0   \n",
              "4                                0.974461   \n",
              "\n",
              "  TrendNoiseBalance (3, 6, 2, squared, 25 Output  year month  \n",
              "0                                 46.1147      2  2013    10  \n",
              "1                                       0      2  2013    10  \n",
              "2                                  13.625      2  2013    10  \n",
              "3                                       0      2  2013    10  \n",
              "4                                 49.3533      2  2013    10  \n",
              "\n",
              "[5 rows x 1034 columns]"
            ],
            "text/html": [
              "\n",
              "  <div id=\"df-47056eed-6de0-4cd7-ad2c-562369915655\">\n",
              "    <div class=\"colab-df-container\">\n",
              "      <div>\n",
              "<style scoped>\n",
              "    .dataframe tbody tr th:only-of-type {\n",
              "        vertical-align: middle;\n",
              "    }\n",
              "\n",
              "    .dataframe tbody tr th {\n",
              "        vertical-align: top;\n",
              "    }\n",
              "\n",
              "    .dataframe thead th {\n",
              "        text-align: right;\n",
              "    }\n",
              "</style>\n",
              "<table border=\"1\" class=\"dataframe\">\n",
              "  <thead>\n",
              "    <tr style=\"text-align: right;\">\n",
              "      <th></th>\n",
              "      <th>AccelerationDecelerationOsc</th>\n",
              "      <th>ADXR (14, EXPONENTIAL)</th>\n",
              "      <th>ADXR (14, EXPONENTIAL).1</th>\n",
              "      <th>ADXR (14, HULL)</th>\n",
              "      <th>ADXR (14, HULL).1</th>\n",
              "      <th>ADXR (14, SIMPLE)</th>\n",
              "      <th>ADXR (14, SIMPLE).1</th>\n",
              "      <th>ADXR (14, WEIGHTED)</th>\n",
              "      <th>ADXR (14, WEIGHTED).1</th>\n",
              "      <th>ADXR (14, WILDERS)</th>\n",
              "      <th>...</th>\n",
              "      <th>DemandIndexDiffAbsnPct (2, 4, 252, 76, 20)</th>\n",
              "      <th>DemandIndexDiffAbsnPct (2, 4, 252, 76, 20).1</th>\n",
              "      <th>DemandIndexDiffAbsnPct (4, 5, 252, 72, 31)</th>\n",
              "      <th>DemandIndexDiffAbsnPct (4, 5, 252, 72, 31).1</th>\n",
              "      <th>UniversalOscillatorAdapted (5)</th>\n",
              "      <th>TrendQuality (3, 6, 2, squared, 250, 2)</th>\n",
              "      <th>TrendNoiseBalance (3, 6, 2, squared, 25</th>\n",
              "      <th>Output</th>\n",
              "      <th>year</th>\n",
              "      <th>month</th>\n",
              "    </tr>\n",
              "  </thead>\n",
              "  <tbody>\n",
              "    <tr>\n",
              "      <th>0</th>\n",
              "      <td>0.137647</td>\n",
              "      <td>25.5711</td>\n",
              "      <td>26.7367</td>\n",
              "      <td>72.3316</td>\n",
              "      <td>120.773</td>\n",
              "      <td>22.8921</td>\n",
              "      <td>17.5971</td>\n",
              "      <td>24.2852</td>\n",
              "      <td>24.6344</td>\n",
              "      <td>15.5861</td>\n",
              "      <td>...</td>\n",
              "      <td>-0.32</td>\n",
              "      <td>14.29</td>\n",
              "      <td>-0.25</td>\n",
              "      <td>24.6</td>\n",
              "      <td>-6.80911</td>\n",
              "      <td>0.855793</td>\n",
              "      <td>46.1147</td>\n",
              "      <td>2</td>\n",
              "      <td>2013</td>\n",
              "      <td>10</td>\n",
              "    </tr>\n",
              "    <tr>\n",
              "      <th>1</th>\n",
              "      <td>-0.033494</td>\n",
              "      <td>23.4247</td>\n",
              "      <td>26.5811</td>\n",
              "      <td>72.7467</td>\n",
              "      <td>127.846</td>\n",
              "      <td>23.0277</td>\n",
              "      <td>17.1001</td>\n",
              "      <td>21.849</td>\n",
              "      <td>25.7778</td>\n",
              "      <td>14.6454</td>\n",
              "      <td>...</td>\n",
              "      <td>-0.54</td>\n",
              "      <td>3.17</td>\n",
              "      <td>-0.55</td>\n",
              "      <td>4.37</td>\n",
              "      <td>-10.52</td>\n",
              "      <td>0</td>\n",
              "      <td>0</td>\n",
              "      <td>2</td>\n",
              "      <td>2013</td>\n",
              "      <td>10</td>\n",
              "    </tr>\n",
              "    <tr>\n",
              "      <th>2</th>\n",
              "      <td>-0.162101</td>\n",
              "      <td>21.4099</td>\n",
              "      <td>24.0514</td>\n",
              "      <td>72.277</td>\n",
              "      <td>122.001</td>\n",
              "      <td>23.4036</td>\n",
              "      <td>16.7062</td>\n",
              "      <td>19.6478</td>\n",
              "      <td>24.46</td>\n",
              "      <td>13.8059</td>\n",
              "      <td>...</td>\n",
              "      <td>-0.1</td>\n",
              "      <td>36.51</td>\n",
              "      <td>-0.37</td>\n",
              "      <td>15.87</td>\n",
              "      <td>-10.52</td>\n",
              "      <td>0.157742</td>\n",
              "      <td>13.625</td>\n",
              "      <td>2</td>\n",
              "      <td>2013</td>\n",
              "      <td>10</td>\n",
              "    </tr>\n",
              "    <tr>\n",
              "      <th>3</th>\n",
              "      <td>-0.17717</td>\n",
              "      <td>21.0432</td>\n",
              "      <td>22.1715</td>\n",
              "      <td>67.1457</td>\n",
              "      <td>105.226</td>\n",
              "      <td>24.3401</td>\n",
              "      <td>18.3853</td>\n",
              "      <td>20.132</td>\n",
              "      <td>24.1238</td>\n",
              "      <td>13.8897</td>\n",
              "      <td>...</td>\n",
              "      <td>0.49</td>\n",
              "      <td>94.05</td>\n",
              "      <td>-0.07</td>\n",
              "      <td>41.67</td>\n",
              "      <td>-1.02761</td>\n",
              "      <td>0</td>\n",
              "      <td>0</td>\n",
              "      <td>2</td>\n",
              "      <td>2013</td>\n",
              "      <td>10</td>\n",
              "    </tr>\n",
              "    <tr>\n",
              "      <th>4</th>\n",
              "      <td>-0.086403</td>\n",
              "      <td>21.9986</td>\n",
              "      <td>22.1178</td>\n",
              "      <td>55.2846</td>\n",
              "      <td>84.0961</td>\n",
              "      <td>23.9898</td>\n",
              "      <td>18.7492</td>\n",
              "      <td>21.9421</td>\n",
              "      <td>23.4831</td>\n",
              "      <td>14.3223</td>\n",
              "      <td>...</td>\n",
              "      <td>0.47</td>\n",
              "      <td>93.25</td>\n",
              "      <td>0.27</td>\n",
              "      <td>75</td>\n",
              "      <td>10.52</td>\n",
              "      <td>0.974461</td>\n",
              "      <td>49.3533</td>\n",
              "      <td>2</td>\n",
              "      <td>2013</td>\n",
              "      <td>10</td>\n",
              "    </tr>\n",
              "  </tbody>\n",
              "</table>\n",
              "<p>5 rows × 1034 columns</p>\n",
              "</div>\n",
              "      <button class=\"colab-df-convert\" onclick=\"convertToInteractive('df-47056eed-6de0-4cd7-ad2c-562369915655')\"\n",
              "              title=\"Convert this dataframe to an interactive table.\"\n",
              "              style=\"display:none;\">\n",
              "        \n",
              "  <svg xmlns=\"http://www.w3.org/2000/svg\" height=\"24px\"viewBox=\"0 0 24 24\"\n",
              "       width=\"24px\">\n",
              "    <path d=\"M0 0h24v24H0V0z\" fill=\"none\"/>\n",
              "    <path d=\"M18.56 5.44l.94 2.06.94-2.06 2.06-.94-2.06-.94-.94-2.06-.94 2.06-2.06.94zm-11 1L8.5 8.5l.94-2.06 2.06-.94-2.06-.94L8.5 2.5l-.94 2.06-2.06.94zm10 10l.94 2.06.94-2.06 2.06-.94-2.06-.94-.94-2.06-.94 2.06-2.06.94z\"/><path d=\"M17.41 7.96l-1.37-1.37c-.4-.4-.92-.59-1.43-.59-.52 0-1.04.2-1.43.59L10.3 9.45l-7.72 7.72c-.78.78-.78 2.05 0 2.83L4 21.41c.39.39.9.59 1.41.59.51 0 1.02-.2 1.41-.59l7.78-7.78 2.81-2.81c.8-.78.8-2.07 0-2.86zM5.41 20L4 18.59l7.72-7.72 1.47 1.35L5.41 20z\"/>\n",
              "  </svg>\n",
              "      </button>\n",
              "      \n",
              "  <style>\n",
              "    .colab-df-container {\n",
              "      display:flex;\n",
              "      flex-wrap:wrap;\n",
              "      gap: 12px;\n",
              "    }\n",
              "\n",
              "    .colab-df-convert {\n",
              "      background-color: #E8F0FE;\n",
              "      border: none;\n",
              "      border-radius: 50%;\n",
              "      cursor: pointer;\n",
              "      display: none;\n",
              "      fill: #1967D2;\n",
              "      height: 32px;\n",
              "      padding: 0 0 0 0;\n",
              "      width: 32px;\n",
              "    }\n",
              "\n",
              "    .colab-df-convert:hover {\n",
              "      background-color: #E2EBFA;\n",
              "      box-shadow: 0px 1px 2px rgba(60, 64, 67, 0.3), 0px 1px 3px 1px rgba(60, 64, 67, 0.15);\n",
              "      fill: #174EA6;\n",
              "    }\n",
              "\n",
              "    [theme=dark] .colab-df-convert {\n",
              "      background-color: #3B4455;\n",
              "      fill: #D2E3FC;\n",
              "    }\n",
              "\n",
              "    [theme=dark] .colab-df-convert:hover {\n",
              "      background-color: #434B5C;\n",
              "      box-shadow: 0px 1px 3px 1px rgba(0, 0, 0, 0.15);\n",
              "      filter: drop-shadow(0px 1px 2px rgba(0, 0, 0, 0.3));\n",
              "      fill: #FFFFFF;\n",
              "    }\n",
              "  </style>\n",
              "\n",
              "      <script>\n",
              "        const buttonEl =\n",
              "          document.querySelector('#df-47056eed-6de0-4cd7-ad2c-562369915655 button.colab-df-convert');\n",
              "        buttonEl.style.display =\n",
              "          google.colab.kernel.accessAllowed ? 'block' : 'none';\n",
              "\n",
              "        async function convertToInteractive(key) {\n",
              "          const element = document.querySelector('#df-47056eed-6de0-4cd7-ad2c-562369915655');\n",
              "          const dataTable =\n",
              "            await google.colab.kernel.invokeFunction('convertToInteractive',\n",
              "                                                     [key], {});\n",
              "          if (!dataTable) return;\n",
              "\n",
              "          const docLinkHtml = 'Like what you see? Visit the ' +\n",
              "            '<a target=\"_blank\" href=https://colab.research.google.com/notebooks/data_table.ipynb>data table notebook</a>'\n",
              "            + ' to learn more about interactive tables.';\n",
              "          element.innerHTML = '';\n",
              "          dataTable['output_type'] = 'display_data';\n",
              "          await google.colab.output.renderOutput(dataTable, element);\n",
              "          const docLink = document.createElement('div');\n",
              "          docLink.innerHTML = docLinkHtml;\n",
              "          element.appendChild(docLink);\n",
              "        }\n",
              "      </script>\n",
              "    </div>\n",
              "  </div>\n",
              "  "
            ]
          },
          "metadata": {},
          "execution_count": 12
        }
      ]
    },
    {
      "cell_type": "code",
      "source": [
        "c3 = c3.replace(\"55-0.2\",0.2)"
      ],
      "metadata": {
        "id": "V4GRVdA19-RW"
      },
      "execution_count": 13,
      "outputs": []
    },
    {
      "cell_type": "code",
      "source": [
        "c3 = c3.apply(pd.to_numeric)\n"
      ],
      "metadata": {
        "id": "-p2TJgJDIGbI"
      },
      "execution_count": 14,
      "outputs": []
    },
    {
      "cell_type": "code",
      "source": [
        "c3.info()"
      ],
      "metadata": {
        "colab": {
          "base_uri": "https://localhost:8080/"
        },
        "id": "ybX7DAWVHUxt",
        "outputId": "61a49d8e-745c-4822-b801-e57ed602eef0"
      },
      "execution_count": 15,
      "outputs": [
        {
          "output_type": "stream",
          "name": "stdout",
          "text": [
            "<class 'pandas.core.frame.DataFrame'>\n",
            "RangeIndex: 2027 entries, 0 to 2026\n",
            "Columns: 1034 entries, AccelerationDecelerationOsc to month\n",
            "dtypes: float64(1027), int64(7)\n",
            "memory usage: 16.0 MB\n"
          ]
        }
      ]
    },
    {
      "cell_type": "code",
      "source": [
        "c3.isna().sum().sum()"
      ],
      "metadata": {
        "colab": {
          "base_uri": "https://localhost:8080/"
        },
        "id": "i7Wl4TjnB02V",
        "outputId": "b83ed568-9cc4-4d24-e983-d62253efb8d8"
      },
      "execution_count": 16,
      "outputs": [
        {
          "output_type": "execute_result",
          "data": {
            "text/plain": [
              "539"
            ]
          },
          "metadata": {},
          "execution_count": 16
        }
      ]
    },
    {
      "cell_type": "code",
      "source": [
        "for i in c3:\n",
        "  c3[i] =c3[i].fillna(c3[i].median())\n",
        "  "
      ],
      "metadata": {
        "id": "nhill4y4B4Qh"
      },
      "execution_count": 17,
      "outputs": []
    },
    {
      "cell_type": "code",
      "source": [
        "c3.isna().sum().sum()"
      ],
      "metadata": {
        "colab": {
          "base_uri": "https://localhost:8080/"
        },
        "id": "2vJnU5WWCIUP",
        "outputId": "58fcb1aa-c48a-4121-8af2-a60d2dd972f1"
      },
      "execution_count": 18,
      "outputs": [
        {
          "output_type": "execute_result",
          "data": {
            "text/plain": [
              "0"
            ]
          },
          "metadata": {},
          "execution_count": 18
        }
      ]
    },
    {
      "cell_type": "code",
      "source": [
        "c1 = c3.copy(deep=True)"
      ],
      "metadata": {
        "id": "d0-NUcn_FcFC"
      },
      "execution_count": 19,
      "outputs": []
    },
    {
      "cell_type": "code",
      "source": [
        "# c3.to_excel(\"New Test.xlsx\",index=False)"
      ],
      "metadata": {
        "id": "PTD8cW6ZKKiw"
      },
      "execution_count": 20,
      "outputs": []
    },
    {
      "cell_type": "code",
      "execution_count": 21,
      "metadata": {
        "id": "DRQmib9F6sKA"
      },
      "outputs": [],
      "source": [
        "target = c3['Output']\n"
      ]
    },
    {
      "cell_type": "code",
      "source": [
        "X1 = c3.drop('Output',axis=1)\n",
        "y1 = c3['Output']"
      ],
      "metadata": {
        "id": "2cjaxtljQKJf"
      },
      "execution_count": 22,
      "outputs": []
    },
    {
      "cell_type": "markdown",
      "source": [
        "### BACKWARD ELIMINATION"
      ],
      "metadata": {
        "id": "0BpuN-kP4BSa"
      }
    },
    {
      "cell_type": "markdown",
      "source": [
        "USING BACKWARD ELEIMINATION TO FILTER OUT IMPORTANT COLUMNS. THESE FILTERED COLUMNS WILL LATER BE FEEDED TO THE AUTOENCODER"
      ],
      "metadata": {
        "id": "quicRx0d4Em6"
      }
    },
    {
      "cell_type": "code",
      "source": [
        "import statsmodels.api as sm"
      ],
      "metadata": {
        "colab": {
          "base_uri": "https://localhost:8080/"
        },
        "id": "Rfk4ZSPzgJvp",
        "outputId": "11faa6f3-dd60-4951-95b5-ad0e79e5d61a"
      },
      "execution_count": 23,
      "outputs": [
        {
          "output_type": "stream",
          "name": "stderr",
          "text": [
            "/usr/local/lib/python3.7/dist-packages/statsmodels/tools/_testing.py:19: FutureWarning: pandas.util.testing is deprecated. Use the functions in the public API at pandas.testing instead.\n",
            "  import pandas.util.testing as tm\n"
          ]
        }
      ]
    },
    {
      "cell_type": "code",
      "source": [
        "X_1 = sm.add_constant(X1)\n",
        "#Fitting sm.OLS model\n",
        "model = sm.OLS(y1,X_1).fit()\n",
        "model.pvalues"
      ],
      "metadata": {
        "colab": {
          "base_uri": "https://localhost:8080/"
        },
        "id": "1mBbkFczgJeu",
        "outputId": "2582ec69-1651-4013-fb9c-80cdf3d74947"
      },
      "execution_count": 24,
      "outputs": [
        {
          "output_type": "stream",
          "name": "stderr",
          "text": [
            "/usr/local/lib/python3.7/dist-packages/statsmodels/tsa/tsatools.py:117: FutureWarning: In a future version of pandas all arguments of concat except for the argument 'objs' will be keyword-only\n",
            "  x = pd.concat(x[::order], 1)\n"
          ]
        },
        {
          "output_type": "execute_result",
          "data": {
            "text/plain": [
              "const                                      0.559965\n",
              "AccelerationDecelerationOsc                0.083746\n",
              "ADXR (14, EXPONENTIAL)                     0.058807\n",
              "ADXR (14, EXPONENTIAL).1                   0.170373\n",
              "ADXR (14, HULL)                            0.005167\n",
              "                                             ...   \n",
              "UniversalOscillatorAdapted (5)             0.712645\n",
              "TrendQuality (3, 6, 2, squared, 250, 2)    0.076717\n",
              "TrendNoiseBalance (3, 6, 2, squared, 25    0.363391\n",
              "year                                       0.111148\n",
              "month                                      0.430892\n",
              "Length: 1034, dtype: float64"
            ]
          },
          "metadata": {},
          "execution_count": 24
        }
      ]
    },
    {
      "cell_type": "markdown",
      "source": [
        "### NOTE:\n",
        "THE BELOW CELL WILL APPROXIMATELY TAKE 10-15 MINS TO EXECUTE ."
      ],
      "metadata": {
        "id": "1TD9XB6j4UQD"
      }
    },
    {
      "cell_type": "code",
      "source": [
        "cols = list(X1.columns)\n",
        "pmax = 1\n",
        "while (len(cols)>0):\n",
        "    p= []\n",
        "    X_1 = X1[cols]\n",
        "    X_1 = sm.add_constant(X_1)\n",
        "    model = sm.OLS(y1,X_1).fit()\n",
        "    p = pd.Series(model.pvalues.values[1:],index = cols)      \n",
        "    pmax = max(p)\n",
        "    feature_with_p_max = p.idxmax()\n",
        "    if(pmax>0.05):\n",
        "        cols.remove(feature_with_p_max)\n",
        "    else:\n",
        "        break\n",
        "selected_features_BE = cols\n",
        "print(selected_features_BE)"
      ],
      "metadata": {
        "colab": {
          "base_uri": "https://localhost:8080/"
        },
        "id": "7dDOIJUlgI_L",
        "outputId": "029a92d4-2318-45e1-ad9e-36368f0f6e40"
      },
      "execution_count": 25,
      "outputs": [
        {
          "output_type": "stream",
          "name": "stderr",
          "text": [
            "/usr/local/lib/python3.7/dist-packages/statsmodels/tsa/tsatools.py:117: FutureWarning: In a future version of pandas all arguments of concat except for the argument 'objs' will be keyword-only\n",
            "  x = pd.concat(x[::order], 1)\n"
          ]
        },
        {
          "output_type": "stream",
          "name": "stdout",
          "text": [
            "['AccelerationDecelerationOsc', 'ADXR (14, EXPONENTIAL)', 'ADXR (14, HULL)', 'ADXR (14, HULL).1', 'ADXR (14, SIMPLE).1', 'ADXR (14, WEIGHTED).1', 'ADXR (14, WILDERS)', 'ADXR (6, EXPONENTIAL)', 'ADXR (6, SIMPLE)', 'ADXR (6, SIMPLE).1', 'ADXR (6, WILDERS)', 'AM_Detector (4, 8, WILDERS)', 'APTR (14, EXPONENTIAL)', 'APTR (14, SIMPLE)', 'APTR (14, WEIGHTED)', 'AroonIndicator (25).1', 'AroonIndicator (8)', 'AroonOscillator (25)', 'AwesomeOscillator', 'BalanceOfMarketPower (EXPONENTIAL 6)', 'BalanceOfMarketPower (WILDERS, 14)', 'BalanceOfMarketPower (WILDERS, 6)', 'BandpassFilter (20, 0.1, 1)', 'BandpassFilter (8, 0.1, 1)', 'BollingerPercentB (WEIGHTED, VWAP, 0, 1', 'BollingerPercentB (WEIGHTED, VWAP, 0, 2', 'BollingerPercentBExp20', 'CorrelationTrendIndicator (20)', 'CPMO (35, 20, 10, SPX).1', 'CSI (1.0, 14, 25.0, 1000.0, EXPONENTIAL)', 'CSI (1.0, 14, 25.0, 1000.0, SIMPLE)', 'CSI (1.0, 14, 25.0, 1000.0, WEIGHTED)', 'CSI (1.0, 14, 25.0, 1000.0, WILDERS)', 'DemandIndex (11)', 'DemandIndex (8)', 'DMI (14, WILDERS).1', 'DMI (6, HULL).1', 'DMI (6, WILDERS)', 'DMI_Oscillator (10, no, SIMPLE)', 'DMI_Oscillator (10, no, WILDERS)', 'DMI_Oscillator (5, no, HULL)', 'DoubleSmoothedStochastic (9, 5, 10)', 'EaseOfMovement (6, 6)', 'ErgodicOsc (25, 13, 8, EXPONENTIAL)', 'ErgodicOsc (25, 13, 8, SIMPLE)', 'ErgodicOsc (25, 13, 8, WEIGHTED)', 'ErgodicOsc (25, 13, 8, WILDERS)', 'FW_MMG (6, 21, 80, 20, no).1', 'FW_SOAP (Outside Lines).1', 'GatorOscExponential.1', 'GatorOscHull', 'HHLLS (20, 60, 50, 10, EXPONENTIAL)', 'HHLLS (20, 60, 50, 10, EXPONENTIAL).1', 'HHLLS (20, 60, 50, 10, HULL)', 'HHLLS (20, 60, 50, 10, SIMPLE)', 'HHLLS (20, 60, 50, 10, SIMPLE).1', 'HHLLS (20, 60, 50, 10, WEIGHTED).1', 'HHLLS (20, 60, 50, 10, WILDERS).1', 'HHLLS (9, 60, 50, 10, HULL)', 'HHLLS (9, 60, 50, 10, HULL).1', 'HHLLS (9, 60, 50, 10, SIMPLE)', 'MACD (12, 26, 9, EXPONENTIAL, no)', 'StandardDeviation (VWAP, 14)', 'StochasticSlowSimple (80, 20, 10, 10, Hï¿½.1', 'WeeklyAndDailyPPO (15, 32, 3, 7).2', 'WeeklyAndDailyMACD (15, 32, 3, 7)', 'VossPredictiveFilter (3, 2, 0.1).1', 'VolumeWeightedMACD (3, 7, 2)', 'VolumeWeightedMACD (3, 7, 2).2', 'UltimateOscillator (3, 6, 12)', 'TrueStrengthIndex (7, 4, 3, SIMPLE', 'TrueStrengthIndex (7, 4, 3, HULL)', 'TrueStrengthIndex (7, 4, 3, EXPONENTIAL)', 'TRIX (3, 4, CLOSE, 2)', 'TrendQuality (3, 6, 2, linear, 250, 2)', 'TAC_DIPlus (3, 4, 6, WILDERS).1', 'TAC_DIPlus (3, 4, 6, WEIGHTED)', 'TAC_DIPlus (3, 4, 6, EXPONENTIAL).1', 'TAC_DIMinus (3, 4, 6, WILDERS)', 'TAC_DIMinus (3, 4, 6, EXPONENTIAL)', 'TAC_DIMinus (3, 4, 6, EXPONENTIAL).1', 'RocketRSI (4, 3)', 'Inertia (3, 2)', 'Inertia (5, 3)', 'fmDemodulator2Adapted (8, 1, 50).1', 'DynamicMomentumIndex (VWAP, 5, 10, 14,', 'HistoricalVolatility (5, Daily)', 'IFT_StochOsc (VWAP, 30, 5, 60, 30).1', 'IntradayMomentumIndex (6)', 'IV_Percentile (yes, 252, 30, 50, yes, 1...', 'LeavittConvolutionSlope (VWAP, 49)', 'MACD (12, 26, 9, HULL, no).2', 'MACD (12, 26, 9, SIMPLE, no).2', 'MACD (12, 26, 9, WEIGHTED, no).2', 'MACD (12, 26, 9, WILDERS, no).2', 'MarketForecast.1', 'MarketForecast.2', 'MarketSentiment', 'MassIndex', 'MESASineWave ((H+L)/2, 10)', 'MESASineWave ((H+L)/2, 25)', 'MESASineWave ((H+L)/2, 25).1', 'MyRSIwithNETAdapted (14, 14).1', 'MyRSIwithNETAdapted (5, 5)', 'PMC', 'PMO (CLOSE, 17, 10, 5).1', 'PMO (CLOSE, 35, 20, 10)', 'PMO (CLOSE, 35, 20, 10).1', 'PolarizedFractalEfficiency (10, 5)', 'PriceOsc (14, 9, VWAP, 18, SIMPLE)', 'PriceZoneOscillator (VWAP, 14)', 'RangeIndicator (10, 3)', 'RelativeVolatilityIndex (5, 7, EXPONENT', 'RelativeVolatilityIndex (5, 7, WEIGHTED)', 'RelativeVolatilityIndex (5, 7, WILDERS)', 'RelativeVolumeStDev (20, 2.0, yes)', 'RelativeVolumeStDev (60, 2.0, yes)', 'RocketRSI (10, 8)', 'RSI (14, 70, 30, VWAP, EXPONENTIAL, no)', 'RSI (14, 70, 30, VWAP, WILDERS, no)', 'RSI (5, 70, 30, VWAP, WEIGHT, no)', 'RSI (5, 70, 30, VWAP, WILDERS, no)', 'RSMK (SPY, 30, 3)', 'SchaffTrendHull', 'StandardError (VWAP, 14)', 'StochRSI (14, 80, 20, HULL', 'StochRSI (14, 80, 20, WILDERS', 'StochRSI (5, 80, 20, EXPONENTIAL.1', 'StochRSI (5, 80, 20, HULL', 'SVEZLRBPercB (VWAP, 18', 'StochasticSlowWilders (80, 20, 5, 5,.1', 'StochasticSlowExponential (80, 20, 5, 5', 'StochasticSlowWilders (80, 20, 3, 3, HI', 'StochasticSlowWeighted (80, 20, 3, 3, H', 'StochasticSlowWeighted (80, 20, 3, 3, H.1', 'StochasticSlowExponential (80, 20, 3, 3', 'StochasticSlowExponential (80, 20, 3, 3.1', 'StochasticMomentumIndex (40.0, -40.0, 2.1', 'StochasticMACD (11, 3, 6, 3, 0, 0, WILD.1', 'StochasticFullDiffWilders525 (HIGH, LOW', 'StandardError (VWAP, 3)', 'StandardError (VWAP, 7)', 'SentimentZoneOscillator (VWAP, 7, 15, 9', 'SentimentZoneOscillator (VWAP, 3, 7, 95.0)', 'RSquared (5, 1)', 'RSMK (SPY, 5, 4)', 'RSMK (SPY, 3, 3)', 'ADXR (3, WEIGHTED).1', 'ADXR (3, SIMPLE).1', 'ADXR (3, HULL).1', 'ADXR (3, EXPONENTIAL).1', 'BalanceOfMarketPower (WILDERS, 3)', 'BalanceOfMarketPower (WEIGHTED, 3)', 'BalanceOfMarketPower (EXPONENTIAL 3)', 'ChaikinVolatility (3, 3)', 'ErgodicOsc (6, 3, 2, EXPONENTIAL)', 'ErgodicOsc (6, 3, 2, WILDERS)', 'ErgodicOsc (6, 3, 2, WEIGHTED)', 'DeviationScaledOscillator (10, 2.0', 'StandardDeviation (CLOSE, 10)', 'StandardDeviation (CLOSE, 14)', 'StandardDeviation (OHLC4, 14)', 'StandardDeviation (OHLC4, 5)', 'StandardError (CLOSE, 14)', 'StochasticFullWilders (80, 20, 10', 'StochasticMACD23Simple (23, 6, 13.1', 'StochasticMACD23Weighted (23, 6, 13', 'StochasticMACD45Exponential (45, 12, 26.1', 'StochasticMACD45Hull (45, 12, 26.1', 'StochasticMACD45Weighted (45, 12, 26.1', 'StochasticMACD45Wilders (45, 12, 26.1', 'StochasticSlowWeighted (80, 20, 10', 'StressIndicator (SPY, 12, 90, 50, 10).1', 'StressIndicator (SPY, 6, 90, 50, 10).1', 'TAC_ADX (3, 4, 5, EXPONENTIAL)', 'TAC_ADX (3, 4, 5, WEIGHTED)', 'TAC_DIMinus (5, 8, 14, EXPONENTIAL).2', 'TAC_DIMinus (5, 8, 14, WILDERS)', 'TAC_DIMinus (5, 8, 14, WILDERS).1', 'TAC_DIPlus (5, 8, 14, EXPONENTIAL).1', 'TAC_DIPlus (5, 8, 14, EXPONENTIAL).2', 'TAC_DIPlus (5, 8, 14, HULL)', 'TAC_DIPlus (5, 8, 14, HULL).2', 'TAC_DIPlus (5, 8, 14, WILDERS)', 'TAC_DIPlus (5, 8, 14, WILDERS).2', 'TrendPersistenceRate3Wilders (3, 7, 3, ...', 'TRIX (6, 10, VWAP, 3).1', 'TrueStrengthIndex (25, 13, 8, EXPONENTIAL)', 'TTM_Wave', 'UlcerIndex (CLOSE, 5, 5)', 'VolatilityStdDev (14)', 'VolatilityStdDev (5)', 'VolumeFlowIndicator (130, 2.5)', 'VolumeRateOfChange (5, 5)', 'VolumeWeightedMACD (12, 26, 9)', 'VolumeWeightedMACD (12, 26, 9).2', 'VolumeWeightedMACD (6, 13, 5).1', 'VolumeZoneOscilator (10)', 'VossPredictiveFilter (20, 3, 0.25)', 'VossPredictiveFilter (5, 3, 0.25)', 'VPNIndicator (10, 3, 10, 0.1, 10, HULL)', 'VPNIndicator (10, 3, 10, 0.1, 10, SIMPLE)', 'VPNIndicator (10, 3, 10, 0.1, 10, WILDERS)', 'VPNIndicator (10, 3, 10, 0.1, 10, WILDERS).1', 'VPNIndicator (30, 3, 30, 0.1, 10, HULL)', 'VPNIndicator (30, 3, 30, 0.1, 10, WEIG', 'VPNIndicator (30, 3, 30, 0.1, 10, WILDERS)', 'WeeklyAndDailyMACD (30, 65, 6, 13)', 'WeeklyAndDailyMACD (30, 65, 6, 13).1', 'WeeklyAndDailyMACD (60, 130, 12, 26)', 'WeeklyAndDailyPPO (30, 60, 6, 13)', 'MACD (4, 8, 3, EXPONENTIAL, no).2', 'FastBeta (SPX, 1, 3, 0.1)', 'SpearmanAdapted (VWAP, 5, 3)', 'BolPctEXPONENTIALCLOSE10ten (EXPONENTIA', 'BolPctEXPONENTIALCLOSE20TWENTY (EXPONEN', 'BolPctHULLCLOSE20TWENTY (HULL, CLOSE', 'BolPctHULLOHLC10ten (HULL, OHLC4, 0, 10', 'BolPctHULLOHLC20TWENTY (HULL, OHLC4', 'BolPctSimpleCLOSE20TWENTY (SIMPLE, CLOS', 'BolPctWEIGHTCLOSE20TWENTY (WEIGHTED, CL', 'BolPctWEIGHTOHLC20TWENTY (WEIGHTED, OHL', 'EhlersHighpassFilter (CLOSE, 125)', 'EhlersHighpassFilter (OHLC4, 125)', 'EhlersRoofingFilter (CLOSE, 10, 48)', 'EhlersRoofingFilter (OHLC4, 10, 48)', 'FisherTransform (OHLC4, 10)', 'FisherTransform (VWAP, 10)', 'FisherTransform (VWAP, 10).1', 'GatorOscHullOHLC (OHLC4, 13, 8, 5, -8', 'GatorOscSimpleVWAP (VWAP, 13, 8, 5, -8,', 'GatorOscWildersCLOSE (CLOSE, 13, 8, 5.1', 'LBR_ThreeTenOscillator (CLOSE, Alternate).1', 'LBR_ThreeTenOscillator (CLOSE, Normal).1', 'LBR_ThreeTenOscillator (OHLC4, Alternate)', 'LBR_ThreeTenOscillator (OHLC4, Normal)', 'LBR_ThreeTenOscillator (OHLC4, Normal).1', 'LeavittConvolutionAcceleration (CLOSE, 5)', 'LeavittConvolutionAcceleration (OHLC4, 5)', 'LeavittConvolutionSlope (CLOSE, 5)', 'LeavittConvolutionSlope (OHLC4, 5)', 'LinearRegressionSlope (OHLC4, 6)', 'MESASineWave (CLOSE, 25)', 'MESASineWave (VWAP, 10)', 'OnsetTrendDetectorAdapted (CLOSE, 5, 10.1', 'PMO (CLOSE, 8, 5, 3)', 'PMO (OHLC4, 35, 20, 10)', 'PMO (VWAP, 35, 20, 10).1', 'PriceOsc (14, 9, CLOSE, 18, SIMPLE)', 'PriceOsc (8, 3, CLOSE, 6, EXPONENTIAL)', 'PriceOsc (8, 3, CLOSE, 6, HULL)', 'PriceOsc (8, 3, OHLC4, 6, EXPONENTIAL)', 'PriceOsc (8, 3, OHLC4, 6, HULL)', 'PriceOsc (8, 3, OHLC4, 6, WEIGHTED)', 'PriceZoneOscillator (OHLC4, 14)', 'PriceZoneOscillator (OHLC4, 5)', 'RSI (14, 70, 30, CLOSE, EXPONENTIAL, no)', 'RSI (14, 70, 30, CLOSE, WILDERS, no)', 'RSI (14, 70, 30, OHLC4, HULL, no)', 'RSI (14, 70, 30, OHLC4, SIMPLE, no)', 'RSI (14, 70, 30, OHLC4, WEIGHTED, no)', 'RSI (5, 70, 30, CLOSE, EXPONENTIAL, no)', 'RSI (5, 70, 30, CLOSE, SIMPLE, no)', 'RSI (5, 70, 30, CLOSE, WILDERS, no)', 'SentimentZoneOscillator (VWAP, 14, 30', 'Spearman (OHLC4, 10, 3, 80, -80)', 'TRIX (9, 14, CLOSE, 3)', 'TRIX (9, 14, CLOSE, 3).1', 'TRIX (9, 14, OHLC4, 3)', 'TRIX (9, 14, OHLC4, 3).1', 'UlcerIndex (CLOSE, 14, 5)', 'UlcerIndex (OHLC4, 9, 5)', 'VolatilitySwitch (OHLC4, 21)', 'DemandIndexDiffAbsnPct (4, 4, 252, 2, 1)', 'DemandIndexDiffAbsnPct (4, 4, 252, 2, 1).1', 'DemandIndexDiffAbsnPct (3, 5, 252, 15, 14)', 'year']\n"
          ]
        }
      ]
    },
    {
      "cell_type": "code",
      "source": [
        "lst =[]\n",
        "lst =selected_features_BE"
      ],
      "metadata": {
        "id": "0AIq7LS4lLQ7"
      },
      "execution_count": 26,
      "outputs": []
    },
    {
      "cell_type": "code",
      "source": [
        "rt = pd.DataFrame(c3[lst])\n"
      ],
      "metadata": {
        "id": "CnDyXgsula-Z"
      },
      "execution_count": 27,
      "outputs": []
    },
    {
      "cell_type": "code",
      "source": [
        "rt['Output'] = target"
      ],
      "metadata": {
        "id": "JLGPwRZzll2Z"
      },
      "execution_count": 28,
      "outputs": []
    },
    {
      "cell_type": "code",
      "execution_count": 29,
      "metadata": {
        "id": "6H4pXfcbPlQA"
      },
      "outputs": [],
      "source": [
        "X = rt.drop('Output',axis=1)\n",
        "y = rt['Output']"
      ]
    },
    {
      "cell_type": "markdown",
      "source": [
        "FROM 1033 COLUMNS WE HAVE SELECTED APPROXIMATELY 280 IMPORTANT COLUMNS"
      ],
      "metadata": {
        "id": "KempErYE4fCw"
      }
    },
    {
      "cell_type": "markdown",
      "source": [
        "#### AUTOENCODING"
      ],
      "metadata": {
        "id": "F2Wpp0fY1Dni"
      }
    },
    {
      "cell_type": "code",
      "execution_count": 30,
      "metadata": {
        "id": "jnrzLLYePnlB"
      },
      "outputs": [],
      "source": [
        "from sklearn.model_selection import train_test_split\n",
        "X_train, X_test, y_train, y_test = train_test_split(X, y, test_size=0.33, random_state=42)"
      ]
    },
    {
      "cell_type": "code",
      "execution_count": 31,
      "metadata": {
        "id": "vMGWIjxizbEp"
      },
      "outputs": [],
      "source": [
        "from sklearn.preprocessing import MinMaxScaler\n",
        "\n",
        "def scale_datasets(X_train, X_test):\n",
        "  \"\"\"\n",
        "  Standard Scale test and train data\n",
        "  \"\"\"\n",
        "  standard_scaler = MinMaxScaler()\n",
        "  x_train_scaled = pd.DataFrame(\n",
        "      standard_scaler.fit_transform(X_train),\n",
        "      columns=X_train.columns\n",
        "  )\n",
        "  x_test_scaled = pd.DataFrame(\n",
        "      standard_scaler.transform(X_test),\n",
        "      columns = X_test.columns\n",
        "  )\n",
        "  \n",
        "  return x_train_scaled, x_test_scaled\n",
        "  \n",
        "x_train_scaled, x_test_scaled = scale_datasets(X_train, X_test)"
      ]
    },
    {
      "cell_type": "code",
      "execution_count": 32,
      "metadata": {
        "colab": {
          "base_uri": "https://localhost:8080/"
        },
        "id": "p5G_3AmbJ-B0",
        "outputId": "570df616-a95c-47ed-b0a8-57942e1ba39a"
      },
      "outputs": [
        {
          "output_type": "execute_result",
          "data": {
            "text/plain": [
              "0"
            ]
          },
          "metadata": {},
          "execution_count": 32
        }
      ],
      "source": [
        "x_train_scaled.isna().sum().sum()"
      ]
    },
    {
      "cell_type": "code",
      "execution_count": 33,
      "metadata": {
        "colab": {
          "base_uri": "https://localhost:8080/"
        },
        "id": "AouumHMAKIZ6",
        "outputId": "7404c74f-43c6-4976-cf32-6e7cf608ec78"
      },
      "outputs": [
        {
          "output_type": "execute_result",
          "data": {
            "text/plain": [
              "0"
            ]
          },
          "metadata": {},
          "execution_count": 33
        }
      ],
      "source": [
        "x_test_scaled.isna().sum().sum()"
      ]
    },
    {
      "cell_type": "code",
      "execution_count": 34,
      "metadata": {
        "id": "dWY6p1C8CBNE"
      },
      "outputs": [],
      "source": [
        "from tensorflow.keras import Model,Input\n",
        "from tensorflow.keras import Sequential\n",
        "from sklearn.preprocessing import StandardScaler\n",
        "from tensorflow.keras.layers import Dense, Dropout"
      ]
    },
    {
      "cell_type": "code",
      "execution_count": 35,
      "metadata": {
        "id": "liKplgmEFbHP",
        "colab": {
          "base_uri": "https://localhost:8080/"
        },
        "outputId": "3d46b89a-de5d-4d66-8141-e187ac15cbb9"
      },
      "outputs": [
        {
          "output_type": "execute_result",
          "data": {
            "text/plain": [
              "277"
            ]
          },
          "metadata": {},
          "execution_count": 35
        }
      ],
      "source": [
        "\n",
        "ncol = x_train_scaled.shape[1]\n",
        "ncol"
      ]
    },
    {
      "cell_type": "code",
      "execution_count": 36,
      "metadata": {
        "id": "DjmJ3NtuFqWM"
      },
      "outputs": [],
      "source": [
        "encoding_dim =20"
      ]
    },
    {
      "cell_type": "code",
      "execution_count": 37,
      "metadata": {
        "id": "SCbVDTGzM4tg"
      },
      "outputs": [],
      "source": [
        "import keras\n",
        "import tensorflow as tf"
      ]
    },
    {
      "cell_type": "code",
      "source": [
        "tf.random.uniform([1], seed=1)"
      ],
      "metadata": {
        "colab": {
          "base_uri": "https://localhost:8080/"
        },
        "id": "-3yoG0GclIL8",
        "outputId": "9e38bfb0-8e7f-49f2-e070-6ef596b4cd91"
      },
      "execution_count": 38,
      "outputs": [
        {
          "output_type": "execute_result",
          "data": {
            "text/plain": [
              "<tf.Tensor: shape=(1,), dtype=float32, numpy=array([0.2390374], dtype=float32)>"
            ]
          },
          "metadata": {},
          "execution_count": 38
        }
      ]
    },
    {
      "cell_type": "code",
      "execution_count": 39,
      "metadata": {
        "id": "mxLDnbsa7pRR"
      },
      "outputs": [],
      "source": [
        "input_dim = Input(shape = (ncol, ))\n",
        "\n",
        "# Encoder Layers\n",
        "encoder = keras.models.Sequential([\n",
        "  keras.layers.Dense(200, activation = 'relu', input_shape=[277]),\n",
        "  Dense(100, activation = 'relu'),\n",
        "  Dense(50, activation = 'relu'),\n",
        " # Dense(60, activation = 'relu'),\n",
        "  #Dense(30, activation = 'relu'),\n",
        "  Dense(encoding_dim, activation = 'relu')\n",
        "])\n",
        "\n",
        "decoder = keras.models.Sequential([\n",
        "  keras.layers.Dense(50, activation = 'relu', input_shape=[encoding_dim]),\n",
        "  Dense(100, activation = 'relu'),\n",
        "  Dense(200, activation = 'relu'),\n",
        "  #Dense(400, activation = 'relu'),\n",
        "  #Dense(800, activation = 'relu'),\n",
        "  Dense(277, activation = 'sigmoid')\n",
        "])\n",
        "\n",
        "stacked_ae = keras.models.Sequential([encoder, decoder])\n"
      ]
    },
    {
      "cell_type": "code",
      "execution_count": 40,
      "metadata": {
        "colab": {
          "base_uri": "https://localhost:8080/"
        },
        "id": "a9sSZk7L59E5",
        "outputId": "86e60487-45dc-4e8e-b06a-0aab4797edb9"
      },
      "outputs": [
        {
          "output_type": "stream",
          "name": "stdout",
          "text": [
            "Model: \"sequential_2\"\n",
            "_________________________________________________________________\n",
            " Layer (type)                Output Shape              Param #   \n",
            "=================================================================\n",
            " sequential (Sequential)     (None, 20)                81770     \n",
            "                                                                 \n",
            " sequential_1 (Sequential)   (None, 277)               82027     \n",
            "                                                                 \n",
            "=================================================================\n",
            "Total params: 163,797\n",
            "Trainable params: 163,797\n",
            "Non-trainable params: 0\n",
            "_________________________________________________________________\n",
            "Model: \"sequential\"\n",
            "_________________________________________________________________\n",
            " Layer (type)                Output Shape              Param #   \n",
            "=================================================================\n",
            " dense (Dense)               (None, 200)               55600     \n",
            "                                                                 \n",
            " dense_1 (Dense)             (None, 100)               20100     \n",
            "                                                                 \n",
            " dense_2 (Dense)             (None, 50)                5050      \n",
            "                                                                 \n",
            " dense_3 (Dense)             (None, 20)                1020      \n",
            "                                                                 \n",
            "=================================================================\n",
            "Total params: 81,770\n",
            "Trainable params: 81,770\n",
            "Non-trainable params: 0\n",
            "_________________________________________________________________\n",
            "Model: \"sequential_1\"\n",
            "_________________________________________________________________\n",
            " Layer (type)                Output Shape              Param #   \n",
            "=================================================================\n",
            " dense_4 (Dense)             (None, 50)                1050      \n",
            "                                                                 \n",
            " dense_5 (Dense)             (None, 100)               5100      \n",
            "                                                                 \n",
            " dense_6 (Dense)             (None, 200)               20200     \n",
            "                                                                 \n",
            " dense_7 (Dense)             (None, 277)               55677     \n",
            "                                                                 \n",
            "=================================================================\n",
            "Total params: 82,027\n",
            "Trainable params: 82,027\n",
            "Non-trainable params: 0\n",
            "_________________________________________________________________\n"
          ]
        }
      ],
      "source": [
        "stacked_ae.summary()\n",
        "encoder.summary()\n",
        "decoder.summary()"
      ]
    },
    {
      "cell_type": "code",
      "execution_count": 41,
      "metadata": {
        "id": "12fjTryV28yn"
      },
      "outputs": [],
      "source": [
        "\n",
        "def rounded_accuracy(y_true, y_pred):\n",
        "    return keras.metrics.binary_accuracy(tf.round(y_true), tf.round(y_pred))"
      ]
    },
    {
      "cell_type": "code",
      "execution_count": 42,
      "metadata": {
        "id": "8DquG3TLF7tD"
      },
      "outputs": [],
      "source": [
        "stacked_ae.compile(optimizer = 'adam', loss = 'binary_crossentropy', metrics=[rounded_accuracy])"
      ]
    },
    {
      "cell_type": "code",
      "execution_count": 43,
      "metadata": {
        "colab": {
          "base_uri": "https://localhost:8080/"
        },
        "id": "73M6nWs-GSQQ",
        "outputId": "c29404e5-7d46-466d-ee18-28bad1288fb2"
      },
      "outputs": [
        {
          "output_type": "stream",
          "name": "stdout",
          "text": [
            "Epoch 1/21\n",
            "43/43 [==============================] - 1s 11ms/step - loss: 0.6495 - rounded_accuracy: 0.6766 - val_loss: 0.6271 - val_rounded_accuracy: 0.7539\n",
            "Epoch 2/21\n",
            "43/43 [==============================] - 0s 5ms/step - loss: 0.6122 - rounded_accuracy: 0.8017 - val_loss: 0.5998 - val_rounded_accuracy: 0.8321\n",
            "Epoch 3/21\n",
            "43/43 [==============================] - 0s 6ms/step - loss: 0.5952 - rounded_accuracy: 0.8439 - val_loss: 0.5921 - val_rounded_accuracy: 0.8497\n",
            "Epoch 4/21\n",
            "43/43 [==============================] - 0s 6ms/step - loss: 0.5917 - rounded_accuracy: 0.8513 - val_loss: 0.5904 - val_rounded_accuracy: 0.8535\n",
            "Epoch 5/21\n",
            "43/43 [==============================] - 0s 6ms/step - loss: 0.5899 - rounded_accuracy: 0.8557 - val_loss: 0.5890 - val_rounded_accuracy: 0.8567\n",
            "Epoch 6/21\n",
            "43/43 [==============================] - 0s 6ms/step - loss: 0.5873 - rounded_accuracy: 0.8623 - val_loss: 0.5846 - val_rounded_accuracy: 0.8705\n",
            "Epoch 7/21\n",
            "43/43 [==============================] - 0s 6ms/step - loss: 0.5836 - rounded_accuracy: 0.8733 - val_loss: 0.5828 - val_rounded_accuracy: 0.8741\n",
            "Epoch 8/21\n",
            "43/43 [==============================] - 0s 7ms/step - loss: 0.5825 - rounded_accuracy: 0.8769 - val_loss: 0.5822 - val_rounded_accuracy: 0.8760\n",
            "Epoch 9/21\n",
            "43/43 [==============================] - 0s 6ms/step - loss: 0.5820 - rounded_accuracy: 0.8783 - val_loss: 0.5819 - val_rounded_accuracy: 0.8763\n",
            "Epoch 10/21\n",
            "43/43 [==============================] - 0s 6ms/step - loss: 0.5816 - rounded_accuracy: 0.8790 - val_loss: 0.5816 - val_rounded_accuracy: 0.8767\n",
            "Epoch 11/21\n",
            "43/43 [==============================] - 0s 6ms/step - loss: 0.5813 - rounded_accuracy: 0.8799 - val_loss: 0.5815 - val_rounded_accuracy: 0.8768\n",
            "Epoch 12/21\n",
            "43/43 [==============================] - 0s 7ms/step - loss: 0.5810 - rounded_accuracy: 0.8808 - val_loss: 0.5811 - val_rounded_accuracy: 0.8790\n",
            "Epoch 13/21\n",
            "43/43 [==============================] - 0s 6ms/step - loss: 0.5807 - rounded_accuracy: 0.8819 - val_loss: 0.5808 - val_rounded_accuracy: 0.8800\n",
            "Epoch 14/21\n",
            "43/43 [==============================] - 0s 6ms/step - loss: 0.5804 - rounded_accuracy: 0.8829 - val_loss: 0.5805 - val_rounded_accuracy: 0.8810\n",
            "Epoch 15/21\n",
            "43/43 [==============================] - 0s 5ms/step - loss: 0.5800 - rounded_accuracy: 0.8837 - val_loss: 0.5801 - val_rounded_accuracy: 0.8821\n",
            "Epoch 16/21\n",
            "43/43 [==============================] - 0s 6ms/step - loss: 0.5795 - rounded_accuracy: 0.8846 - val_loss: 0.5794 - val_rounded_accuracy: 0.8835\n",
            "Epoch 17/21\n",
            "43/43 [==============================] - 0s 5ms/step - loss: 0.5788 - rounded_accuracy: 0.8860 - val_loss: 0.5789 - val_rounded_accuracy: 0.8836\n",
            "Epoch 18/21\n",
            "43/43 [==============================] - 0s 5ms/step - loss: 0.5783 - rounded_accuracy: 0.8873 - val_loss: 0.5793 - val_rounded_accuracy: 0.8818\n",
            "Epoch 19/21\n",
            "43/43 [==============================] - 0s 8ms/step - loss: 0.5778 - rounded_accuracy: 0.8887 - val_loss: 0.5782 - val_rounded_accuracy: 0.8846\n",
            "Epoch 20/21\n",
            "43/43 [==============================] - 0s 10ms/step - loss: 0.5771 - rounded_accuracy: 0.8906 - val_loss: 0.5772 - val_rounded_accuracy: 0.8873\n",
            "Epoch 21/21\n",
            "43/43 [==============================] - 0s 6ms/step - loss: 0.5760 - rounded_accuracy: 0.8933 - val_loss: 0.5763 - val_rounded_accuracy: 0.8890\n"
          ]
        },
        {
          "output_type": "execute_result",
          "data": {
            "text/plain": [
              "<keras.callbacks.History at 0x7f3e5fe4ff10>"
            ]
          },
          "metadata": {},
          "execution_count": 43
        }
      ],
      "source": [
        "stacked_ae.fit(x_train_scaled.values, x_train_scaled.values,epochs = 21, batch_size = 32, shuffle = False,validation_data=(x_test_scaled.values, x_test_scaled.values))"
      ]
    },
    {
      "cell_type": "code",
      "execution_count": 44,
      "metadata": {
        "id": "pmxT50YjRCSc"
      },
      "outputs": [],
      "source": [
        "encoder_layer = stacked_ae.get_layer('sequential')"
      ]
    },
    {
      "cell_type": "code",
      "execution_count": 45,
      "metadata": {
        "id": "1KV-PBJILuCh"
      },
      "outputs": [],
      "source": [
        "fc = pd.DataFrame(encoder_layer.predict(x_train_scaled))\n",
        "fc = fc.add_prefix('feature_')"
      ]
    },
    {
      "cell_type": "code",
      "execution_count": 46,
      "metadata": {
        "id": "plIJdgxhR4am"
      },
      "outputs": [],
      "source": [
        "fc['target'] = target"
      ]
    },
    {
      "cell_type": "code",
      "execution_count": 47,
      "metadata": {
        "colab": {
          "base_uri": "https://localhost:8080/",
          "height": 297
        },
        "id": "XDaFAoD_R8ZT",
        "outputId": "8da710cf-a3d0-46d9-c15f-24bcb860bd6f"
      },
      "outputs": [
        {
          "output_type": "execute_result",
          "data": {
            "text/plain": [
              "   feature_0  feature_1  feature_2  feature_3  feature_4  feature_5  \\\n",
              "0   3.499987        0.0   1.430596        0.0   2.327132   3.703217   \n",
              "1   2.638483        0.0   1.154880        0.0   3.025325   3.875205   \n",
              "2   3.558935        0.0   3.108443        0.0   1.982684   2.036680   \n",
              "3   1.893776        0.0   0.000000        0.0   2.158586   3.933886   \n",
              "4   1.796596        0.0   2.324148        0.0   2.314283   2.245979   \n",
              "\n",
              "   feature_6  feature_7  feature_8  feature_9  ...  feature_11  feature_12  \\\n",
              "0   7.041568   2.231556   2.119040   0.000000  ...    5.870665         0.0   \n",
              "1   5.998892   3.339603   1.681250   0.000000  ...    6.057288         0.0   \n",
              "2   7.319803   1.976276   0.900910   0.000000  ...    4.831932         0.0   \n",
              "3   5.273973   2.024125   2.850667   0.900904  ...    5.071400         0.0   \n",
              "4   5.050401   2.847356   1.566374   0.000000  ...    5.479713         0.0   \n",
              "\n",
              "   feature_13  feature_14  feature_15  feature_16  feature_17  feature_18  \\\n",
              "0         0.0    2.801627         0.0    2.844902    0.608808    6.178155   \n",
              "1         0.0    3.265323         0.0    1.298575    1.209401    5.311978   \n",
              "2         0.0    2.421010         0.0    3.226627    1.337167    6.174706   \n",
              "3         0.0    2.494540         0.0    1.583770    0.000000    4.038201   \n",
              "4         0.0    4.540010         0.0    1.487529    1.502575    5.003338   \n",
              "\n",
              "   feature_19  target  \n",
              "0    4.243690       2  \n",
              "1    3.592036       2  \n",
              "2    3.085067       2  \n",
              "3    3.368767       2  \n",
              "4    3.459401       2  \n",
              "\n",
              "[5 rows x 21 columns]"
            ],
            "text/html": [
              "\n",
              "  <div id=\"df-e0c8dde8-055b-4f51-b021-d4b6911540a0\">\n",
              "    <div class=\"colab-df-container\">\n",
              "      <div>\n",
              "<style scoped>\n",
              "    .dataframe tbody tr th:only-of-type {\n",
              "        vertical-align: middle;\n",
              "    }\n",
              "\n",
              "    .dataframe tbody tr th {\n",
              "        vertical-align: top;\n",
              "    }\n",
              "\n",
              "    .dataframe thead th {\n",
              "        text-align: right;\n",
              "    }\n",
              "</style>\n",
              "<table border=\"1\" class=\"dataframe\">\n",
              "  <thead>\n",
              "    <tr style=\"text-align: right;\">\n",
              "      <th></th>\n",
              "      <th>feature_0</th>\n",
              "      <th>feature_1</th>\n",
              "      <th>feature_2</th>\n",
              "      <th>feature_3</th>\n",
              "      <th>feature_4</th>\n",
              "      <th>feature_5</th>\n",
              "      <th>feature_6</th>\n",
              "      <th>feature_7</th>\n",
              "      <th>feature_8</th>\n",
              "      <th>feature_9</th>\n",
              "      <th>...</th>\n",
              "      <th>feature_11</th>\n",
              "      <th>feature_12</th>\n",
              "      <th>feature_13</th>\n",
              "      <th>feature_14</th>\n",
              "      <th>feature_15</th>\n",
              "      <th>feature_16</th>\n",
              "      <th>feature_17</th>\n",
              "      <th>feature_18</th>\n",
              "      <th>feature_19</th>\n",
              "      <th>target</th>\n",
              "    </tr>\n",
              "  </thead>\n",
              "  <tbody>\n",
              "    <tr>\n",
              "      <th>0</th>\n",
              "      <td>3.499987</td>\n",
              "      <td>0.0</td>\n",
              "      <td>1.430596</td>\n",
              "      <td>0.0</td>\n",
              "      <td>2.327132</td>\n",
              "      <td>3.703217</td>\n",
              "      <td>7.041568</td>\n",
              "      <td>2.231556</td>\n",
              "      <td>2.119040</td>\n",
              "      <td>0.000000</td>\n",
              "      <td>...</td>\n",
              "      <td>5.870665</td>\n",
              "      <td>0.0</td>\n",
              "      <td>0.0</td>\n",
              "      <td>2.801627</td>\n",
              "      <td>0.0</td>\n",
              "      <td>2.844902</td>\n",
              "      <td>0.608808</td>\n",
              "      <td>6.178155</td>\n",
              "      <td>4.243690</td>\n",
              "      <td>2</td>\n",
              "    </tr>\n",
              "    <tr>\n",
              "      <th>1</th>\n",
              "      <td>2.638483</td>\n",
              "      <td>0.0</td>\n",
              "      <td>1.154880</td>\n",
              "      <td>0.0</td>\n",
              "      <td>3.025325</td>\n",
              "      <td>3.875205</td>\n",
              "      <td>5.998892</td>\n",
              "      <td>3.339603</td>\n",
              "      <td>1.681250</td>\n",
              "      <td>0.000000</td>\n",
              "      <td>...</td>\n",
              "      <td>6.057288</td>\n",
              "      <td>0.0</td>\n",
              "      <td>0.0</td>\n",
              "      <td>3.265323</td>\n",
              "      <td>0.0</td>\n",
              "      <td>1.298575</td>\n",
              "      <td>1.209401</td>\n",
              "      <td>5.311978</td>\n",
              "      <td>3.592036</td>\n",
              "      <td>2</td>\n",
              "    </tr>\n",
              "    <tr>\n",
              "      <th>2</th>\n",
              "      <td>3.558935</td>\n",
              "      <td>0.0</td>\n",
              "      <td>3.108443</td>\n",
              "      <td>0.0</td>\n",
              "      <td>1.982684</td>\n",
              "      <td>2.036680</td>\n",
              "      <td>7.319803</td>\n",
              "      <td>1.976276</td>\n",
              "      <td>0.900910</td>\n",
              "      <td>0.000000</td>\n",
              "      <td>...</td>\n",
              "      <td>4.831932</td>\n",
              "      <td>0.0</td>\n",
              "      <td>0.0</td>\n",
              "      <td>2.421010</td>\n",
              "      <td>0.0</td>\n",
              "      <td>3.226627</td>\n",
              "      <td>1.337167</td>\n",
              "      <td>6.174706</td>\n",
              "      <td>3.085067</td>\n",
              "      <td>2</td>\n",
              "    </tr>\n",
              "    <tr>\n",
              "      <th>3</th>\n",
              "      <td>1.893776</td>\n",
              "      <td>0.0</td>\n",
              "      <td>0.000000</td>\n",
              "      <td>0.0</td>\n",
              "      <td>2.158586</td>\n",
              "      <td>3.933886</td>\n",
              "      <td>5.273973</td>\n",
              "      <td>2.024125</td>\n",
              "      <td>2.850667</td>\n",
              "      <td>0.900904</td>\n",
              "      <td>...</td>\n",
              "      <td>5.071400</td>\n",
              "      <td>0.0</td>\n",
              "      <td>0.0</td>\n",
              "      <td>2.494540</td>\n",
              "      <td>0.0</td>\n",
              "      <td>1.583770</td>\n",
              "      <td>0.000000</td>\n",
              "      <td>4.038201</td>\n",
              "      <td>3.368767</td>\n",
              "      <td>2</td>\n",
              "    </tr>\n",
              "    <tr>\n",
              "      <th>4</th>\n",
              "      <td>1.796596</td>\n",
              "      <td>0.0</td>\n",
              "      <td>2.324148</td>\n",
              "      <td>0.0</td>\n",
              "      <td>2.314283</td>\n",
              "      <td>2.245979</td>\n",
              "      <td>5.050401</td>\n",
              "      <td>2.847356</td>\n",
              "      <td>1.566374</td>\n",
              "      <td>0.000000</td>\n",
              "      <td>...</td>\n",
              "      <td>5.479713</td>\n",
              "      <td>0.0</td>\n",
              "      <td>0.0</td>\n",
              "      <td>4.540010</td>\n",
              "      <td>0.0</td>\n",
              "      <td>1.487529</td>\n",
              "      <td>1.502575</td>\n",
              "      <td>5.003338</td>\n",
              "      <td>3.459401</td>\n",
              "      <td>2</td>\n",
              "    </tr>\n",
              "  </tbody>\n",
              "</table>\n",
              "<p>5 rows × 21 columns</p>\n",
              "</div>\n",
              "      <button class=\"colab-df-convert\" onclick=\"convertToInteractive('df-e0c8dde8-055b-4f51-b021-d4b6911540a0')\"\n",
              "              title=\"Convert this dataframe to an interactive table.\"\n",
              "              style=\"display:none;\">\n",
              "        \n",
              "  <svg xmlns=\"http://www.w3.org/2000/svg\" height=\"24px\"viewBox=\"0 0 24 24\"\n",
              "       width=\"24px\">\n",
              "    <path d=\"M0 0h24v24H0V0z\" fill=\"none\"/>\n",
              "    <path d=\"M18.56 5.44l.94 2.06.94-2.06 2.06-.94-2.06-.94-.94-2.06-.94 2.06-2.06.94zm-11 1L8.5 8.5l.94-2.06 2.06-.94-2.06-.94L8.5 2.5l-.94 2.06-2.06.94zm10 10l.94 2.06.94-2.06 2.06-.94-2.06-.94-.94-2.06-.94 2.06-2.06.94z\"/><path d=\"M17.41 7.96l-1.37-1.37c-.4-.4-.92-.59-1.43-.59-.52 0-1.04.2-1.43.59L10.3 9.45l-7.72 7.72c-.78.78-.78 2.05 0 2.83L4 21.41c.39.39.9.59 1.41.59.51 0 1.02-.2 1.41-.59l7.78-7.78 2.81-2.81c.8-.78.8-2.07 0-2.86zM5.41 20L4 18.59l7.72-7.72 1.47 1.35L5.41 20z\"/>\n",
              "  </svg>\n",
              "      </button>\n",
              "      \n",
              "  <style>\n",
              "    .colab-df-container {\n",
              "      display:flex;\n",
              "      flex-wrap:wrap;\n",
              "      gap: 12px;\n",
              "    }\n",
              "\n",
              "    .colab-df-convert {\n",
              "      background-color: #E8F0FE;\n",
              "      border: none;\n",
              "      border-radius: 50%;\n",
              "      cursor: pointer;\n",
              "      display: none;\n",
              "      fill: #1967D2;\n",
              "      height: 32px;\n",
              "      padding: 0 0 0 0;\n",
              "      width: 32px;\n",
              "    }\n",
              "\n",
              "    .colab-df-convert:hover {\n",
              "      background-color: #E2EBFA;\n",
              "      box-shadow: 0px 1px 2px rgba(60, 64, 67, 0.3), 0px 1px 3px 1px rgba(60, 64, 67, 0.15);\n",
              "      fill: #174EA6;\n",
              "    }\n",
              "\n",
              "    [theme=dark] .colab-df-convert {\n",
              "      background-color: #3B4455;\n",
              "      fill: #D2E3FC;\n",
              "    }\n",
              "\n",
              "    [theme=dark] .colab-df-convert:hover {\n",
              "      background-color: #434B5C;\n",
              "      box-shadow: 0px 1px 3px 1px rgba(0, 0, 0, 0.15);\n",
              "      filter: drop-shadow(0px 1px 2px rgba(0, 0, 0, 0.3));\n",
              "      fill: #FFFFFF;\n",
              "    }\n",
              "  </style>\n",
              "\n",
              "      <script>\n",
              "        const buttonEl =\n",
              "          document.querySelector('#df-e0c8dde8-055b-4f51-b021-d4b6911540a0 button.colab-df-convert');\n",
              "        buttonEl.style.display =\n",
              "          google.colab.kernel.accessAllowed ? 'block' : 'none';\n",
              "\n",
              "        async function convertToInteractive(key) {\n",
              "          const element = document.querySelector('#df-e0c8dde8-055b-4f51-b021-d4b6911540a0');\n",
              "          const dataTable =\n",
              "            await google.colab.kernel.invokeFunction('convertToInteractive',\n",
              "                                                     [key], {});\n",
              "          if (!dataTable) return;\n",
              "\n",
              "          const docLinkHtml = 'Like what you see? Visit the ' +\n",
              "            '<a target=\"_blank\" href=https://colab.research.google.com/notebooks/data_table.ipynb>data table notebook</a>'\n",
              "            + ' to learn more about interactive tables.';\n",
              "          element.innerHTML = '';\n",
              "          dataTable['output_type'] = 'display_data';\n",
              "          await google.colab.output.renderOutput(dataTable, element);\n",
              "          const docLink = document.createElement('div');\n",
              "          docLink.innerHTML = docLinkHtml;\n",
              "          element.appendChild(docLink);\n",
              "        }\n",
              "      </script>\n",
              "    </div>\n",
              "  </div>\n",
              "  "
            ]
          },
          "metadata": {},
          "execution_count": 47
        }
      ],
      "source": [
        "fc.head()"
      ]
    },
    {
      "cell_type": "code",
      "execution_count": 48,
      "metadata": {
        "id": "rhQZFWWqCPAs"
      },
      "outputs": [],
      "source": [
        "fc1 = fc.copy()"
      ]
    },
    {
      "cell_type": "code",
      "execution_count": 49,
      "metadata": {
        "colab": {
          "base_uri": "https://localhost:8080/"
        },
        "id": "-lTUvnl5-lGK",
        "outputId": "eb75f0fa-77b6-4f39-b66b-3658780ced7d"
      },
      "outputs": [
        {
          "output_type": "execute_result",
          "data": {
            "text/plain": [
              "feature_0       10\n",
              "feature_1     1358\n",
              "feature_2       21\n",
              "feature_3     1358\n",
              "feature_4       11\n",
              "feature_5        3\n",
              "feature_6        0\n",
              "feature_7        2\n",
              "feature_8       22\n",
              "feature_9     1051\n",
              "feature_10    1350\n",
              "feature_11       0\n",
              "feature_12    1358\n",
              "feature_13    1358\n",
              "feature_14       5\n",
              "feature_15    1358\n",
              "feature_16      37\n",
              "feature_17     121\n",
              "feature_18       4\n",
              "feature_19       0\n",
              "target         344\n",
              "dtype: int64"
            ]
          },
          "metadata": {},
          "execution_count": 49
        }
      ],
      "source": [
        "(fc==0).sum()"
      ]
    },
    {
      "cell_type": "code",
      "execution_count": 50,
      "metadata": {
        "colab": {
          "base_uri": "https://localhost:8080/",
          "height": 419
        },
        "id": "_KAsQ2Sk9xaQ",
        "outputId": "3c36222f-084b-42d1-fd1f-a399c4e90235"
      },
      "outputs": [
        {
          "output_type": "execute_result",
          "data": {
            "text/plain": [
              "      feature_1  feature_3  feature_12  feature_13  feature_15\n",
              "0           0.0        0.0         0.0         0.0         0.0\n",
              "1           0.0        0.0         0.0         0.0         0.0\n",
              "2           0.0        0.0         0.0         0.0         0.0\n",
              "3           0.0        0.0         0.0         0.0         0.0\n",
              "4           0.0        0.0         0.0         0.0         0.0\n",
              "...         ...        ...         ...         ...         ...\n",
              "1353        0.0        0.0         0.0         0.0         0.0\n",
              "1354        0.0        0.0         0.0         0.0         0.0\n",
              "1355        0.0        0.0         0.0         0.0         0.0\n",
              "1356        0.0        0.0         0.0         0.0         0.0\n",
              "1357        0.0        0.0         0.0         0.0         0.0\n",
              "\n",
              "[1358 rows x 5 columns]"
            ],
            "text/html": [
              "\n",
              "  <div id=\"df-e9f9790a-b2bc-40cd-a3ff-b22bd779c047\">\n",
              "    <div class=\"colab-df-container\">\n",
              "      <div>\n",
              "<style scoped>\n",
              "    .dataframe tbody tr th:only-of-type {\n",
              "        vertical-align: middle;\n",
              "    }\n",
              "\n",
              "    .dataframe tbody tr th {\n",
              "        vertical-align: top;\n",
              "    }\n",
              "\n",
              "    .dataframe thead th {\n",
              "        text-align: right;\n",
              "    }\n",
              "</style>\n",
              "<table border=\"1\" class=\"dataframe\">\n",
              "  <thead>\n",
              "    <tr style=\"text-align: right;\">\n",
              "      <th></th>\n",
              "      <th>feature_1</th>\n",
              "      <th>feature_3</th>\n",
              "      <th>feature_12</th>\n",
              "      <th>feature_13</th>\n",
              "      <th>feature_15</th>\n",
              "    </tr>\n",
              "  </thead>\n",
              "  <tbody>\n",
              "    <tr>\n",
              "      <th>0</th>\n",
              "      <td>0.0</td>\n",
              "      <td>0.0</td>\n",
              "      <td>0.0</td>\n",
              "      <td>0.0</td>\n",
              "      <td>0.0</td>\n",
              "    </tr>\n",
              "    <tr>\n",
              "      <th>1</th>\n",
              "      <td>0.0</td>\n",
              "      <td>0.0</td>\n",
              "      <td>0.0</td>\n",
              "      <td>0.0</td>\n",
              "      <td>0.0</td>\n",
              "    </tr>\n",
              "    <tr>\n",
              "      <th>2</th>\n",
              "      <td>0.0</td>\n",
              "      <td>0.0</td>\n",
              "      <td>0.0</td>\n",
              "      <td>0.0</td>\n",
              "      <td>0.0</td>\n",
              "    </tr>\n",
              "    <tr>\n",
              "      <th>3</th>\n",
              "      <td>0.0</td>\n",
              "      <td>0.0</td>\n",
              "      <td>0.0</td>\n",
              "      <td>0.0</td>\n",
              "      <td>0.0</td>\n",
              "    </tr>\n",
              "    <tr>\n",
              "      <th>4</th>\n",
              "      <td>0.0</td>\n",
              "      <td>0.0</td>\n",
              "      <td>0.0</td>\n",
              "      <td>0.0</td>\n",
              "      <td>0.0</td>\n",
              "    </tr>\n",
              "    <tr>\n",
              "      <th>...</th>\n",
              "      <td>...</td>\n",
              "      <td>...</td>\n",
              "      <td>...</td>\n",
              "      <td>...</td>\n",
              "      <td>...</td>\n",
              "    </tr>\n",
              "    <tr>\n",
              "      <th>1353</th>\n",
              "      <td>0.0</td>\n",
              "      <td>0.0</td>\n",
              "      <td>0.0</td>\n",
              "      <td>0.0</td>\n",
              "      <td>0.0</td>\n",
              "    </tr>\n",
              "    <tr>\n",
              "      <th>1354</th>\n",
              "      <td>0.0</td>\n",
              "      <td>0.0</td>\n",
              "      <td>0.0</td>\n",
              "      <td>0.0</td>\n",
              "      <td>0.0</td>\n",
              "    </tr>\n",
              "    <tr>\n",
              "      <th>1355</th>\n",
              "      <td>0.0</td>\n",
              "      <td>0.0</td>\n",
              "      <td>0.0</td>\n",
              "      <td>0.0</td>\n",
              "      <td>0.0</td>\n",
              "    </tr>\n",
              "    <tr>\n",
              "      <th>1356</th>\n",
              "      <td>0.0</td>\n",
              "      <td>0.0</td>\n",
              "      <td>0.0</td>\n",
              "      <td>0.0</td>\n",
              "      <td>0.0</td>\n",
              "    </tr>\n",
              "    <tr>\n",
              "      <th>1357</th>\n",
              "      <td>0.0</td>\n",
              "      <td>0.0</td>\n",
              "      <td>0.0</td>\n",
              "      <td>0.0</td>\n",
              "      <td>0.0</td>\n",
              "    </tr>\n",
              "  </tbody>\n",
              "</table>\n",
              "<p>1358 rows × 5 columns</p>\n",
              "</div>\n",
              "      <button class=\"colab-df-convert\" onclick=\"convertToInteractive('df-e9f9790a-b2bc-40cd-a3ff-b22bd779c047')\"\n",
              "              title=\"Convert this dataframe to an interactive table.\"\n",
              "              style=\"display:none;\">\n",
              "        \n",
              "  <svg xmlns=\"http://www.w3.org/2000/svg\" height=\"24px\"viewBox=\"0 0 24 24\"\n",
              "       width=\"24px\">\n",
              "    <path d=\"M0 0h24v24H0V0z\" fill=\"none\"/>\n",
              "    <path d=\"M18.56 5.44l.94 2.06.94-2.06 2.06-.94-2.06-.94-.94-2.06-.94 2.06-2.06.94zm-11 1L8.5 8.5l.94-2.06 2.06-.94-2.06-.94L8.5 2.5l-.94 2.06-2.06.94zm10 10l.94 2.06.94-2.06 2.06-.94-2.06-.94-.94-2.06-.94 2.06-2.06.94z\"/><path d=\"M17.41 7.96l-1.37-1.37c-.4-.4-.92-.59-1.43-.59-.52 0-1.04.2-1.43.59L10.3 9.45l-7.72 7.72c-.78.78-.78 2.05 0 2.83L4 21.41c.39.39.9.59 1.41.59.51 0 1.02-.2 1.41-.59l7.78-7.78 2.81-2.81c.8-.78.8-2.07 0-2.86zM5.41 20L4 18.59l7.72-7.72 1.47 1.35L5.41 20z\"/>\n",
              "  </svg>\n",
              "      </button>\n",
              "      \n",
              "  <style>\n",
              "    .colab-df-container {\n",
              "      display:flex;\n",
              "      flex-wrap:wrap;\n",
              "      gap: 12px;\n",
              "    }\n",
              "\n",
              "    .colab-df-convert {\n",
              "      background-color: #E8F0FE;\n",
              "      border: none;\n",
              "      border-radius: 50%;\n",
              "      cursor: pointer;\n",
              "      display: none;\n",
              "      fill: #1967D2;\n",
              "      height: 32px;\n",
              "      padding: 0 0 0 0;\n",
              "      width: 32px;\n",
              "    }\n",
              "\n",
              "    .colab-df-convert:hover {\n",
              "      background-color: #E2EBFA;\n",
              "      box-shadow: 0px 1px 2px rgba(60, 64, 67, 0.3), 0px 1px 3px 1px rgba(60, 64, 67, 0.15);\n",
              "      fill: #174EA6;\n",
              "    }\n",
              "\n",
              "    [theme=dark] .colab-df-convert {\n",
              "      background-color: #3B4455;\n",
              "      fill: #D2E3FC;\n",
              "    }\n",
              "\n",
              "    [theme=dark] .colab-df-convert:hover {\n",
              "      background-color: #434B5C;\n",
              "      box-shadow: 0px 1px 3px 1px rgba(0, 0, 0, 0.15);\n",
              "      filter: drop-shadow(0px 1px 2px rgba(0, 0, 0, 0.3));\n",
              "      fill: #FFFFFF;\n",
              "    }\n",
              "  </style>\n",
              "\n",
              "      <script>\n",
              "        const buttonEl =\n",
              "          document.querySelector('#df-e9f9790a-b2bc-40cd-a3ff-b22bd779c047 button.colab-df-convert');\n",
              "        buttonEl.style.display =\n",
              "          google.colab.kernel.accessAllowed ? 'block' : 'none';\n",
              "\n",
              "        async function convertToInteractive(key) {\n",
              "          const element = document.querySelector('#df-e9f9790a-b2bc-40cd-a3ff-b22bd779c047');\n",
              "          const dataTable =\n",
              "            await google.colab.kernel.invokeFunction('convertToInteractive',\n",
              "                                                     [key], {});\n",
              "          if (!dataTable) return;\n",
              "\n",
              "          const docLinkHtml = 'Like what you see? Visit the ' +\n",
              "            '<a target=\"_blank\" href=https://colab.research.google.com/notebooks/data_table.ipynb>data table notebook</a>'\n",
              "            + ' to learn more about interactive tables.';\n",
              "          element.innerHTML = '';\n",
              "          dataTable['output_type'] = 'display_data';\n",
              "          await google.colab.output.renderOutput(dataTable, element);\n",
              "          const docLink = document.createElement('div');\n",
              "          docLink.innerHTML = docLinkHtml;\n",
              "          element.appendChild(docLink);\n",
              "        }\n",
              "      </script>\n",
              "    </div>\n",
              "  </div>\n",
              "  "
            ]
          },
          "metadata": {},
          "execution_count": 50
        }
      ],
      "source": [
        "drp = fc.loc[:, (fc == 0).all()]\n",
        "drp"
      ]
    },
    {
      "cell_type": "code",
      "execution_count": 51,
      "metadata": {
        "id": "XlOS595szBMf"
      },
      "outputs": [],
      "source": [
        "fc = fc.drop(drp,axis=1)"
      ]
    },
    {
      "cell_type": "code",
      "execution_count": 52,
      "metadata": {
        "colab": {
          "base_uri": "https://localhost:8080/",
          "height": 268
        },
        "id": "VkbZbd3vlgl9",
        "outputId": "7828ff23-9462-4309-e108-e607c52e2c43"
      },
      "outputs": [
        {
          "output_type": "execute_result",
          "data": {
            "text/plain": [
              "   feature_0  feature_2  feature_4  feature_5  feature_6  feature_7  \\\n",
              "0   3.499987   1.430596   2.327132   3.703217   7.041568   2.231556   \n",
              "1   2.638483   1.154880   3.025325   3.875205   5.998892   3.339603   \n",
              "2   3.558935   3.108443   1.982684   2.036680   7.319803   1.976276   \n",
              "3   1.893776   0.000000   2.158586   3.933886   5.273973   2.024125   \n",
              "4   1.796596   2.324148   2.314283   2.245979   5.050401   2.847356   \n",
              "\n",
              "   feature_8  feature_9  feature_10  feature_11  feature_14  feature_16  \\\n",
              "0   2.119040   0.000000         0.0    5.870665    2.801627    2.844902   \n",
              "1   1.681250   0.000000         0.0    6.057288    3.265323    1.298575   \n",
              "2   0.900910   0.000000         0.0    4.831932    2.421010    3.226627   \n",
              "3   2.850667   0.900904         0.0    5.071400    2.494540    1.583770   \n",
              "4   1.566374   0.000000         0.0    5.479713    4.540010    1.487529   \n",
              "\n",
              "   feature_17  feature_18  feature_19  target  \n",
              "0    0.608808    6.178155    4.243690       2  \n",
              "1    1.209401    5.311978    3.592036       2  \n",
              "2    1.337167    6.174706    3.085067       2  \n",
              "3    0.000000    4.038201    3.368767       2  \n",
              "4    1.502575    5.003338    3.459401       2  "
            ],
            "text/html": [
              "\n",
              "  <div id=\"df-a209fc5e-2d79-48d8-897c-5c5c710b759d\">\n",
              "    <div class=\"colab-df-container\">\n",
              "      <div>\n",
              "<style scoped>\n",
              "    .dataframe tbody tr th:only-of-type {\n",
              "        vertical-align: middle;\n",
              "    }\n",
              "\n",
              "    .dataframe tbody tr th {\n",
              "        vertical-align: top;\n",
              "    }\n",
              "\n",
              "    .dataframe thead th {\n",
              "        text-align: right;\n",
              "    }\n",
              "</style>\n",
              "<table border=\"1\" class=\"dataframe\">\n",
              "  <thead>\n",
              "    <tr style=\"text-align: right;\">\n",
              "      <th></th>\n",
              "      <th>feature_0</th>\n",
              "      <th>feature_2</th>\n",
              "      <th>feature_4</th>\n",
              "      <th>feature_5</th>\n",
              "      <th>feature_6</th>\n",
              "      <th>feature_7</th>\n",
              "      <th>feature_8</th>\n",
              "      <th>feature_9</th>\n",
              "      <th>feature_10</th>\n",
              "      <th>feature_11</th>\n",
              "      <th>feature_14</th>\n",
              "      <th>feature_16</th>\n",
              "      <th>feature_17</th>\n",
              "      <th>feature_18</th>\n",
              "      <th>feature_19</th>\n",
              "      <th>target</th>\n",
              "    </tr>\n",
              "  </thead>\n",
              "  <tbody>\n",
              "    <tr>\n",
              "      <th>0</th>\n",
              "      <td>3.499987</td>\n",
              "      <td>1.430596</td>\n",
              "      <td>2.327132</td>\n",
              "      <td>3.703217</td>\n",
              "      <td>7.041568</td>\n",
              "      <td>2.231556</td>\n",
              "      <td>2.119040</td>\n",
              "      <td>0.000000</td>\n",
              "      <td>0.0</td>\n",
              "      <td>5.870665</td>\n",
              "      <td>2.801627</td>\n",
              "      <td>2.844902</td>\n",
              "      <td>0.608808</td>\n",
              "      <td>6.178155</td>\n",
              "      <td>4.243690</td>\n",
              "      <td>2</td>\n",
              "    </tr>\n",
              "    <tr>\n",
              "      <th>1</th>\n",
              "      <td>2.638483</td>\n",
              "      <td>1.154880</td>\n",
              "      <td>3.025325</td>\n",
              "      <td>3.875205</td>\n",
              "      <td>5.998892</td>\n",
              "      <td>3.339603</td>\n",
              "      <td>1.681250</td>\n",
              "      <td>0.000000</td>\n",
              "      <td>0.0</td>\n",
              "      <td>6.057288</td>\n",
              "      <td>3.265323</td>\n",
              "      <td>1.298575</td>\n",
              "      <td>1.209401</td>\n",
              "      <td>5.311978</td>\n",
              "      <td>3.592036</td>\n",
              "      <td>2</td>\n",
              "    </tr>\n",
              "    <tr>\n",
              "      <th>2</th>\n",
              "      <td>3.558935</td>\n",
              "      <td>3.108443</td>\n",
              "      <td>1.982684</td>\n",
              "      <td>2.036680</td>\n",
              "      <td>7.319803</td>\n",
              "      <td>1.976276</td>\n",
              "      <td>0.900910</td>\n",
              "      <td>0.000000</td>\n",
              "      <td>0.0</td>\n",
              "      <td>4.831932</td>\n",
              "      <td>2.421010</td>\n",
              "      <td>3.226627</td>\n",
              "      <td>1.337167</td>\n",
              "      <td>6.174706</td>\n",
              "      <td>3.085067</td>\n",
              "      <td>2</td>\n",
              "    </tr>\n",
              "    <tr>\n",
              "      <th>3</th>\n",
              "      <td>1.893776</td>\n",
              "      <td>0.000000</td>\n",
              "      <td>2.158586</td>\n",
              "      <td>3.933886</td>\n",
              "      <td>5.273973</td>\n",
              "      <td>2.024125</td>\n",
              "      <td>2.850667</td>\n",
              "      <td>0.900904</td>\n",
              "      <td>0.0</td>\n",
              "      <td>5.071400</td>\n",
              "      <td>2.494540</td>\n",
              "      <td>1.583770</td>\n",
              "      <td>0.000000</td>\n",
              "      <td>4.038201</td>\n",
              "      <td>3.368767</td>\n",
              "      <td>2</td>\n",
              "    </tr>\n",
              "    <tr>\n",
              "      <th>4</th>\n",
              "      <td>1.796596</td>\n",
              "      <td>2.324148</td>\n",
              "      <td>2.314283</td>\n",
              "      <td>2.245979</td>\n",
              "      <td>5.050401</td>\n",
              "      <td>2.847356</td>\n",
              "      <td>1.566374</td>\n",
              "      <td>0.000000</td>\n",
              "      <td>0.0</td>\n",
              "      <td>5.479713</td>\n",
              "      <td>4.540010</td>\n",
              "      <td>1.487529</td>\n",
              "      <td>1.502575</td>\n",
              "      <td>5.003338</td>\n",
              "      <td>3.459401</td>\n",
              "      <td>2</td>\n",
              "    </tr>\n",
              "  </tbody>\n",
              "</table>\n",
              "</div>\n",
              "      <button class=\"colab-df-convert\" onclick=\"convertToInteractive('df-a209fc5e-2d79-48d8-897c-5c5c710b759d')\"\n",
              "              title=\"Convert this dataframe to an interactive table.\"\n",
              "              style=\"display:none;\">\n",
              "        \n",
              "  <svg xmlns=\"http://www.w3.org/2000/svg\" height=\"24px\"viewBox=\"0 0 24 24\"\n",
              "       width=\"24px\">\n",
              "    <path d=\"M0 0h24v24H0V0z\" fill=\"none\"/>\n",
              "    <path d=\"M18.56 5.44l.94 2.06.94-2.06 2.06-.94-2.06-.94-.94-2.06-.94 2.06-2.06.94zm-11 1L8.5 8.5l.94-2.06 2.06-.94-2.06-.94L8.5 2.5l-.94 2.06-2.06.94zm10 10l.94 2.06.94-2.06 2.06-.94-2.06-.94-.94-2.06-.94 2.06-2.06.94z\"/><path d=\"M17.41 7.96l-1.37-1.37c-.4-.4-.92-.59-1.43-.59-.52 0-1.04.2-1.43.59L10.3 9.45l-7.72 7.72c-.78.78-.78 2.05 0 2.83L4 21.41c.39.39.9.59 1.41.59.51 0 1.02-.2 1.41-.59l7.78-7.78 2.81-2.81c.8-.78.8-2.07 0-2.86zM5.41 20L4 18.59l7.72-7.72 1.47 1.35L5.41 20z\"/>\n",
              "  </svg>\n",
              "      </button>\n",
              "      \n",
              "  <style>\n",
              "    .colab-df-container {\n",
              "      display:flex;\n",
              "      flex-wrap:wrap;\n",
              "      gap: 12px;\n",
              "    }\n",
              "\n",
              "    .colab-df-convert {\n",
              "      background-color: #E8F0FE;\n",
              "      border: none;\n",
              "      border-radius: 50%;\n",
              "      cursor: pointer;\n",
              "      display: none;\n",
              "      fill: #1967D2;\n",
              "      height: 32px;\n",
              "      padding: 0 0 0 0;\n",
              "      width: 32px;\n",
              "    }\n",
              "\n",
              "    .colab-df-convert:hover {\n",
              "      background-color: #E2EBFA;\n",
              "      box-shadow: 0px 1px 2px rgba(60, 64, 67, 0.3), 0px 1px 3px 1px rgba(60, 64, 67, 0.15);\n",
              "      fill: #174EA6;\n",
              "    }\n",
              "\n",
              "    [theme=dark] .colab-df-convert {\n",
              "      background-color: #3B4455;\n",
              "      fill: #D2E3FC;\n",
              "    }\n",
              "\n",
              "    [theme=dark] .colab-df-convert:hover {\n",
              "      background-color: #434B5C;\n",
              "      box-shadow: 0px 1px 3px 1px rgba(0, 0, 0, 0.15);\n",
              "      filter: drop-shadow(0px 1px 2px rgba(0, 0, 0, 0.3));\n",
              "      fill: #FFFFFF;\n",
              "    }\n",
              "  </style>\n",
              "\n",
              "      <script>\n",
              "        const buttonEl =\n",
              "          document.querySelector('#df-a209fc5e-2d79-48d8-897c-5c5c710b759d button.colab-df-convert');\n",
              "        buttonEl.style.display =\n",
              "          google.colab.kernel.accessAllowed ? 'block' : 'none';\n",
              "\n",
              "        async function convertToInteractive(key) {\n",
              "          const element = document.querySelector('#df-a209fc5e-2d79-48d8-897c-5c5c710b759d');\n",
              "          const dataTable =\n",
              "            await google.colab.kernel.invokeFunction('convertToInteractive',\n",
              "                                                     [key], {});\n",
              "          if (!dataTable) return;\n",
              "\n",
              "          const docLinkHtml = 'Like what you see? Visit the ' +\n",
              "            '<a target=\"_blank\" href=https://colab.research.google.com/notebooks/data_table.ipynb>data table notebook</a>'\n",
              "            + ' to learn more about interactive tables.';\n",
              "          element.innerHTML = '';\n",
              "          dataTable['output_type'] = 'display_data';\n",
              "          await google.colab.output.renderOutput(dataTable, element);\n",
              "          const docLink = document.createElement('div');\n",
              "          docLink.innerHTML = docLinkHtml;\n",
              "          element.appendChild(docLink);\n",
              "        }\n",
              "      </script>\n",
              "    </div>\n",
              "  </div>\n",
              "  "
            ]
          },
          "metadata": {},
          "execution_count": 52
        }
      ],
      "source": [
        "fc.head()"
      ]
    },
    {
      "cell_type": "code",
      "execution_count": 53,
      "metadata": {
        "id": "39_9et90-WcW"
      },
      "outputs": [],
      "source": [
        "for i in fc:\n",
        "  count = (fc[i] == 0).sum()\n",
        "  if (count>700) and (i!='target'):\n",
        "    fc = fc.drop(i,axis=1)\n",
        "\n"
      ]
    },
    {
      "cell_type": "markdown",
      "source": [
        "### FINAL DATA"
      ],
      "metadata": {
        "id": "ZMV5ORRe1NXB"
      }
    },
    {
      "cell_type": "code",
      "execution_count": 54,
      "metadata": {
        "colab": {
          "base_uri": "https://localhost:8080/",
          "height": 268
        },
        "id": "_R8WsKhL_sSm",
        "outputId": "138c4bdc-0577-4c85-9af0-a3845ae6d119"
      },
      "outputs": [
        {
          "output_type": "execute_result",
          "data": {
            "text/plain": [
              "   feature_0  feature_2  feature_4  feature_5  feature_6  feature_7  \\\n",
              "0   3.499987   1.430596   2.327132   3.703217   7.041568   2.231556   \n",
              "1   2.638483   1.154880   3.025325   3.875205   5.998892   3.339603   \n",
              "2   3.558935   3.108443   1.982684   2.036680   7.319803   1.976276   \n",
              "3   1.893776   0.000000   2.158586   3.933886   5.273973   2.024125   \n",
              "4   1.796596   2.324148   2.314283   2.245979   5.050401   2.847356   \n",
              "\n",
              "   feature_8  feature_11  feature_14  feature_16  feature_17  feature_18  \\\n",
              "0   2.119040    5.870665    2.801627    2.844902    0.608808    6.178155   \n",
              "1   1.681250    6.057288    3.265323    1.298575    1.209401    5.311978   \n",
              "2   0.900910    4.831932    2.421010    3.226627    1.337167    6.174706   \n",
              "3   2.850667    5.071400    2.494540    1.583770    0.000000    4.038201   \n",
              "4   1.566374    5.479713    4.540010    1.487529    1.502575    5.003338   \n",
              "\n",
              "   feature_19  target  \n",
              "0    4.243690       2  \n",
              "1    3.592036       2  \n",
              "2    3.085067       2  \n",
              "3    3.368767       2  \n",
              "4    3.459401       2  "
            ],
            "text/html": [
              "\n",
              "  <div id=\"df-922e9063-9e99-4e02-b6cf-13910b597272\">\n",
              "    <div class=\"colab-df-container\">\n",
              "      <div>\n",
              "<style scoped>\n",
              "    .dataframe tbody tr th:only-of-type {\n",
              "        vertical-align: middle;\n",
              "    }\n",
              "\n",
              "    .dataframe tbody tr th {\n",
              "        vertical-align: top;\n",
              "    }\n",
              "\n",
              "    .dataframe thead th {\n",
              "        text-align: right;\n",
              "    }\n",
              "</style>\n",
              "<table border=\"1\" class=\"dataframe\">\n",
              "  <thead>\n",
              "    <tr style=\"text-align: right;\">\n",
              "      <th></th>\n",
              "      <th>feature_0</th>\n",
              "      <th>feature_2</th>\n",
              "      <th>feature_4</th>\n",
              "      <th>feature_5</th>\n",
              "      <th>feature_6</th>\n",
              "      <th>feature_7</th>\n",
              "      <th>feature_8</th>\n",
              "      <th>feature_11</th>\n",
              "      <th>feature_14</th>\n",
              "      <th>feature_16</th>\n",
              "      <th>feature_17</th>\n",
              "      <th>feature_18</th>\n",
              "      <th>feature_19</th>\n",
              "      <th>target</th>\n",
              "    </tr>\n",
              "  </thead>\n",
              "  <tbody>\n",
              "    <tr>\n",
              "      <th>0</th>\n",
              "      <td>3.499987</td>\n",
              "      <td>1.430596</td>\n",
              "      <td>2.327132</td>\n",
              "      <td>3.703217</td>\n",
              "      <td>7.041568</td>\n",
              "      <td>2.231556</td>\n",
              "      <td>2.119040</td>\n",
              "      <td>5.870665</td>\n",
              "      <td>2.801627</td>\n",
              "      <td>2.844902</td>\n",
              "      <td>0.608808</td>\n",
              "      <td>6.178155</td>\n",
              "      <td>4.243690</td>\n",
              "      <td>2</td>\n",
              "    </tr>\n",
              "    <tr>\n",
              "      <th>1</th>\n",
              "      <td>2.638483</td>\n",
              "      <td>1.154880</td>\n",
              "      <td>3.025325</td>\n",
              "      <td>3.875205</td>\n",
              "      <td>5.998892</td>\n",
              "      <td>3.339603</td>\n",
              "      <td>1.681250</td>\n",
              "      <td>6.057288</td>\n",
              "      <td>3.265323</td>\n",
              "      <td>1.298575</td>\n",
              "      <td>1.209401</td>\n",
              "      <td>5.311978</td>\n",
              "      <td>3.592036</td>\n",
              "      <td>2</td>\n",
              "    </tr>\n",
              "    <tr>\n",
              "      <th>2</th>\n",
              "      <td>3.558935</td>\n",
              "      <td>3.108443</td>\n",
              "      <td>1.982684</td>\n",
              "      <td>2.036680</td>\n",
              "      <td>7.319803</td>\n",
              "      <td>1.976276</td>\n",
              "      <td>0.900910</td>\n",
              "      <td>4.831932</td>\n",
              "      <td>2.421010</td>\n",
              "      <td>3.226627</td>\n",
              "      <td>1.337167</td>\n",
              "      <td>6.174706</td>\n",
              "      <td>3.085067</td>\n",
              "      <td>2</td>\n",
              "    </tr>\n",
              "    <tr>\n",
              "      <th>3</th>\n",
              "      <td>1.893776</td>\n",
              "      <td>0.000000</td>\n",
              "      <td>2.158586</td>\n",
              "      <td>3.933886</td>\n",
              "      <td>5.273973</td>\n",
              "      <td>2.024125</td>\n",
              "      <td>2.850667</td>\n",
              "      <td>5.071400</td>\n",
              "      <td>2.494540</td>\n",
              "      <td>1.583770</td>\n",
              "      <td>0.000000</td>\n",
              "      <td>4.038201</td>\n",
              "      <td>3.368767</td>\n",
              "      <td>2</td>\n",
              "    </tr>\n",
              "    <tr>\n",
              "      <th>4</th>\n",
              "      <td>1.796596</td>\n",
              "      <td>2.324148</td>\n",
              "      <td>2.314283</td>\n",
              "      <td>2.245979</td>\n",
              "      <td>5.050401</td>\n",
              "      <td>2.847356</td>\n",
              "      <td>1.566374</td>\n",
              "      <td>5.479713</td>\n",
              "      <td>4.540010</td>\n",
              "      <td>1.487529</td>\n",
              "      <td>1.502575</td>\n",
              "      <td>5.003338</td>\n",
              "      <td>3.459401</td>\n",
              "      <td>2</td>\n",
              "    </tr>\n",
              "  </tbody>\n",
              "</table>\n",
              "</div>\n",
              "      <button class=\"colab-df-convert\" onclick=\"convertToInteractive('df-922e9063-9e99-4e02-b6cf-13910b597272')\"\n",
              "              title=\"Convert this dataframe to an interactive table.\"\n",
              "              style=\"display:none;\">\n",
              "        \n",
              "  <svg xmlns=\"http://www.w3.org/2000/svg\" height=\"24px\"viewBox=\"0 0 24 24\"\n",
              "       width=\"24px\">\n",
              "    <path d=\"M0 0h24v24H0V0z\" fill=\"none\"/>\n",
              "    <path d=\"M18.56 5.44l.94 2.06.94-2.06 2.06-.94-2.06-.94-.94-2.06-.94 2.06-2.06.94zm-11 1L8.5 8.5l.94-2.06 2.06-.94-2.06-.94L8.5 2.5l-.94 2.06-2.06.94zm10 10l.94 2.06.94-2.06 2.06-.94-2.06-.94-.94-2.06-.94 2.06-2.06.94z\"/><path d=\"M17.41 7.96l-1.37-1.37c-.4-.4-.92-.59-1.43-.59-.52 0-1.04.2-1.43.59L10.3 9.45l-7.72 7.72c-.78.78-.78 2.05 0 2.83L4 21.41c.39.39.9.59 1.41.59.51 0 1.02-.2 1.41-.59l7.78-7.78 2.81-2.81c.8-.78.8-2.07 0-2.86zM5.41 20L4 18.59l7.72-7.72 1.47 1.35L5.41 20z\"/>\n",
              "  </svg>\n",
              "      </button>\n",
              "      \n",
              "  <style>\n",
              "    .colab-df-container {\n",
              "      display:flex;\n",
              "      flex-wrap:wrap;\n",
              "      gap: 12px;\n",
              "    }\n",
              "\n",
              "    .colab-df-convert {\n",
              "      background-color: #E8F0FE;\n",
              "      border: none;\n",
              "      border-radius: 50%;\n",
              "      cursor: pointer;\n",
              "      display: none;\n",
              "      fill: #1967D2;\n",
              "      height: 32px;\n",
              "      padding: 0 0 0 0;\n",
              "      width: 32px;\n",
              "    }\n",
              "\n",
              "    .colab-df-convert:hover {\n",
              "      background-color: #E2EBFA;\n",
              "      box-shadow: 0px 1px 2px rgba(60, 64, 67, 0.3), 0px 1px 3px 1px rgba(60, 64, 67, 0.15);\n",
              "      fill: #174EA6;\n",
              "    }\n",
              "\n",
              "    [theme=dark] .colab-df-convert {\n",
              "      background-color: #3B4455;\n",
              "      fill: #D2E3FC;\n",
              "    }\n",
              "\n",
              "    [theme=dark] .colab-df-convert:hover {\n",
              "      background-color: #434B5C;\n",
              "      box-shadow: 0px 1px 3px 1px rgba(0, 0, 0, 0.15);\n",
              "      filter: drop-shadow(0px 1px 2px rgba(0, 0, 0, 0.3));\n",
              "      fill: #FFFFFF;\n",
              "    }\n",
              "  </style>\n",
              "\n",
              "      <script>\n",
              "        const buttonEl =\n",
              "          document.querySelector('#df-922e9063-9e99-4e02-b6cf-13910b597272 button.colab-df-convert');\n",
              "        buttonEl.style.display =\n",
              "          google.colab.kernel.accessAllowed ? 'block' : 'none';\n",
              "\n",
              "        async function convertToInteractive(key) {\n",
              "          const element = document.querySelector('#df-922e9063-9e99-4e02-b6cf-13910b597272');\n",
              "          const dataTable =\n",
              "            await google.colab.kernel.invokeFunction('convertToInteractive',\n",
              "                                                     [key], {});\n",
              "          if (!dataTable) return;\n",
              "\n",
              "          const docLinkHtml = 'Like what you see? Visit the ' +\n",
              "            '<a target=\"_blank\" href=https://colab.research.google.com/notebooks/data_table.ipynb>data table notebook</a>'\n",
              "            + ' to learn more about interactive tables.';\n",
              "          element.innerHTML = '';\n",
              "          dataTable['output_type'] = 'display_data';\n",
              "          await google.colab.output.renderOutput(dataTable, element);\n",
              "          const docLink = document.createElement('div');\n",
              "          docLink.innerHTML = docLinkHtml;\n",
              "          element.appendChild(docLink);\n",
              "        }\n",
              "      </script>\n",
              "    </div>\n",
              "  </div>\n",
              "  "
            ]
          },
          "metadata": {},
          "execution_count": 54
        }
      ],
      "source": [
        "fc.head()"
      ]
    },
    {
      "cell_type": "markdown",
      "source": [
        "###EDA"
      ],
      "metadata": {
        "id": "g9Mtk-q101C0"
      }
    },
    {
      "cell_type": "code",
      "execution_count": 55,
      "metadata": {
        "colab": {
          "base_uri": "https://localhost:8080/",
          "height": 501
        },
        "id": "FeEFJpDszblM",
        "outputId": "15214b79-8b45-478e-e2cd-123c60d67f99"
      },
      "outputs": [
        {
          "output_type": "execute_result",
          "data": {
            "text/plain": [
              "<matplotlib.axes._subplots.AxesSubplot at 0x7f3e5fcb5a10>"
            ]
          },
          "metadata": {},
          "execution_count": 55
        },
        {
          "output_type": "display_data",
          "data": {
            "text/plain": [
              "<Figure size 1080x576 with 1 Axes>"
            ],
            "image/png": "[encoded data removed]"
          },
          "metadata": {
            "needs_background": "light"
          }
        }
      ],
      "source": [
        "plt.figure(figsize=(15,8))\n",
        "fc.boxplot(showfliers=False)"
      ]
    },
    {
      "cell_type": "code",
      "execution_count": 56,
      "metadata": {
        "colab": {
          "base_uri": "https://localhost:8080/",
          "height": 326
        },
        "id": "ZALcpWYEDbon",
        "outputId": "ac98c883-c97f-4aa0-b899-76fe44d22fb7"
      },
      "outputs": [
        {
          "output_type": "execute_result",
          "data": {
            "text/plain": [
              "<matplotlib.axes._subplots.AxesSubplot at 0x7f3e5f6b12d0>"
            ]
          },
          "metadata": {},
          "execution_count": 56
        },
        {
          "output_type": "display_data",
          "data": {
            "text/plain": [
              "<Figure size 432x288 with 1 Axes>"
            ],
            "image/png": "[encoded data removed]"
          },
          "metadata": {
            "needs_background": "light"
          }
        }
      ],
      "source": [
        "fc.corr()['target'][:-1].sort_values(ascending=False).plot(kind='bar')"
      ]
    },
    {
      "cell_type": "code",
      "source": [
        "sns.countplot(x='target',data=fc)"
      ],
      "metadata": {
        "colab": {
          "base_uri": "https://localhost:8080/",
          "height": 296
        },
        "id": "Q79ApJg6z2uI",
        "outputId": "aca44ba9-c181-4b5e-b8cd-b54b5b72c6f9"
      },
      "execution_count": 57,
      "outputs": [
        {
          "output_type": "execute_result",
          "data": {
            "text/plain": [
              "<matplotlib.axes._subplots.AxesSubplot at 0x7f3e5f62b110>"
            ]
          },
          "metadata": {},
          "execution_count": 57
        },
        {
          "output_type": "display_data",
          "data": {
            "text/plain": [
              "<Figure size 432x288 with 1 Axes>"
            ],
            "image/png": "[encoded data removed]"
          },
          "metadata": {
            "needs_background": "light"
          }
        }
      ]
    },
    {
      "cell_type": "code",
      "source": [
        "sns.distplot(fc)"
      ],
      "metadata": {
        "colab": {
          "base_uri": "https://localhost:8080/",
          "height": 336
        },
        "id": "vyicYfXk0k4y",
        "outputId": "37c8b755-77d0-4905-bfa0-0588e814785f"
      },
      "execution_count": 58,
      "outputs": [
        {
          "output_type": "stream",
          "name": "stderr",
          "text": [
            "/usr/local/lib/python3.7/dist-packages/seaborn/distributions.py:2619: FutureWarning: `distplot` is a deprecated function and will be removed in a future version. Please adapt your code to use either `displot` (a figure-level function with similar flexibility) or `histplot` (an axes-level function for histograms).\n",
            "  warnings.warn(msg, FutureWarning)\n"
          ]
        },
        {
          "output_type": "execute_result",
          "data": {
            "text/plain": [
              "<matplotlib.axes._subplots.AxesSubplot at 0x7f3e5f5c0510>"
            ]
          },
          "metadata": {},
          "execution_count": 58
        },
        {
          "output_type": "display_data",
          "data": {
            "text/plain": [
              "<Figure size 432x288 with 1 Axes>"
            ],
            "image/png": "[encoded data removed]"
          },
          "metadata": {
            "needs_background": "light"
          }
        }
      ]
    },
    {
      "cell_type": "markdown",
      "source": [
        "#### RANDOM SAMPLING AND TRAIN TEST SPLITTING"
      ],
      "metadata": {
        "id": "znkKR7EO1Szo"
      }
    },
    {
      "cell_type": "code",
      "source": [
        "A1 = fc.drop('target',axis=1)\n",
        "b1 = fc['target']"
      ],
      "metadata": {
        "id": "VeDiUUqZoGq3"
      },
      "execution_count": 59,
      "outputs": []
    },
    {
      "cell_type": "code",
      "source": [
        "import collections"
      ],
      "metadata": {
        "id": "wxiXsRqGoChp"
      },
      "execution_count": 60,
      "outputs": []
    },
    {
      "cell_type": "code",
      "source": [
        "print(collections.Counter(b1))"
      ],
      "metadata": {
        "colab": {
          "base_uri": "https://localhost:8080/"
        },
        "id": "JW4rW4WIoCZr",
        "outputId": "6fdb10d7-6cf0-457e-be9c-edbbc9e73256"
      },
      "execution_count": 61,
      "outputs": [
        {
          "output_type": "stream",
          "name": "stdout",
          "text": [
            "Counter({2: 1014, 0: 344})\n"
          ]
        }
      ]
    },
    {
      "cell_type": "code",
      "source": [
        "from imblearn.over_sampling import RandomOverSampler\n",
        "from imblearn.under_sampling import RandomUnderSampler"
      ],
      "metadata": {
        "id": "cORsnGjfoCSK"
      },
      "execution_count": 62,
      "outputs": []
    },
    {
      "cell_type": "code",
      "source": [
        "# instantiating over and under sampler\n",
        "over = RandomOverSampler(sampling_strategy=0.5)\n",
        "under = RandomUnderSampler(sampling_strategy=0.8)\n",
        "# first performing oversampling to minority class\n",
        "X_over, y_over = over.fit_resample(A1, b1)\n",
        "print(f\"Oversampled:k{collections.Counter(y_over)}\")\n"
      ],
      "metadata": {
        "colab": {
          "base_uri": "https://localhost:8080/"
        },
        "id": "qAQIgaGDocbN",
        "outputId": "e443c317-f1f6-4d47-bc36-e2b38510a98d"
      },
      "execution_count": 63,
      "outputs": [
        {
          "output_type": "stream",
          "name": "stdout",
          "text": [
            "Oversampled:kCounter({2: 1014, 0: 507})\n"
          ]
        }
      ]
    },
    {
      "cell_type": "code",
      "source": [
        "\n",
        "# now to comine under sampling \n",
        "X_combined_sampling, y_combined_sampling = under.fit_resample(X_over, y_over)\n",
        "print(f\"Combined Random Sampling:{collections.Counter(y_combined_sampling)}\")\n"
      ],
      "metadata": {
        "colab": {
          "base_uri": "https://localhost:8080/"
        },
        "id": "_yW6_jD_oCK_",
        "outputId": "7bec133b-58ac-42c8-815e-a9c61c9497dc"
      },
      "execution_count": 64,
      "outputs": [
        {
          "output_type": "stream",
          "name": "stdout",
          "text": [
            "Combined Random Sampling:Counter({2: 633, 0: 507})\n"
          ]
        }
      ]
    },
    {
      "cell_type": "code",
      "source": [
        "A = X_combined_sampling\n",
        "b = y_combined_sampling"
      ],
      "metadata": {
        "id": "nBFpF7w5z1W-"
      },
      "execution_count": 65,
      "outputs": []
    },
    {
      "cell_type": "code",
      "execution_count": 66,
      "metadata": {
        "id": "IJXhjoL-HqfP"
      },
      "outputs": [],
      "source": [
        "A_train, A_test, b_train, b_test = train_test_split(A, b, test_size=0.30, random_state=101)"
      ]
    },
    {
      "cell_type": "code",
      "source": [
        "from sklearn.metrics import classification_report"
      ],
      "metadata": {
        "id": "d7KmrRptY5xy"
      },
      "execution_count": 67,
      "outputs": []
    },
    {
      "cell_type": "code",
      "source": [
        "from sklearn.model_selection import GridSearchCV,RandomizedSearchCV"
      ],
      "metadata": {
        "id": "kbm5WA-R0mwz"
      },
      "execution_count": 68,
      "outputs": []
    },
    {
      "cell_type": "markdown",
      "source": [
        "### RANDOM FOREST"
      ],
      "metadata": {
        "id": "ObCjPmff1XPc"
      }
    },
    {
      "cell_type": "code",
      "execution_count": 69,
      "metadata": {
        "id": "ySCuHnGuJKPz"
      },
      "outputs": [],
      "source": [
        "from sklearn.ensemble import RandomForestClassifier"
      ]
    },
    {
      "cell_type": "code",
      "execution_count": 70,
      "metadata": {
        "id": "rdoiXQwBUFBh"
      },
      "outputs": [],
      "source": [
        "rfc = RandomForestClassifier(n_estimators=1000)"
      ]
    },
    {
      "cell_type": "code",
      "execution_count": 71,
      "metadata": {
        "colab": {
          "base_uri": "https://localhost:8080/"
        },
        "id": "EanHgnoyPIhi",
        "outputId": "e54791c0-a3fa-4c82-b849-9063de45ccf2"
      },
      "outputs": [
        {
          "output_type": "execute_result",
          "data": {
            "text/plain": [
              "RandomForestClassifier(n_estimators=1000)"
            ]
          },
          "metadata": {},
          "execution_count": 71
        }
      ],
      "source": [
        "rfc.fit(A_train,b_train)"
      ]
    },
    {
      "cell_type": "code",
      "execution_count": 72,
      "metadata": {
        "id": "F6qj6wc6PWkS"
      },
      "outputs": [],
      "source": [
        "predictions = rfc.predict(A_test)"
      ]
    },
    {
      "cell_type": "code",
      "execution_count": 73,
      "metadata": {
        "colab": {
          "base_uri": "https://localhost:8080/"
        },
        "id": "9xva3JMaCvTm",
        "outputId": "70f6f851-c08a-4038-cb9e-a9686cb0438c"
      },
      "outputs": [
        {
          "output_type": "stream",
          "name": "stdout",
          "text": [
            "              precision    recall  f1-score   support\n",
            "\n",
            "           0       0.74      0.56      0.64       160\n",
            "           2       0.68      0.83      0.75       182\n",
            "\n",
            "    accuracy                           0.70       342\n",
            "   macro avg       0.71      0.69      0.69       342\n",
            "weighted avg       0.71      0.70      0.70       342\n",
            "\n"
          ]
        }
      ],
      "source": [
        "print(classification_report(b_test,predictions))"
      ]
    },
    {
      "cell_type": "markdown",
      "source": [
        "XGboost "
      ],
      "metadata": {
        "id": "80VMEDLOCpBI"
      }
    },
    {
      "cell_type": "code",
      "source": [
        "import xgboost as xgb"
      ],
      "metadata": {
        "id": "El8r9uMl5MvM"
      },
      "execution_count": 74,
      "outputs": []
    },
    {
      "cell_type": "code",
      "execution_count": 75,
      "metadata": {
        "id": "_1Oiwp_1L5Fr"
      },
      "outputs": [],
      "source": [
        "from xgboost import XGBClassifier"
      ]
    },
    {
      "cell_type": "code",
      "source": [
        "\n",
        "xg = XGBClassifier()\n",
        "xg.fit(A_train, b_train)"
      ],
      "metadata": {
        "colab": {
          "base_uri": "https://localhost:8080/"
        },
        "id": "6kxVfUzXCuiN",
        "outputId": "3d974604-bc95-48dd-ff73-77810baa0cda"
      },
      "execution_count": 76,
      "outputs": [
        {
          "output_type": "execute_result",
          "data": {
            "text/plain": [
              "XGBClassifier()"
            ]
          },
          "metadata": {},
          "execution_count": 76
        }
      ]
    },
    {
      "cell_type": "code",
      "source": [
        "\n",
        "y_pred = xg.predict(A_test)"
      ],
      "metadata": {
        "id": "ptqa32gZC2kT"
      },
      "execution_count": 77,
      "outputs": []
    },
    {
      "cell_type": "code",
      "source": [
        "print(classification_report(b_test,y_pred))"
      ],
      "metadata": {
        "colab": {
          "base_uri": "https://localhost:8080/"
        },
        "id": "IRukxclmC95b",
        "outputId": "731cce65-163c-4704-94c4-20df8052363b"
      },
      "execution_count": 78,
      "outputs": [
        {
          "output_type": "stream",
          "name": "stdout",
          "text": [
            "              precision    recall  f1-score   support\n",
            "\n",
            "           0       0.61      0.46      0.53       160\n",
            "           2       0.61      0.74      0.67       182\n",
            "\n",
            "    accuracy                           0.61       342\n",
            "   macro avg       0.61      0.60      0.60       342\n",
            "weighted avg       0.61      0.61      0.60       342\n",
            "\n"
          ]
        }
      ]
    },
    {
      "cell_type": "markdown",
      "source": [
        "### PARAMETER TUNED XGBoost"
      ],
      "metadata": {
        "id": "XzIrWvuZ5WVO"
      }
    },
    {
      "cell_type": "code",
      "source": [
        "from sklearn.model_selection import StratifiedKFold"
      ],
      "metadata": {
        "id": "bd5INCtFqLJO"
      },
      "execution_count": 79,
      "outputs": []
    },
    {
      "cell_type": "code",
      "source": [
        "params = {\n",
        "        'min_child_weight': [1, 5, 10],\n",
        "        'gamma': [0.5, 1, 1.5, 2, 5],\n",
        "        'subsample': [0.6, 0.8, 1.0],\n",
        "        'colsample_bytree': [0.6, 0.8, 1.0],\n",
        "        'max_depth': [3, 4, 5]\n",
        "        }"
      ],
      "metadata": {
        "id": "9DM8ER9WowhG"
      },
      "execution_count": 80,
      "outputs": []
    },
    {
      "cell_type": "code",
      "source": [
        "xgb = XGBClassifier(learning_rate=0.02, n_estimators=600, objective='binary:logistic',\n",
        "                    silent=True, nthread=1)"
      ],
      "metadata": {
        "id": "kKtoMj7Ip4Cg"
      },
      "execution_count": 81,
      "outputs": []
    },
    {
      "cell_type": "code",
      "source": [
        "folds = 3\n",
        "param_comb = 5\n",
        "\n",
        "skf = StratifiedKFold(n_splits=folds, shuffle = True, random_state = 1001)\n",
        "\n",
        "random_search = RandomizedSearchCV(xgb, param_distributions=params, n_iter=param_comb, scoring='roc_auc', n_jobs=4, cv=skf.split(A,b), verbose=3, random_state=1001 )\n"
      ],
      "metadata": {
        "id": "UTkE8Ywhp7mg"
      },
      "execution_count": 82,
      "outputs": []
    },
    {
      "cell_type": "code",
      "source": [
        "random_search.fit(A,b)\n"
      ],
      "metadata": {
        "colab": {
          "base_uri": "https://localhost:8080/"
        },
        "id": "FxaWokpbqF0X",
        "outputId": "37a266e4-fb09-43dd-d772-6d9efb9f8c7b"
      },
      "execution_count": 83,
      "outputs": [
        {
          "output_type": "stream",
          "name": "stdout",
          "text": [
            "Fitting 3 folds for each of 5 candidates, totalling 15 fits\n"
          ]
        },
        {
          "output_type": "execute_result",
          "data": {
            "text/plain": [
              "RandomizedSearchCV(cv=<generator object _BaseKFold.split at 0x7f3e581ab7d0>,\n",
              "                   estimator=XGBClassifier(learning_rate=0.02, n_estimators=600,\n",
              "                                           nthread=1, silent=True),\n",
              "                   n_iter=5, n_jobs=4,\n",
              "                   param_distributions={'colsample_bytree': [0.6, 0.8, 1.0],\n",
              "                                        'gamma': [0.5, 1, 1.5, 2, 5],\n",
              "                                        'max_depth': [3, 4, 5],\n",
              "                                        'min_child_weight': [1, 5, 10],\n",
              "                                        'subsample': [0.6, 0.8, 1.0]},\n",
              "                   random_state=1001, scoring='roc_auc', verbose=3)"
            ]
          },
          "metadata": {},
          "execution_count": 83
        }
      ]
    },
    {
      "cell_type": "code",
      "source": [
        "print(random_search.best_estimator_)"
      ],
      "metadata": {
        "colab": {
          "base_uri": "https://localhost:8080/"
        },
        "id": "CZmLLUZNq5Ur",
        "outputId": "7aadadde-83c6-4c06-c87d-e24bddb8ae90"
      },
      "execution_count": 84,
      "outputs": [
        {
          "output_type": "stream",
          "name": "stdout",
          "text": [
            "XGBClassifier(colsample_bytree=0.8, gamma=1.5, learning_rate=0.02, max_depth=5,\n",
            "              n_estimators=600, nthread=1, silent=True, subsample=0.6)\n"
          ]
        }
      ]
    },
    {
      "cell_type": "code",
      "source": [
        "print(random_search.best_params_)\n"
      ],
      "metadata": {
        "colab": {
          "base_uri": "https://localhost:8080/"
        },
        "id": "STdcC7QGrO3z",
        "outputId": "85d818fe-8549-49a4-93ea-df80e323e18f"
      },
      "execution_count": 85,
      "outputs": [
        {
          "output_type": "stream",
          "name": "stdout",
          "text": [
            "{'subsample': 0.6, 'min_child_weight': 1, 'max_depth': 5, 'gamma': 1.5, 'colsample_bytree': 0.8}\n"
          ]
        }
      ]
    },
    {
      "cell_type": "code",
      "source": [
        "best_random = random_search.best_estimator_"
      ],
      "metadata": {
        "id": "S5aQ4B_DrTHB"
      },
      "execution_count": 86,
      "outputs": []
    },
    {
      "cell_type": "code",
      "source": [
        "pred = best_random.predict(A_test)"
      ],
      "metadata": {
        "id": "p1b7uUP_sSwd"
      },
      "execution_count": 87,
      "outputs": []
    },
    {
      "cell_type": "code",
      "source": [
        "print(classification_report(b_test,pred))"
      ],
      "metadata": {
        "colab": {
          "base_uri": "https://localhost:8080/"
        },
        "id": "O8hzbbfbsW8k",
        "outputId": "d280a108-e258-4f85-978a-0d8f858e2bbf"
      },
      "execution_count": 88,
      "outputs": [
        {
          "output_type": "stream",
          "name": "stdout",
          "text": [
            "              precision    recall  f1-score   support\n",
            "\n",
            "           0       1.00      0.96      0.98       160\n",
            "           2       0.97      1.00      0.98       182\n",
            "\n",
            "    accuracy                           0.98       342\n",
            "   macro avg       0.98      0.98      0.98       342\n",
            "weighted avg       0.98      0.98      0.98       342\n",
            "\n"
          ]
        }
      ]
    },
    {
      "cell_type": "code",
      "source": [
        "result = pd.DataFrame(pred,columns=['Output'])"
      ],
      "metadata": {
        "id": "RW1J8yqBscQM"
      },
      "execution_count": 89,
      "outputs": []
    },
    {
      "cell_type": "code",
      "source": [
        "result.to_csv('submission_file.csv', index=False)"
      ],
      "metadata": {
        "id": "pPA6G1DNqKW1"
      },
      "execution_count": null,
      "outputs": []
    },
    {
      "cell_type": "code",
      "source": [
        ""
      ],
      "metadata": {
        "id": "2eKDhV0KqL6S"
      },
      "execution_count": null,
      "outputs": []
    }
  ],
  "metadata": {
    "colab": {
      "collapsed_sections": [],
      "name": "Final Solution",
      "provenance": []
    },
    "kernelspec": {
      "display_name": "Python 3",
      "name": "python3"
    },
    "language_info": {
      "name": "python"
    }
  },
  "nbformat": 4,
  "nbformat_minor": 0
}